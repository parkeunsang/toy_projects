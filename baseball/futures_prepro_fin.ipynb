{
 "cells": [
  {
   "cell_type": "code",
   "execution_count": 1,
   "metadata": {},
   "outputs": [],
   "source": [
    "import pandas as pd\n",
    "import os\n",
    "from tqdm import tqdm\n",
    "from glob import glob\n",
    "import numpy as np"
   ]
  },
  {
   "cell_type": "code",
   "execution_count": 2,
   "metadata": {},
   "outputs": [
    {
     "data": {
      "text/html": [
       "        <script type=\"text/javascript\">\n",
       "        window.PlotlyConfig = {MathJaxConfig: 'local'};\n",
       "        if (window.MathJax) {MathJax.Hub.Config({SVG: {font: \"STIX-Web\"}});}\n",
       "        if (typeof require !== 'undefined') {\n",
       "        require.undef(\"plotly\");\n",
       "        requirejs.config({\n",
       "            paths: {\n",
       "                'plotly': ['https://cdn.plot.ly/plotly-latest.min']\n",
       "            }\n",
       "        });\n",
       "        require(['plotly'], function(Plotly) {\n",
       "            window._Plotly = Plotly;\n",
       "        });\n",
       "        }\n",
       "        </script>\n",
       "        "
      ]
     },
     "metadata": {},
     "output_type": "display_data"
    }
   ],
   "source": [
    "import cufflinks as cf\n",
    "cf.go_offline(connected=True)"
   ]
  },
  {
   "cell_type": "code",
   "execution_count": null,
   "metadata": {},
   "outputs": [],
   "source": [
    "fileNames=['baseball_' + str(x) + '.csv' for x in list(range(2015,2020))]\n",
    "\n",
    "taza = pd.DataFrame()\n",
    "for fileName in tqdm(fileNames):\n",
    "    \n",
    "    temp = pd.read_csv(fileName)\n",
    "    taza = taza.append(temp)"
   ]
  },
  {
   "cell_type": "code",
   "execution_count": 55,
   "metadata": {},
   "outputs": [
    {
     "data": {
      "application/vnd.plotly.v1+json": {
       "config": {
        "linkText": "Export to plot.ly",
        "plotlyServerURL": "https://plot.ly",
        "showLink": true
       },
       "data": [
        {
         "colorscale": [
          [
           0,
           "rgb(247,251,255)"
          ],
          [
           0.125,
           "rgb(222,235,247)"
          ],
          [
           0.25,
           "rgb(198,219,239)"
          ],
          [
           0.375,
           "rgb(158,202,225)"
          ],
          [
           0.5,
           "rgb(107,174,214)"
          ],
          [
           0.625,
           "rgb(66,146,198)"
          ],
          [
           0.75,
           "rgb(33,113,181)"
          ],
          [
           0.875,
           "rgb(8,81,156)"
          ],
          [
           1,
           "rgb(8,48,107)"
          ]
         ],
         "type": "heatmap",
         "x": [
          "GDAY_DS",
          "RBI",
          "RUN",
          "HIT",
          "P_HRA_RT",
          "P_AB_CN",
          "P_HIT_CN",
          "OBP",
          "OOO",
          "win"
         ],
         "y": [
          "GDAY_DS",
          "RBI",
          "RUN",
          "HIT",
          "P_HRA_RT",
          "P_AB_CN",
          "P_HIT_CN",
          "OBP",
          "OOO",
          "win"
         ],
         "z": [
          [
           1,
           -0.054048345034890616,
           -0.05754439197842056,
           -0.03673257868767386,
           -0.023024217094965445,
           -0.04399795862665264,
           -0.03868534659874062,
           -0.08256354184831594,
           -0.05013527115837881,
           0
          ],
          [
           -0.054048345034890616,
           1,
           0.9877824381789903,
           0.7888235230549816,
           0.6316211321141881,
           0.6160831931638732,
           0.8258128927195841,
           0.7584741222991246,
           0.7612247749462643,
           0.5451463024387815
          ],
          [
           -0.05754439197842056,
           0.9877824381789903,
           1,
           0.7910513250227341,
           0.6225024319458142,
           0.6323056771174232,
           0.8275264923725483,
           0.7662266754641303,
           0.7630956376074027,
           0.5559333502891193
          ],
          [
           -0.03673257868767386,
           0.7888235230549816,
           0.7910513250227341,
           1,
           0.5023582371198021,
           0.7262020174436717,
           0.779537091316132,
           0.830887347473355,
           0.9564740526542103,
           0.41232636264236244
          ],
          [
           -0.023024217094965445,
           0.6316211321141881,
           0.6225024319458142,
           0.5023582371198021,
           1,
           0.274424740225767,
           0.7462484073086482,
           0.473285426218998,
           0.5278825514421314,
           0.3868131489014734
          ],
          [
           -0.04399795862665264,
           0.6160831931638732,
           0.6323056771174232,
           0.7262020174436717,
           0.274424740225767,
           1,
           0.7516805569729089,
           0.7285643023489903,
           0.6792996274067705,
           0.3570732622194539
          ],
          [
           -0.03868534659874062,
           0.8258128927195841,
           0.8275264923725483,
           0.779537091316132,
           0.7462484073086482,
           0.7516805569729089,
           1,
           0.7217681969097092,
           0.7488662084595925,
           0.46315496692860814
          ],
          [
           -0.08256354184831594,
           0.7584741222991246,
           0.7662266754641303,
           0.830887347473355,
           0.473285426218998,
           0.7285643023489903,
           0.7217681969097092,
           1,
           0.8868628602417281,
           0.505729871547243
          ],
          [
           -0.05013527115837881,
           0.7612247749462643,
           0.7630956376074027,
           0.9564740526542103,
           0.5278825514421314,
           0.6792996274067705,
           0.7488662084595925,
           0.8868628602417281,
           1,
           0.48012787357401243
          ],
          [
           0,
           0.5451463024387815,
           0.5559333502891193,
           0.41232636264236244,
           0.3868131489014734,
           0.3570732622194539,
           0.46315496692860814,
           0.505729871547243,
           0.48012787357401243,
           1
          ]
         ],
         "zmax": 1,
         "zmin": -0.08256354184831594
        }
       ],
       "layout": {
        "legend": {
         "bgcolor": "#F5F6F9",
         "font": {
          "color": "#4D5663"
         }
        },
        "paper_bgcolor": "#F5F6F9",
        "plot_bgcolor": "#F5F6F9",
        "template": {
         "data": {
          "bar": [
           {
            "error_x": {
             "color": "#2a3f5f"
            },
            "error_y": {
             "color": "#2a3f5f"
            },
            "marker": {
             "line": {
              "color": "#E5ECF6",
              "width": 0.5
             }
            },
            "type": "bar"
           }
          ],
          "barpolar": [
           {
            "marker": {
             "line": {
              "color": "#E5ECF6",
              "width": 0.5
             }
            },
            "type": "barpolar"
           }
          ],
          "carpet": [
           {
            "aaxis": {
             "endlinecolor": "#2a3f5f",
             "gridcolor": "white",
             "linecolor": "white",
             "minorgridcolor": "white",
             "startlinecolor": "#2a3f5f"
            },
            "baxis": {
             "endlinecolor": "#2a3f5f",
             "gridcolor": "white",
             "linecolor": "white",
             "minorgridcolor": "white",
             "startlinecolor": "#2a3f5f"
            },
            "type": "carpet"
           }
          ],
          "choropleth": [
           {
            "colorbar": {
             "outlinewidth": 0,
             "ticks": ""
            },
            "type": "choropleth"
           }
          ],
          "contour": [
           {
            "colorbar": {
             "outlinewidth": 0,
             "ticks": ""
            },
            "colorscale": [
             [
              0,
              "#0d0887"
             ],
             [
              0.1111111111111111,
              "#46039f"
             ],
             [
              0.2222222222222222,
              "#7201a8"
             ],
             [
              0.3333333333333333,
              "#9c179e"
             ],
             [
              0.4444444444444444,
              "#bd3786"
             ],
             [
              0.5555555555555556,
              "#d8576b"
             ],
             [
              0.6666666666666666,
              "#ed7953"
             ],
             [
              0.7777777777777778,
              "#fb9f3a"
             ],
             [
              0.8888888888888888,
              "#fdca26"
             ],
             [
              1,
              "#f0f921"
             ]
            ],
            "type": "contour"
           }
          ],
          "contourcarpet": [
           {
            "colorbar": {
             "outlinewidth": 0,
             "ticks": ""
            },
            "type": "contourcarpet"
           }
          ],
          "heatmap": [
           {
            "colorbar": {
             "outlinewidth": 0,
             "ticks": ""
            },
            "colorscale": [
             [
              0,
              "#0d0887"
             ],
             [
              0.1111111111111111,
              "#46039f"
             ],
             [
              0.2222222222222222,
              "#7201a8"
             ],
             [
              0.3333333333333333,
              "#9c179e"
             ],
             [
              0.4444444444444444,
              "#bd3786"
             ],
             [
              0.5555555555555556,
              "#d8576b"
             ],
             [
              0.6666666666666666,
              "#ed7953"
             ],
             [
              0.7777777777777778,
              "#fb9f3a"
             ],
             [
              0.8888888888888888,
              "#fdca26"
             ],
             [
              1,
              "#f0f921"
             ]
            ],
            "type": "heatmap"
           }
          ],
          "heatmapgl": [
           {
            "colorbar": {
             "outlinewidth": 0,
             "ticks": ""
            },
            "colorscale": [
             [
              0,
              "#0d0887"
             ],
             [
              0.1111111111111111,
              "#46039f"
             ],
             [
              0.2222222222222222,
              "#7201a8"
             ],
             [
              0.3333333333333333,
              "#9c179e"
             ],
             [
              0.4444444444444444,
              "#bd3786"
             ],
             [
              0.5555555555555556,
              "#d8576b"
             ],
             [
              0.6666666666666666,
              "#ed7953"
             ],
             [
              0.7777777777777778,
              "#fb9f3a"
             ],
             [
              0.8888888888888888,
              "#fdca26"
             ],
             [
              1,
              "#f0f921"
             ]
            ],
            "type": "heatmapgl"
           }
          ],
          "histogram": [
           {
            "marker": {
             "colorbar": {
              "outlinewidth": 0,
              "ticks": ""
             }
            },
            "type": "histogram"
           }
          ],
          "histogram2d": [
           {
            "colorbar": {
             "outlinewidth": 0,
             "ticks": ""
            },
            "colorscale": [
             [
              0,
              "#0d0887"
             ],
             [
              0.1111111111111111,
              "#46039f"
             ],
             [
              0.2222222222222222,
              "#7201a8"
             ],
             [
              0.3333333333333333,
              "#9c179e"
             ],
             [
              0.4444444444444444,
              "#bd3786"
             ],
             [
              0.5555555555555556,
              "#d8576b"
             ],
             [
              0.6666666666666666,
              "#ed7953"
             ],
             [
              0.7777777777777778,
              "#fb9f3a"
             ],
             [
              0.8888888888888888,
              "#fdca26"
             ],
             [
              1,
              "#f0f921"
             ]
            ],
            "type": "histogram2d"
           }
          ],
          "histogram2dcontour": [
           {
            "colorbar": {
             "outlinewidth": 0,
             "ticks": ""
            },
            "colorscale": [
             [
              0,
              "#0d0887"
             ],
             [
              0.1111111111111111,
              "#46039f"
             ],
             [
              0.2222222222222222,
              "#7201a8"
             ],
             [
              0.3333333333333333,
              "#9c179e"
             ],
             [
              0.4444444444444444,
              "#bd3786"
             ],
             [
              0.5555555555555556,
              "#d8576b"
             ],
             [
              0.6666666666666666,
              "#ed7953"
             ],
             [
              0.7777777777777778,
              "#fb9f3a"
             ],
             [
              0.8888888888888888,
              "#fdca26"
             ],
             [
              1,
              "#f0f921"
             ]
            ],
            "type": "histogram2dcontour"
           }
          ],
          "mesh3d": [
           {
            "colorbar": {
             "outlinewidth": 0,
             "ticks": ""
            },
            "type": "mesh3d"
           }
          ],
          "parcoords": [
           {
            "line": {
             "colorbar": {
              "outlinewidth": 0,
              "ticks": ""
             }
            },
            "type": "parcoords"
           }
          ],
          "pie": [
           {
            "automargin": true,
            "type": "pie"
           }
          ],
          "scatter": [
           {
            "marker": {
             "colorbar": {
              "outlinewidth": 0,
              "ticks": ""
             }
            },
            "type": "scatter"
           }
          ],
          "scatter3d": [
           {
            "line": {
             "colorbar": {
              "outlinewidth": 0,
              "ticks": ""
             }
            },
            "marker": {
             "colorbar": {
              "outlinewidth": 0,
              "ticks": ""
             }
            },
            "type": "scatter3d"
           }
          ],
          "scattercarpet": [
           {
            "marker": {
             "colorbar": {
              "outlinewidth": 0,
              "ticks": ""
             }
            },
            "type": "scattercarpet"
           }
          ],
          "scattergeo": [
           {
            "marker": {
             "colorbar": {
              "outlinewidth": 0,
              "ticks": ""
             }
            },
            "type": "scattergeo"
           }
          ],
          "scattergl": [
           {
            "marker": {
             "colorbar": {
              "outlinewidth": 0,
              "ticks": ""
             }
            },
            "type": "scattergl"
           }
          ],
          "scattermapbox": [
           {
            "marker": {
             "colorbar": {
              "outlinewidth": 0,
              "ticks": ""
             }
            },
            "type": "scattermapbox"
           }
          ],
          "scatterpolar": [
           {
            "marker": {
             "colorbar": {
              "outlinewidth": 0,
              "ticks": ""
             }
            },
            "type": "scatterpolar"
           }
          ],
          "scatterpolargl": [
           {
            "marker": {
             "colorbar": {
              "outlinewidth": 0,
              "ticks": ""
             }
            },
            "type": "scatterpolargl"
           }
          ],
          "scatterternary": [
           {
            "marker": {
             "colorbar": {
              "outlinewidth": 0,
              "ticks": ""
             }
            },
            "type": "scatterternary"
           }
          ],
          "surface": [
           {
            "colorbar": {
             "outlinewidth": 0,
             "ticks": ""
            },
            "colorscale": [
             [
              0,
              "#0d0887"
             ],
             [
              0.1111111111111111,
              "#46039f"
             ],
             [
              0.2222222222222222,
              "#7201a8"
             ],
             [
              0.3333333333333333,
              "#9c179e"
             ],
             [
              0.4444444444444444,
              "#bd3786"
             ],
             [
              0.5555555555555556,
              "#d8576b"
             ],
             [
              0.6666666666666666,
              "#ed7953"
             ],
             [
              0.7777777777777778,
              "#fb9f3a"
             ],
             [
              0.8888888888888888,
              "#fdca26"
             ],
             [
              1,
              "#f0f921"
             ]
            ],
            "type": "surface"
           }
          ],
          "table": [
           {
            "cells": {
             "fill": {
              "color": "#EBF0F8"
             },
             "line": {
              "color": "white"
             }
            },
            "header": {
             "fill": {
              "color": "#C8D4E3"
             },
             "line": {
              "color": "white"
             }
            },
            "type": "table"
           }
          ]
         },
         "layout": {
          "annotationdefaults": {
           "arrowcolor": "#2a3f5f",
           "arrowhead": 0,
           "arrowwidth": 1
          },
          "coloraxis": {
           "colorbar": {
            "outlinewidth": 0,
            "ticks": ""
           }
          },
          "colorscale": {
           "diverging": [
            [
             0,
             "#8e0152"
            ],
            [
             0.1,
             "#c51b7d"
            ],
            [
             0.2,
             "#de77ae"
            ],
            [
             0.3,
             "#f1b6da"
            ],
            [
             0.4,
             "#fde0ef"
            ],
            [
             0.5,
             "#f7f7f7"
            ],
            [
             0.6,
             "#e6f5d0"
            ],
            [
             0.7,
             "#b8e186"
            ],
            [
             0.8,
             "#7fbc41"
            ],
            [
             0.9,
             "#4d9221"
            ],
            [
             1,
             "#276419"
            ]
           ],
           "sequential": [
            [
             0,
             "#0d0887"
            ],
            [
             0.1111111111111111,
             "#46039f"
            ],
            [
             0.2222222222222222,
             "#7201a8"
            ],
            [
             0.3333333333333333,
             "#9c179e"
            ],
            [
             0.4444444444444444,
             "#bd3786"
            ],
            [
             0.5555555555555556,
             "#d8576b"
            ],
            [
             0.6666666666666666,
             "#ed7953"
            ],
            [
             0.7777777777777778,
             "#fb9f3a"
            ],
            [
             0.8888888888888888,
             "#fdca26"
            ],
            [
             1,
             "#f0f921"
            ]
           ],
           "sequentialminus": [
            [
             0,
             "#0d0887"
            ],
            [
             0.1111111111111111,
             "#46039f"
            ],
            [
             0.2222222222222222,
             "#7201a8"
            ],
            [
             0.3333333333333333,
             "#9c179e"
            ],
            [
             0.4444444444444444,
             "#bd3786"
            ],
            [
             0.5555555555555556,
             "#d8576b"
            ],
            [
             0.6666666666666666,
             "#ed7953"
            ],
            [
             0.7777777777777778,
             "#fb9f3a"
            ],
            [
             0.8888888888888888,
             "#fdca26"
            ],
            [
             1,
             "#f0f921"
            ]
           ]
          },
          "colorway": [
           "#636efa",
           "#EF553B",
           "#00cc96",
           "#ab63fa",
           "#FFA15A",
           "#19d3f3",
           "#FF6692",
           "#B6E880",
           "#FF97FF",
           "#FECB52"
          ],
          "font": {
           "color": "#2a3f5f"
          },
          "geo": {
           "bgcolor": "white",
           "lakecolor": "white",
           "landcolor": "#E5ECF6",
           "showlakes": true,
           "showland": true,
           "subunitcolor": "white"
          },
          "hoverlabel": {
           "align": "left"
          },
          "hovermode": "closest",
          "mapbox": {
           "style": "light"
          },
          "paper_bgcolor": "white",
          "plot_bgcolor": "#E5ECF6",
          "polar": {
           "angularaxis": {
            "gridcolor": "white",
            "linecolor": "white",
            "ticks": ""
           },
           "bgcolor": "#E5ECF6",
           "radialaxis": {
            "gridcolor": "white",
            "linecolor": "white",
            "ticks": ""
           }
          },
          "scene": {
           "xaxis": {
            "backgroundcolor": "#E5ECF6",
            "gridcolor": "white",
            "gridwidth": 2,
            "linecolor": "white",
            "showbackground": true,
            "ticks": "",
            "zerolinecolor": "white"
           },
           "yaxis": {
            "backgroundcolor": "#E5ECF6",
            "gridcolor": "white",
            "gridwidth": 2,
            "linecolor": "white",
            "showbackground": true,
            "ticks": "",
            "zerolinecolor": "white"
           },
           "zaxis": {
            "backgroundcolor": "#E5ECF6",
            "gridcolor": "white",
            "gridwidth": 2,
            "linecolor": "white",
            "showbackground": true,
            "ticks": "",
            "zerolinecolor": "white"
           }
          },
          "shapedefaults": {
           "line": {
            "color": "#2a3f5f"
           }
          },
          "ternary": {
           "aaxis": {
            "gridcolor": "white",
            "linecolor": "white",
            "ticks": ""
           },
           "baxis": {
            "gridcolor": "white",
            "linecolor": "white",
            "ticks": ""
           },
           "bgcolor": "#E5ECF6",
           "caxis": {
            "gridcolor": "white",
            "linecolor": "white",
            "ticks": ""
           }
          },
          "title": {
           "x": 0.05
          },
          "xaxis": {
           "automargin": true,
           "gridcolor": "white",
           "linecolor": "white",
           "ticks": "",
           "title": {
            "standoff": 15
           },
           "zerolinecolor": "white",
           "zerolinewidth": 2
          },
          "yaxis": {
           "automargin": true,
           "gridcolor": "white",
           "linecolor": "white",
           "ticks": "",
           "title": {
            "standoff": 15
           },
           "zerolinecolor": "white",
           "zerolinewidth": 2
          }
         }
        },
        "title": {
         "font": {
          "color": "#4D5663"
         }
        },
        "xaxis": {
         "gridcolor": "#E1E5ED",
         "showgrid": true,
         "tickfont": {
          "color": "#4D5663"
         },
         "title": {
          "font": {
           "color": "#4D5663"
          },
          "text": ""
         },
         "zerolinecolor": "#E1E5ED"
        },
        "yaxis": {
         "gridcolor": "#E1E5ED",
         "showgrid": true,
         "tickfont": {
          "color": "#4D5663"
         },
         "title": {
          "font": {
           "color": "#4D5663"
          },
          "text": ""
         },
         "zerolinecolor": "#E1E5ED"
        }
       }
      },
      "text/html": [
       "<div>\n",
       "        \n",
       "        \n",
       "            <div id=\"488fe16a-3a73-46f1-992c-3448261176e6\" class=\"plotly-graph-div\" style=\"height:525px; width:100%;\"></div>\n",
       "            <script type=\"text/javascript\">\n",
       "                require([\"plotly\"], function(Plotly) {\n",
       "                    window.PLOTLYENV=window.PLOTLYENV || {};\n",
       "                    window.PLOTLYENV.BASE_URL='https://plot.ly';\n",
       "                    \n",
       "                if (document.getElementById(\"488fe16a-3a73-46f1-992c-3448261176e6\")) {\n",
       "                    Plotly.newPlot(\n",
       "                        '488fe16a-3a73-46f1-992c-3448261176e6',\n",
       "                        [{\"colorscale\": [[0.0, \"rgb(247,251,255)\"], [0.125, \"rgb(222,235,247)\"], [0.25, \"rgb(198,219,239)\"], [0.375, \"rgb(158,202,225)\"], [0.5, \"rgb(107,174,214)\"], [0.625, \"rgb(66,146,198)\"], [0.75, \"rgb(33,113,181)\"], [0.875, \"rgb(8,81,156)\"], [1.0, \"rgb(8,48,107)\"]], \"type\": \"heatmap\", \"x\": [\"GDAY_DS\", \"RBI\", \"RUN\", \"HIT\", \"P_HRA_RT\", \"P_AB_CN\", \"P_HIT_CN\", \"OBP\", \"OOO\", \"win\"], \"y\": [\"GDAY_DS\", \"RBI\", \"RUN\", \"HIT\", \"P_HRA_RT\", \"P_AB_CN\", \"P_HIT_CN\", \"OBP\", \"OOO\", \"win\"], \"z\": [[1.0, -0.054048345034890616, -0.05754439197842056, -0.03673257868767386, -0.023024217094965445, -0.04399795862665264, -0.03868534659874062, -0.08256354184831594, -0.05013527115837881, 0.0], [-0.054048345034890616, 1.0, 0.9877824381789903, 0.7888235230549816, 0.6316211321141881, 0.6160831931638732, 0.8258128927195841, 0.7584741222991246, 0.7612247749462643, 0.5451463024387815], [-0.05754439197842056, 0.9877824381789903, 1.0, 0.7910513250227341, 0.6225024319458142, 0.6323056771174232, 0.8275264923725483, 0.7662266754641303, 0.7630956376074027, 0.5559333502891193], [-0.03673257868767386, 0.7888235230549816, 0.7910513250227341, 1.0, 0.5023582371198021, 0.7262020174436717, 0.779537091316132, 0.830887347473355, 0.9564740526542103, 0.41232636264236244], [-0.023024217094965445, 0.6316211321141881, 0.6225024319458142, 0.5023582371198021, 1.0, 0.274424740225767, 0.7462484073086482, 0.473285426218998, 0.5278825514421314, 0.3868131489014734], [-0.04399795862665264, 0.6160831931638732, 0.6323056771174232, 0.7262020174436717, 0.274424740225767, 1.0, 0.7516805569729089, 0.7285643023489903, 0.6792996274067705, 0.3570732622194539], [-0.03868534659874062, 0.8258128927195841, 0.8275264923725483, 0.779537091316132, 0.7462484073086482, 0.7516805569729089, 1.0, 0.7217681969097092, 0.7488662084595925, 0.46315496692860814], [-0.08256354184831594, 0.7584741222991246, 0.7662266754641303, 0.830887347473355, 0.473285426218998, 0.7285643023489903, 0.7217681969097092, 1.0, 0.8868628602417281, 0.505729871547243], [-0.05013527115837881, 0.7612247749462643, 0.7630956376074027, 0.9564740526542103, 0.5278825514421314, 0.6792996274067705, 0.7488662084595925, 0.8868628602417281, 1.0, 0.48012787357401243], [0.0, 0.5451463024387815, 0.5559333502891193, 0.41232636264236244, 0.3868131489014734, 0.3570732622194539, 0.46315496692860814, 0.505729871547243, 0.48012787357401243, 1.0]], \"zmax\": 1.0, \"zmin\": -0.08256354184831594}],\n",
       "                        {\"legend\": {\"bgcolor\": \"#F5F6F9\", \"font\": {\"color\": \"#4D5663\"}}, \"paper_bgcolor\": \"#F5F6F9\", \"plot_bgcolor\": \"#F5F6F9\", \"template\": {\"data\": {\"bar\": [{\"error_x\": {\"color\": \"#2a3f5f\"}, \"error_y\": {\"color\": \"#2a3f5f\"}, \"marker\": {\"line\": {\"color\": \"#E5ECF6\", \"width\": 0.5}}, \"type\": \"bar\"}], \"barpolar\": [{\"marker\": {\"line\": {\"color\": \"#E5ECF6\", \"width\": 0.5}}, \"type\": \"barpolar\"}], \"carpet\": [{\"aaxis\": {\"endlinecolor\": \"#2a3f5f\", \"gridcolor\": \"white\", \"linecolor\": \"white\", \"minorgridcolor\": \"white\", \"startlinecolor\": \"#2a3f5f\"}, \"baxis\": {\"endlinecolor\": \"#2a3f5f\", \"gridcolor\": \"white\", \"linecolor\": \"white\", \"minorgridcolor\": \"white\", \"startlinecolor\": \"#2a3f5f\"}, \"type\": \"carpet\"}], \"choropleth\": [{\"colorbar\": {\"outlinewidth\": 0, \"ticks\": \"\"}, \"type\": \"choropleth\"}], \"contour\": [{\"colorbar\": {\"outlinewidth\": 0, \"ticks\": \"\"}, \"colorscale\": [[0.0, \"#0d0887\"], [0.1111111111111111, \"#46039f\"], [0.2222222222222222, \"#7201a8\"], [0.3333333333333333, \"#9c179e\"], [0.4444444444444444, \"#bd3786\"], [0.5555555555555556, \"#d8576b\"], [0.6666666666666666, \"#ed7953\"], [0.7777777777777778, \"#fb9f3a\"], [0.8888888888888888, \"#fdca26\"], [1.0, \"#f0f921\"]], \"type\": \"contour\"}], \"contourcarpet\": [{\"colorbar\": {\"outlinewidth\": 0, \"ticks\": \"\"}, \"type\": \"contourcarpet\"}], \"heatmap\": [{\"colorbar\": {\"outlinewidth\": 0, \"ticks\": \"\"}, \"colorscale\": [[0.0, \"#0d0887\"], [0.1111111111111111, \"#46039f\"], [0.2222222222222222, \"#7201a8\"], [0.3333333333333333, \"#9c179e\"], [0.4444444444444444, \"#bd3786\"], [0.5555555555555556, \"#d8576b\"], [0.6666666666666666, \"#ed7953\"], [0.7777777777777778, \"#fb9f3a\"], [0.8888888888888888, \"#fdca26\"], [1.0, \"#f0f921\"]], \"type\": \"heatmap\"}], \"heatmapgl\": [{\"colorbar\": {\"outlinewidth\": 0, \"ticks\": \"\"}, \"colorscale\": [[0.0, \"#0d0887\"], [0.1111111111111111, \"#46039f\"], [0.2222222222222222, \"#7201a8\"], [0.3333333333333333, \"#9c179e\"], [0.4444444444444444, \"#bd3786\"], [0.5555555555555556, \"#d8576b\"], [0.6666666666666666, \"#ed7953\"], [0.7777777777777778, \"#fb9f3a\"], [0.8888888888888888, \"#fdca26\"], [1.0, \"#f0f921\"]], \"type\": \"heatmapgl\"}], \"histogram\": [{\"marker\": {\"colorbar\": {\"outlinewidth\": 0, \"ticks\": \"\"}}, \"type\": \"histogram\"}], \"histogram2d\": [{\"colorbar\": {\"outlinewidth\": 0, \"ticks\": \"\"}, \"colorscale\": [[0.0, \"#0d0887\"], [0.1111111111111111, \"#46039f\"], [0.2222222222222222, \"#7201a8\"], [0.3333333333333333, \"#9c179e\"], [0.4444444444444444, \"#bd3786\"], [0.5555555555555556, \"#d8576b\"], [0.6666666666666666, \"#ed7953\"], [0.7777777777777778, \"#fb9f3a\"], [0.8888888888888888, \"#fdca26\"], [1.0, \"#f0f921\"]], \"type\": \"histogram2d\"}], \"histogram2dcontour\": [{\"colorbar\": {\"outlinewidth\": 0, \"ticks\": \"\"}, \"colorscale\": [[0.0, \"#0d0887\"], [0.1111111111111111, \"#46039f\"], [0.2222222222222222, \"#7201a8\"], [0.3333333333333333, \"#9c179e\"], [0.4444444444444444, \"#bd3786\"], [0.5555555555555556, \"#d8576b\"], [0.6666666666666666, \"#ed7953\"], [0.7777777777777778, \"#fb9f3a\"], [0.8888888888888888, \"#fdca26\"], [1.0, \"#f0f921\"]], \"type\": \"histogram2dcontour\"}], \"mesh3d\": [{\"colorbar\": {\"outlinewidth\": 0, \"ticks\": \"\"}, \"type\": \"mesh3d\"}], \"parcoords\": [{\"line\": {\"colorbar\": {\"outlinewidth\": 0, \"ticks\": \"\"}}, \"type\": \"parcoords\"}], \"pie\": [{\"automargin\": true, \"type\": \"pie\"}], \"scatter\": [{\"marker\": {\"colorbar\": {\"outlinewidth\": 0, \"ticks\": \"\"}}, \"type\": \"scatter\"}], \"scatter3d\": [{\"line\": {\"colorbar\": {\"outlinewidth\": 0, \"ticks\": \"\"}}, \"marker\": {\"colorbar\": {\"outlinewidth\": 0, \"ticks\": \"\"}}, \"type\": \"scatter3d\"}], \"scattercarpet\": [{\"marker\": {\"colorbar\": {\"outlinewidth\": 0, \"ticks\": \"\"}}, \"type\": \"scattercarpet\"}], \"scattergeo\": [{\"marker\": {\"colorbar\": {\"outlinewidth\": 0, \"ticks\": \"\"}}, \"type\": \"scattergeo\"}], \"scattergl\": [{\"marker\": {\"colorbar\": {\"outlinewidth\": 0, \"ticks\": \"\"}}, \"type\": \"scattergl\"}], \"scattermapbox\": [{\"marker\": {\"colorbar\": {\"outlinewidth\": 0, \"ticks\": \"\"}}, \"type\": \"scattermapbox\"}], \"scatterpolar\": [{\"marker\": {\"colorbar\": {\"outlinewidth\": 0, \"ticks\": \"\"}}, \"type\": \"scatterpolar\"}], \"scatterpolargl\": [{\"marker\": {\"colorbar\": {\"outlinewidth\": 0, \"ticks\": \"\"}}, \"type\": \"scatterpolargl\"}], \"scatterternary\": [{\"marker\": {\"colorbar\": {\"outlinewidth\": 0, \"ticks\": \"\"}}, \"type\": \"scatterternary\"}], \"surface\": [{\"colorbar\": {\"outlinewidth\": 0, \"ticks\": \"\"}, \"colorscale\": [[0.0, \"#0d0887\"], [0.1111111111111111, \"#46039f\"], [0.2222222222222222, \"#7201a8\"], [0.3333333333333333, \"#9c179e\"], [0.4444444444444444, \"#bd3786\"], [0.5555555555555556, \"#d8576b\"], [0.6666666666666666, \"#ed7953\"], [0.7777777777777778, \"#fb9f3a\"], [0.8888888888888888, \"#fdca26\"], [1.0, \"#f0f921\"]], \"type\": \"surface\"}], \"table\": [{\"cells\": {\"fill\": {\"color\": \"#EBF0F8\"}, \"line\": {\"color\": \"white\"}}, \"header\": {\"fill\": {\"color\": \"#C8D4E3\"}, \"line\": {\"color\": \"white\"}}, \"type\": \"table\"}]}, \"layout\": {\"annotationdefaults\": {\"arrowcolor\": \"#2a3f5f\", \"arrowhead\": 0, \"arrowwidth\": 1}, \"coloraxis\": {\"colorbar\": {\"outlinewidth\": 0, \"ticks\": \"\"}}, \"colorscale\": {\"diverging\": [[0, \"#8e0152\"], [0.1, \"#c51b7d\"], [0.2, \"#de77ae\"], [0.3, \"#f1b6da\"], [0.4, \"#fde0ef\"], [0.5, \"#f7f7f7\"], [0.6, \"#e6f5d0\"], [0.7, \"#b8e186\"], [0.8, \"#7fbc41\"], [0.9, \"#4d9221\"], [1, \"#276419\"]], \"sequential\": [[0.0, \"#0d0887\"], [0.1111111111111111, \"#46039f\"], [0.2222222222222222, \"#7201a8\"], [0.3333333333333333, \"#9c179e\"], [0.4444444444444444, \"#bd3786\"], [0.5555555555555556, \"#d8576b\"], [0.6666666666666666, \"#ed7953\"], [0.7777777777777778, \"#fb9f3a\"], [0.8888888888888888, \"#fdca26\"], [1.0, \"#f0f921\"]], \"sequentialminus\": [[0.0, \"#0d0887\"], [0.1111111111111111, \"#46039f\"], [0.2222222222222222, \"#7201a8\"], [0.3333333333333333, \"#9c179e\"], [0.4444444444444444, \"#bd3786\"], [0.5555555555555556, \"#d8576b\"], [0.6666666666666666, \"#ed7953\"], [0.7777777777777778, \"#fb9f3a\"], [0.8888888888888888, \"#fdca26\"], [1.0, \"#f0f921\"]]}, \"colorway\": [\"#636efa\", \"#EF553B\", \"#00cc96\", \"#ab63fa\", \"#FFA15A\", \"#19d3f3\", \"#FF6692\", \"#B6E880\", \"#FF97FF\", \"#FECB52\"], \"font\": {\"color\": \"#2a3f5f\"}, \"geo\": {\"bgcolor\": \"white\", \"lakecolor\": \"white\", \"landcolor\": \"#E5ECF6\", \"showlakes\": true, \"showland\": true, \"subunitcolor\": \"white\"}, \"hoverlabel\": {\"align\": \"left\"}, \"hovermode\": \"closest\", \"mapbox\": {\"style\": \"light\"}, \"paper_bgcolor\": \"white\", \"plot_bgcolor\": \"#E5ECF6\", \"polar\": {\"angularaxis\": {\"gridcolor\": \"white\", \"linecolor\": \"white\", \"ticks\": \"\"}, \"bgcolor\": \"#E5ECF6\", \"radialaxis\": {\"gridcolor\": \"white\", \"linecolor\": \"white\", \"ticks\": \"\"}}, \"scene\": {\"xaxis\": {\"backgroundcolor\": \"#E5ECF6\", \"gridcolor\": \"white\", \"gridwidth\": 2, \"linecolor\": \"white\", \"showbackground\": true, \"ticks\": \"\", \"zerolinecolor\": \"white\"}, \"yaxis\": {\"backgroundcolor\": \"#E5ECF6\", \"gridcolor\": \"white\", \"gridwidth\": 2, \"linecolor\": \"white\", \"showbackground\": true, \"ticks\": \"\", \"zerolinecolor\": \"white\"}, \"zaxis\": {\"backgroundcolor\": \"#E5ECF6\", \"gridcolor\": \"white\", \"gridwidth\": 2, \"linecolor\": \"white\", \"showbackground\": true, \"ticks\": \"\", \"zerolinecolor\": \"white\"}}, \"shapedefaults\": {\"line\": {\"color\": \"#2a3f5f\"}}, \"ternary\": {\"aaxis\": {\"gridcolor\": \"white\", \"linecolor\": \"white\", \"ticks\": \"\"}, \"baxis\": {\"gridcolor\": \"white\", \"linecolor\": \"white\", \"ticks\": \"\"}, \"bgcolor\": \"#E5ECF6\", \"caxis\": {\"gridcolor\": \"white\", \"linecolor\": \"white\", \"ticks\": \"\"}}, \"title\": {\"x\": 0.05}, \"xaxis\": {\"automargin\": true, \"gridcolor\": \"white\", \"linecolor\": \"white\", \"ticks\": \"\", \"title\": {\"standoff\": 15}, \"zerolinecolor\": \"white\", \"zerolinewidth\": 2}, \"yaxis\": {\"automargin\": true, \"gridcolor\": \"white\", \"linecolor\": \"white\", \"ticks\": \"\", \"title\": {\"standoff\": 15}, \"zerolinecolor\": \"white\", \"zerolinewidth\": 2}}}, \"title\": {\"font\": {\"color\": \"#4D5663\"}}, \"xaxis\": {\"gridcolor\": \"#E1E5ED\", \"showgrid\": true, \"tickfont\": {\"color\": \"#4D5663\"}, \"title\": {\"font\": {\"color\": \"#4D5663\"}, \"text\": \"\"}, \"zerolinecolor\": \"#E1E5ED\"}, \"yaxis\": {\"gridcolor\": \"#E1E5ED\", \"showgrid\": true, \"tickfont\": {\"color\": \"#4D5663\"}, \"title\": {\"font\": {\"color\": \"#4D5663\"}, \"text\": \"\"}, \"zerolinecolor\": \"#E1E5ED\"}},\n",
       "                        {\"showLink\": true, \"linkText\": \"Export to plot.ly\", \"plotlyServerURL\": \"https://plot.ly\", \"responsive\": true}\n",
       "                    ).then(function(){\n",
       "                            \n",
       "var gd = document.getElementById('488fe16a-3a73-46f1-992c-3448261176e6');\n",
       "var x = new MutationObserver(function (mutations, observer) {{\n",
       "        var display = window.getComputedStyle(gd).display;\n",
       "        if (!display || display === 'none') {{\n",
       "            console.log([gd, 'removed!']);\n",
       "            Plotly.purge(gd);\n",
       "            observer.disconnect();\n",
       "        }}\n",
       "}});\n",
       "\n",
       "// Listen for the removal of the full notebook cells\n",
       "var notebookContainer = gd.closest('#notebook-container');\n",
       "if (notebookContainer) {{\n",
       "    x.observe(notebookContainer, {childList: true});\n",
       "}}\n",
       "\n",
       "// Listen for the clearing of the current output cell\n",
       "var outputEl = gd.closest('.output');\n",
       "if (outputEl) {{\n",
       "    x.observe(outputEl, {childList: true});\n",
       "}}\n",
       "\n",
       "                        })\n",
       "                };\n",
       "                });\n",
       "            </script>\n",
       "        </div>"
      ]
     },
     "metadata": {},
     "output_type": "display_data"
    }
   ],
   "source": [
    "taza.corr().iplot(kind='heatmap',colorscale=\"Blues\")"
   ]
  },
  {
   "cell_type": "code",
   "execution_count": null,
   "metadata": {},
   "outputs": [],
   "source": [
    "colnames = ['G_ID','GDAY_DS','T_ID','VS_T_ID','TB_SC'] + taza.corr()[taza.corr()['win']>0.3].index.tolist()\n",
    "\n",
    "taza = taza[colnames]\n",
    "\n",
    "taza['YEAR']=taza['G_ID'].str[:4]\n",
    "years = [str(x) for x in range(2015,2020)]"
   ]
  },
  {
   "cell_type": "code",
   "execution_count": null,
   "metadata": {},
   "outputs": [],
   "source": [
    "print(colnames)"
   ]
  },
  {
   "cell_type": "code",
   "execution_count": null,
   "metadata": {},
   "outputs": [],
   "source": [
    "def weightedMean(arr):\n",
    "    return np.average(arr, weights=np.arange(0, len(arr), 1))"
   ]
  },
  {
   "cell_type": "code",
   "execution_count": 4,
   "metadata": {},
   "outputs": [],
   "source": [
    "class GetX():\n",
    "    def __init__(self,gi,N, taza):\n",
    "        self.gi = gi\n",
    "        self.N = N\n",
    "        self.taza =taza\n",
    "        self.date = gi[:8]\n",
    "        self.team1 = gi[8:10]\n",
    "        self.team2 = gi[10:12]\n",
    "    \n",
    "    def makeR(self,team):\n",
    "        '''\n",
    "        df1은 team1의 공격(타자)데이터\n",
    "        df2는 team1의 수비(실점)데이터\n",
    "        '''\n",
    "        df1 = self.taza[self.taza['T_ID']==team]\n",
    "        df1 = df1.reset_index(drop=True)\n",
    "        \n",
    "        df2 = self.taza[self.taza['VS_T_ID']==team]\n",
    "        df2 = df2.reset_index(drop=True)\n",
    "        \n",
    "        \n",
    "        \n",
    "        dateIdx = df1[df1['GDAY_DS']==int(self.date)].index[0]\n",
    "        if(dateIdx-self.N<0):\n",
    "            return []\n",
    "        else:\n",
    "            first = dateIdx-self.N\n",
    "            \n",
    "        df1 = df1[first:dateIdx]\n",
    "        sr1 = df1.iloc[:,5:-1].apply(lambda x:weightedMean(x),axis=0)\n",
    "        \n",
    "        df2 = df2[first:dateIdx]\n",
    "        sr2 = df2.iloc[:,5:-1].apply(lambda x:weightedMean(x),axis=0)\n",
    "        cN = sr2.index.values\n",
    "        sr2.index = [x+'_VS' for x in cN]\n",
    "        \n",
    "        if(len(sr1)<2):\n",
    "            return []\n",
    "        \n",
    "        temp = pd.Series({\"WIN_RATIO\":weightedMean(df1['win'])})\n",
    "        result = sr1.append(sr2)\n",
    "        result = result.append(temp)\n",
    "        \n",
    "        return result\n",
    "\n",
    "\n",
    "    def makeDf(self):\n",
    "        df1 = self.taza[self.taza['G_ID']==self.gi]\n",
    "\n",
    "        result1 = self.makeR(self.team1) #어웨이팀의 정보\n",
    "        result2 = self.makeR(self.team2) #홈(상대)팀의 정보\n",
    "\n",
    "        \n",
    "\n",
    "        if((len(result1)<=1)|(len(result2)<=1)):\n",
    "            return []\n",
    "        \n",
    "        cN = result2.index.values\n",
    "        result2.index = [x+'_ENE' for x in cN]\n",
    "        result = result1.append(result2)\n",
    "        \n",
    "        tempDf = self.taza[self.taza['GDAY_DS']<int(self.date)]\n",
    "        tempDf = tempDf[(tempDf['T_ID']==self.team1)&(tempDf['VS_T_ID']==self.team2)]\n",
    "        if(len(tempDf)==0):\n",
    "            result['RELATIVE_WIN'] = 0.5\n",
    "        else:\n",
    "\n",
    "            result['RELATIVE_WIN'] = tempDf['win'][-10:].mean()\n",
    "        result['G_ID']=self.gi\n",
    "        result['WIN'] = self.taza[self.taza['G_ID']==gi].iloc[0,-1]\n",
    "        \n",
    "\n",
    "        return result.to_dict()\n",
    "    "
   ]
  },
  {
   "cell_type": "code",
   "execution_count": 56,
   "metadata": {},
   "outputs": [],
   "source": [
    "def gapLeftRight(df):\n",
    "    dfTemp = df.iloc[:,:-3].copy()\n",
    "\n",
    "    n = dfTemp.shape[1]//2\n",
    "\n",
    "    dfLeft = dfTemp.iloc[:,:n]\n",
    "    dfRight = dfTemp.iloc[:,n:]\n",
    "\n",
    "    dfColumns = dfLeft.columns\n",
    "\n",
    "    dfRight.columns = dfColumns\n",
    "\n",
    "    dfResult = dfLeft-dfRight\n",
    "\n",
    "    dfResult.columns = [x+'_GAP' for x in dfColumns]\n",
    "    dfResult = pd.concat([dfResult, df.iloc[:,-3:]], axis=1)\n",
    "    return dfResult"
   ]
  },
  {
   "cell_type": "code",
   "execution_count": 57,
   "metadata": {},
   "outputs": [],
   "source": [
    "def gapLeftRightRandom(df):\n",
    "    dfTemp = df.iloc[:,:-3].copy()\n",
    "\n",
    "    n = dfTemp.shape[1]//2\n",
    "\n",
    "    dfLeft = dfTemp.iloc[:,:n]\n",
    "    dfRight = dfTemp.iloc[:,n:]\n",
    "\n",
    "    dfColumns = dfLeft.columns\n",
    "\n",
    "    dfRight.columns = dfColumns\n",
    "\n",
    "    dfResult = dfLeft-dfRight\n",
    "\n",
    "    dfResult.columns = [x+'_GAP' for x in dfColumns]\n",
    "    dfResult = pd.concat([dfResult, df.iloc[:,-3:]], axis=1)\n",
    "    #Home, Base randomize\n",
    "    dfResult=dfResult.sample(len(dfResult))\n",
    "\n",
    "    nTemp = len(dfResult)//2\n",
    "\n",
    "    dfResult.iloc[:nTemp,:-3] = -1 * dfResult.iloc[:nTemp,:-3]\n",
    "\n",
    "    dfResult.iloc[:nTemp,[-3,-1]] = 1-dfResult.iloc[:nTemp,[-3,-1]]\n",
    "\n",
    "    dfResult = dfResult.sort_values(\"G_ID\")\n",
    "    return dfResult"
   ]
  },
  {
   "cell_type": "code",
   "execution_count": 79,
   "metadata": {},
   "outputs": [
    {
     "name": "stderr",
     "output_type": "stream",
     "text": [
      "100%|██████████| 7/7 [05:36<00:00, 48.05s/it]\n"
     ]
    }
   ],
   "source": [
    "resultByN = []\n",
    "\n",
    "for N in tqdm(range(30,61,5)):\n",
    "    dfX = pd.DataFrame()\n",
    "    for year in years:\n",
    "        taza_ = taza[taza['YEAR']==year]\n",
    "\n",
    "        X = []\n",
    "        for gi in taza_['G_ID'][::2]:\n",
    "            temp = GetX(gi,N, taza_.iloc[:,:-1])\n",
    "            temp = temp.makeDf()\n",
    "            if(type(temp)!=list):\n",
    "                X.append(temp)\n",
    "\n",
    "        df = pd.DataFrame(X)\n",
    "        dfX = dfX.append(df)\n",
    "        \n",
    "\n",
    "    dfResult = gapLeftRight(dfX)\n",
    "    resultByN.append((N,np.mean(abs(dfResult.corr()['WIN'][:-1]))))"
   ]
  },
  {
   "cell_type": "code",
   "execution_count": 63,
   "metadata": {},
   "outputs": [
    {
     "data": {
      "text/plain": [
       "[(30, 0.05929887904989841),\n",
       " (35, 0.061628717301157786),\n",
       " (40, 0.06613596149713964),\n",
       " (45, 0.06892468208994179),\n",
       " (50, 0.07306065471820053),\n",
       " (55, 0.0759796420306262),\n",
       " (60, 0.07694160802570202)]"
      ]
     },
     "execution_count": 63,
     "metadata": {},
     "output_type": "execute_result"
    }
   ],
   "source": [
    "resultByN"
   ]
  },
  {
   "cell_type": "code",
   "execution_count": 27,
   "metadata": {},
   "outputs": [],
   "source": [
    "dfX = pd.DataFrame()\n",
    "for year in years:\n",
    "    taza_ = taza[taza['YEAR']==year]\n",
    "\n",
    "    X = []\n",
    "    for gi in taza_['G_ID'][::2]:\n",
    "        temp = GetX(gi,50, taza_.iloc[:,:-1])\n",
    "        temp = temp.makeDf()\n",
    "        if(type(temp)!=list):\n",
    "            X.append(temp)\n",
    "\n",
    "    df = pd.DataFrame(X)\n",
    "    dfX = dfX.append(df)\n",
    "    \n",
    "gapLeftRight(dfX).to_csv(\"kbo_train.csv\",index=False)"
   ]
  },
  {
   "cell_type": "code",
   "execution_count": 52,
   "metadata": {},
   "outputs": [],
   "source": [
    "taza_ = pd.read_csv(\"baseball_2020.csv\")\n",
    "taza_ = taza_[colnames]\n",
    "taza_['YEAR']=taza_['G_ID'].str[:4]\n",
    "\n",
    "X = []\n",
    "for gi in taza_['G_ID'][::2]:\n",
    "    temp = GetX(gi,50, taza_.iloc[:,:-1])\n",
    "    temp = temp.makeDf()\n",
    "    if(type(temp)!=list):\n",
    "        X.append(temp)\n",
    "\n",
    "df = pd.DataFrame(X)\n",
    "gapLeftRight(df).to_csv(\"kbo_test.csv\",index=False)"
   ]
  },
  {
   "cell_type": "markdown",
   "metadata": {},
   "source": [
    "### Home, Base 랜덤화"
   ]
  },
  {
   "cell_type": "code",
   "execution_count": 54,
   "metadata": {},
   "outputs": [
    {
     "name": "stderr",
     "output_type": "stream",
     "text": [
      "100%|██████████| 7/7 [04:54<00:00, 42.03s/it]\n"
     ]
    }
   ],
   "source": [
    "resultByN = []\n",
    "\n",
    "for N in tqdm(range(30,61,5)):\n",
    "    dfX = pd.DataFrame()\n",
    "    for year in years:\n",
    "        taza_ = taza[taza['YEAR']==year]\n",
    "\n",
    "        X = []\n",
    "        for gi in taza_['G_ID'][::2]:\n",
    "            temp = GetX(gi,N, taza_.iloc[:,:-1])\n",
    "            temp = temp.makeDf()\n",
    "            if(type(temp)!=list):\n",
    "                X.append(temp)\n",
    "\n",
    "        df = pd.DataFrame(X)\n",
    "        dfX = dfX.append(df)\n",
    "\n",
    "    dfResult = gapLeftRightRandom(dfX)\n",
    "    resultByN.append((N,np.mean(abs(dfResult.corr()['WIN'][:-1]))))"
   ]
  },
  {
   "cell_type": "code",
   "execution_count": 35,
   "metadata": {},
   "outputs": [
    {
     "data": {
      "text/plain": [
       "[(5, 0.03723224320135221),\n",
       " (10, 0.04594175369920553),\n",
       " (15, 0.05865468636571103),\n",
       " (20, 0.06637832747032983),\n",
       " (25, 0.06733263277966778),\n",
       " (30, 0.06514828368565719),\n",
       " (35, 0.0674561382185336),\n",
       " (40, 0.07241724564036403),\n",
       " (45, 0.07553985361549503),\n",
       " (50, 0.08123362999955502),\n",
       " (55, 0.08375370013316849),\n",
       " (60, 0.08468626309608845),\n",
       " (65, 0.08453288841164124),\n",
       " (70, 0.09280611204366868)]"
      ]
     },
     "execution_count": 35,
     "metadata": {},
     "output_type": "execute_result"
    }
   ],
   "source": [
    "resultByN"
   ]
  },
  {
   "cell_type": "code",
   "execution_count": 59,
   "metadata": {},
   "outputs": [],
   "source": [
    "dfX = pd.DataFrame()\n",
    "for year in years:\n",
    "    taza_ = taza[taza['YEAR']==year]\n",
    "\n",
    "    X = []\n",
    "    for gi in taza_['G_ID'][::2]:\n",
    "        temp = GetX(gi,50, taza_.iloc[:,:-1])\n",
    "        temp = temp.makeDf()\n",
    "        if(type(temp)!=list):\n",
    "            X.append(temp)\n",
    "\n",
    "    df = pd.DataFrame(X)\n",
    "    dfX = dfX.append(df)\n",
    "    \n",
    "gapLeftRightRandom(dfX).to_csv(\"kbo_train_random.csv\",index=False)"
   ]
  },
  {
   "cell_type": "code",
   "execution_count": 60,
   "metadata": {},
   "outputs": [],
   "source": [
    "taza_ = pd.read_csv(\"baseball_2020.csv\")\n",
    "taza_ = taza_[colnames]\n",
    "taza_['YEAR']=taza_['G_ID'].str[:4]\n",
    "\n",
    "X = []\n",
    "for gi in taza_['G_ID'][::2]:\n",
    "    temp = GetX(gi,60, taza_.iloc[:,:-1])\n",
    "    temp = temp.makeDf()\n",
    "    if(type(temp)!=list):\n",
    "        X.append(temp)\n",
    "\n",
    "dfX = pd.DataFrame(X)\n",
    "gapLeftRightRandom(dfX).to_csv(\"kbo_test_random.csv\",index=False)"
   ]
  },
  {
   "cell_type": "code",
   "execution_count": 37,
   "metadata": {},
   "outputs": [],
   "source": [
    "year='2020'\n",
    "taza_ = taza[taza['YEAR']==year]\n",
    "\n"
   ]
  },
  {
   "cell_type": "code",
   "execution_count": null,
   "metadata": {},
   "outputs": [],
   "source": [
    "#trash\n",
    "temp['win'] = 0.5\n",
    "\n",
    "    gameIds = temp['G_ID'].unique()\n",
    "    for gi in gameIds:\n",
    "\n",
    "        fidx = temp[temp['G_ID'] == gi].index[0]\n",
    "        sidx = temp[temp['G_ID'] == gi].index[1]\n",
    "\n",
    "\n",
    "        if(temp.loc[fidx,'RUN'] > temp.loc[sidx,'RUN']):\n",
    "            temp.loc[fidx,'win'] = 1\n",
    "            temp.loc[sidx,'win'] = 0\n",
    "        elif(temp.loc[fidx,'RUN'] < temp.loc[sidx,'RUN']):\n",
    "            temp.loc[fidx,'win'] = 0\n",
    "            temp.loc[sidx,'win'] = 1\n",
    "    y = temp['win']\n",
    "    temp = temp.iloc[:,:-1]\n",
    "\n",
    "    temp['OBP'] = (temp['HIT']+temp['BB']+temp['HP'])/(temp['AB']+temp['BB']+temp['HP']+temp['SF'])\n",
    "\n",
    "    temp['OOO'] = temp['HIT']/temp['AB']\n",
    "\n",
    "    temp['win'] = y\n",
    "    temp = temp.sort_values([\"G_ID\",\"TB_SC\"],ascending = [True,False])\n",
    "    temp = temp[temp.loc[:,'PA':'P_HIT_CN'].sum(axis=1)!=0].reset_index(drop=True)"
   ]
  }
 ],
 "metadata": {
  "kernelspec": {
   "display_name": "py37",
   "language": "python",
   "name": "py37"
  },
  "language_info": {
   "codemirror_mode": {
    "name": "ipython",
    "version": 3
   },
   "file_extension": ".py",
   "mimetype": "text/x-python",
   "name": "python",
   "nbconvert_exporter": "python",
   "pygments_lexer": "ipython3",
   "version": "3.7.6"
  }
 },
 "nbformat": 4,
 "nbformat_minor": 2
}
