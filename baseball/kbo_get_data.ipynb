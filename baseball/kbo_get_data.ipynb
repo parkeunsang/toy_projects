{
 "cells": [
  {
   "cell_type": "code",
   "execution_count": null,
   "metadata": {},
   "outputs": [],
   "source": [
    "'''\n",
    "Get KBO Data\n",
    "\n",
    "From 스탯티즈\n",
    "http://www.statiz.co.kr/boxscore.php?opt=4&date=2020-09-20&stadium=%EC%9E%A0%EC%8B%A4&hour=14<br>\n",
    "위 사이트의 데이터 table 수집\n",
    "'''"
   ]
  },
  {
   "cell_type": "code",
   "execution_count": 1,
   "metadata": {},
   "outputs": [],
   "source": [
    "import requests as rq\n",
    "import pandas as pd\n",
    "from bs4 import BeautifulSoup as bs"
   ]
  },
  {
   "cell_type": "code",
   "execution_count": 2,
   "metadata": {},
   "outputs": [],
   "source": [
    "from urllib import parse\n",
    "from tqdm import tqdm\n",
    "import re"
   ]
  },
  {
   "cell_type": "code",
   "execution_count": 4,
   "metadata": {},
   "outputs": [],
   "source": [
    "def makeDf(table, title):\n",
    "    '''\n",
    "    html table을 data frame 형태로 \n",
    "    '''\n",
    "    tbSources = []\n",
    "    tbSources.append([x.text for x in table.findAll(\"tr\")[0].findAll(\"th\")])\n",
    "\n",
    "    for i in table.findAll(\"tr\")[1:]:\n",
    "        tbSources.append([x.text for x in i.findAll(\"td\")])\n",
    "\n",
    "    df = pd.DataFrame(tbSources)\n",
    "\n",
    "    df.columns = df.iloc[0,:]\n",
    "\n",
    "    df = df[1:].reset_index(drop=True)\n",
    "    \n",
    "    df['title'] = title\n",
    "    return df"
   ]
  },
  {
   "cell_type": "code",
   "execution_count": 5,
   "metadata": {},
   "outputs": [],
   "source": [
    "\n",
    "def tatu(tables, i):\n",
    "    '''\n",
    "    타수, 투수데이터가 있으므로 두개다 수집\n",
    "    i=0,2 / 타수, 투구\n",
    "    '''\n",
    "    title1 = tables[i+2].find(\"h3\",{\"class\":\"box-title\"}).text\n",
    "    title1 = title1[title1.index(\"(\")+1:-1]\n",
    "\n",
    "    \n",
    "    title2 = tables[i+3].find(\"h3\",{\"class\":\"box-title\"}).text\n",
    "    title2 = title2[title2.index(\"(\")+1:-1]\n",
    "    df = makeDf(tables[i+2].find(\"div\",{\"class\":\"box-body no-padding table-responsive\"}),title1).append(\n",
    "        makeDf(tables[i+3].find(\"div\",{\"class\":\"box-body no-padding table-responsive\"}), title2))\n",
    "    return df"
   ]
  },
  {
   "cell_type": "code",
   "execution_count": 6,
   "metadata": {},
   "outputs": [],
   "source": [
    "def getUrlByMonth(year,month):\n",
    "    '''\n",
    "    year년 month월의 경기데이터 일정을 모두 수집해 url 반환\n",
    "    '''\n",
    "    urlOrigin = f\"http://www.statiz.co.kr/schedule.php?opt={month}&sy={year}\"\n",
    "\n",
    "    soup = bs(rq.get(urlOrigin).text,'lxml')\n",
    "\n",
    "    temp = soup.findAll(\"div\",{\"class\":\"box\"})[2]\n",
    "\n",
    "    urls = []\n",
    "\n",
    "    for i in temp.findAll(\"a\"):\n",
    "        if((\"date\" in i['href'])&(\"stadium\" in i['href'])):\n",
    "            urls.append(i['href'])\n",
    "\n",
    "    baseUrl = \"http://www.statiz.co.kr/\"\n",
    "\n",
    "    urls = list(set(urls))\n",
    "\n",
    "    urls = [baseUrl + x + \"&opt=4\" for x in urls]\n",
    "    return urls"
   ]
  },
  {
   "cell_type": "code",
   "execution_count": 7,
   "metadata": {},
   "outputs": [],
   "source": [
    "def detailName(name,dic):\n",
    "    if(name not in dic.keys()):\n",
    "        return 0\n",
    "    else:\n",
    "        char = dic[name]\n",
    "        if(char=='\\n'):\n",
    "            return 0\n",
    "        return char.count(',')+1"
   ]
  },
  {
   "cell_type": "code",
   "execution_count": 8,
   "metadata": {},
   "outputs": [],
   "source": [
    "def getDic(sr,r,tb):\n",
    "\n",
    "    dic1 = {}\n",
    "    tn1 = teamN[team1]\n",
    "    tn2 = teamN[team2]\n",
    "    dic1['G_ID'] = r['날짜'].replace('-','') + tn1+tn2 + '0'\n",
    "    dic1['GDAY_DS'] = r['날짜'].replace('-','')\n",
    "    if(tb==\"T\"):\n",
    "        dic1['T_ID'] = tn1\n",
    "        dic1['VS_T_ID'] = tn2\n",
    "    else:\n",
    "        dic1['T_ID'] = tn2\n",
    "        dic1['VS_T_ID'] = tn1\n",
    "        \n",
    "    dic1['HEADER_NO'] = 0\n",
    "    dic1['TB_SC'] = tb #초\n",
    "\n",
    "    dic1['PA'] = sr['TPA']\n",
    "    dic1['AB'] = sr['AB']\n",
    "    dic1['RBI'] = sr['RBI']\n",
    "    dic1['RUN'] = sr['R']\n",
    "    dic1['HIT'] = sr['H']\n",
    "    dic1['H2'] = detailName('2루타',r)\n",
    "    dic1['H3'] = detailName('3루타',r)\n",
    "    dic1['HR'] = sr['HR']\n",
    "    dic1['SB'] = detailName('도루',r)\n",
    "    dic1['CS'] = detailName(\"도실\",r)\n",
    "    dic1['SF'] = detailName(\"희플\",r)\n",
    "    dic1['BB'] = sr['BB']\n",
    "    dic1['HP'] = sr['HBP']\n",
    "    dic1['KK'] = sr['SO']\n",
    "    dic1['GD'] = sr['GDP']\n",
    "    dic1['LOB'] = sr['LOB']\n",
    "    \n",
    "    char = r['득점권 상황']\n",
    "    if(len(re.findall(r'[0-9]+', char)) ==0):\n",
    "        a=0;b=0;c=0;\n",
    "    else:\n",
    "        a=int(re.findall(r'[0-9]+', char)[1])\n",
    "        b=int(re.findall(r'[0-9]+', char)[0])\n",
    "        if(b!=0):\n",
    "            c=a/b\n",
    "        else:\n",
    "            c=0\n",
    "        \n",
    "    \n",
    "    dic1['P_HRA_RT'] =c\n",
    "    dic1['P_AB_CN'] = b\n",
    "    dic1['P_HIT_CN'] = a\n",
    "\n",
    "    return dic1"
   ]
  },
  {
   "cell_type": "code",
   "execution_count": 9,
   "metadata": {},
   "outputs": [],
   "source": [
    "teamN = {}\n",
    "teamN['한화'] = 'HH'\n",
    "teamN['KIA'] = 'HT'\n",
    "teamN['KT'] = 'KT'\n",
    "teamN['kt'] = 'KT'\n",
    "teamN['LG'] = 'LG'\n",
    "teamN['롯데'] = 'LT'\n",
    "teamN['NC'] = 'NC'\n",
    "teamN['두산'] = 'OB'\n",
    "teamN['SK'] = 'SK'\n",
    "teamN['삼성'] = 'SS'\n",
    "teamN['키움'] = 'WO'\n",
    "teamN['넥센'] = 'NE'"
   ]
  },
  {
   "cell_type": "code",
   "execution_count": 10,
   "metadata": {},
   "outputs": [
    {
     "name": "stderr",
     "output_type": "stream",
     "text": [
      " 13%|█▎        | 97/736 [07:56<34:59,  3.29s/it]  "
     ]
    },
    {
     "name": "stdout",
     "output_type": "stream",
     "text": [
      "우천\n"
     ]
    },
    {
     "name": "stderr",
     "output_type": "stream",
     "text": [
      " 17%|█▋        | 125/736 [10:04<39:07,  3.84s/it]"
     ]
    },
    {
     "name": "stdout",
     "output_type": "stream",
     "text": [
      "우천\n"
     ]
    },
    {
     "name": "stderr",
     "output_type": "stream",
     "text": [
      " 56%|█████▌    | 413/736 [34:37<21:23,  3.97s/it]  "
     ]
    },
    {
     "name": "stdout",
     "output_type": "stream",
     "text": [
      "우천\n"
     ]
    },
    {
     "name": "stderr",
     "output_type": "stream",
     "text": [
      "\r",
      " 56%|█████▋    | 414/736 [34:38<15:16,  2.85s/it]"
     ]
    },
    {
     "name": "stdout",
     "output_type": "stream",
     "text": [
      "우천\n"
     ]
    },
    {
     "name": "stderr",
     "output_type": "stream",
     "text": [
      "100%|██████████| 736/736 [1:01:54<00:00,  5.05s/it]\n"
     ]
    }
   ],
   "source": [
    "for year in [2016]:\n",
    "    '''\n",
    "    2015~2020 데이터 수집\n",
    "    '''\n",
    "    urls = []\n",
    "    for mon in range(3,11): #3월~10월\n",
    "        urls.extend(getUrlByMonth(year,mon))\n",
    "\n",
    "    urls = sorted(urls)\n",
    "\n",
    "    result = []\n",
    "    for url in tqdm(urls):\n",
    "\n",
    "\n",
    "        date = url[url.find(\"date=\")+5:url.find(\"date\")+15]\n",
    "        source = rq.get(url)\n",
    "\n",
    "        soup = bs(source.text,'lxml')\n",
    "        tables = soup.findAll(\"div\",{\"class\":\"box\"})\n",
    "        ###팀명\n",
    "        title1 = tables[2].find(\"h3\",{\"class\":\"box-title\"}).text\n",
    "        try:\n",
    "            tn1 = title1[title1.index(\"(\")+1:-1]\n",
    "        except ValueError:\n",
    "            print(\"우천\")\n",
    "            continue\n",
    "        title2 = tables[2].find(\"h3\",{\"class\":\"box-title\"}).text\n",
    "        tn2 = title1[title1.index(\"(\")+1:-1]\n",
    "\n",
    "\n",
    "        team1 = {}\n",
    "        try:\n",
    "            temp = soup.findAll(\"td\",{\"bgcolor\":\"white\"})[0]\n",
    "        except IndexError:\n",
    "            print(\"우천\")\n",
    "            continue\n",
    "\n",
    "        for idx,x in enumerate(temp.findAll(\"b\")):\n",
    "            team1[x.text] = temp.contents[2::3][idx]\n",
    "\n",
    "        team1['팀명'] = tn1\n",
    "\n",
    "        team2 = {}\n",
    "        temp = soup.findAll(\"td\",{\"bgcolor\":\"white\"})[1]\n",
    "        for idx,x in enumerate(temp.findAll(\"b\")):\n",
    "            team2[x.text] = temp.contents[2::3][idx]\n",
    "\n",
    "        team2['팀명'] = tn1\n",
    "\n",
    "        gujang = parse.unquote([x for x in url.split(\"&\") if 'stadium' in x][0][8:])\n",
    "        sil1=tables[6].find(\"table\",{\"width\":\"100%\"}).contents[1].text\n",
    "        sil2=tables[7].find(\"table\",{\"width\":\"100%\"}).contents[1].text\n",
    "\n",
    "        team1['날짜'] =  date\n",
    "        team1['구장'] = gujang\n",
    "        team1['실책'] = sil1\n",
    "\n",
    "        team2['날짜'] =  date\n",
    "        team2['구장'] = gujang\n",
    "        team2['실책'] = sil2\n",
    "        result.append([tatu(tables,0),tatu(tables,2),team1,team2])\n",
    "\n",
    "\n",
    "    \n",
    "    fin = []\n",
    "    for idx,r in enumerate(result):\n",
    "\n",
    "        team1 = r[0]['title'].iloc[0]\n",
    "        team2 = r[0]['title'].iloc[-1]\n",
    "        if(team1==''):\n",
    "            print(\"error1\")\n",
    "            continue\n",
    "        df = r[0][r[0].iloc[:,0] !='팀 합계']\n",
    "\n",
    "        df1 = df[df['title'] == team1].iloc[:,3:-6]\n",
    "        df2 = df[df['title'] == team2].iloc[:,3:-6]\n",
    "\n",
    "        try:\n",
    "            df1 = df1.astype(float)\n",
    "            df2 = df2.astype(float)\n",
    "        except ValueError:\n",
    "            print(\"error2\")\n",
    "            continue\n",
    "\n",
    "        sr1 = df1.sum()\n",
    "        sr2 = df2.sum()\n",
    "        if((team1 in teamN.keys())&(team2 in teamN.keys())):\n",
    "            fin.append(getDic(sr1,r[2],'T'))\n",
    "            fin.append(getDic(sr2,r[3],'B'))\n",
    "    \n",
    "    df = pd.DataFrame(fin)\n",
    "    df.drop_duplicates().to_csv(f\"baseball_{year}.csv\",index=False) #export"
   ]
  },
  {
   "cell_type": "code",
   "execution_count": 6,
   "metadata": {},
   "outputs": [],
   "source": [
    "fileNames=['baseball_' + str(x) + '.csv' for x in list(range(2015,2021))]"
   ]
  },
  {
   "cell_type": "code",
   "execution_count": 8,
   "metadata": {},
   "outputs": [
    {
     "name": "stderr",
     "output_type": "stream",
     "text": [
      "100%|██████████| 6/6 [00:06<00:00,  1.04s/it]\n"
     ]
    }
   ],
   "source": [
    "#새로운 변수 생성 및 기본적인 전처리\n",
    "\n",
    "for fileName in tqdm(fileNames):\n",
    "    temp = pd.read_csv(fileName)\n",
    "    temp['win'] = 0.5\n",
    "\n",
    "    gameIds = temp['G_ID'].unique()\n",
    "    for gi in gameIds:\n",
    "\n",
    "        fidx = temp[temp['G_ID'] == gi].index[0]\n",
    "        sidx = temp[temp['G_ID'] == gi].index[1]\n",
    "\n",
    "\n",
    "        if(temp.loc[fidx,'RUN'] > temp.loc[sidx,'RUN']):\n",
    "            temp.loc[fidx,'win'] = 1\n",
    "            temp.loc[sidx,'win'] = 0\n",
    "        elif(temp.loc[fidx,'RUN'] < temp.loc[sidx,'RUN']):\n",
    "            temp.loc[fidx,'win'] = 0\n",
    "            temp.loc[sidx,'win'] = 1\n",
    "    y = temp['win']\n",
    "    temp = temp.iloc[:,:-1]\n",
    "\n",
    "    temp['OBP'] = (temp['HIT']+temp['BB']+temp['HP'])/(temp['AB']+temp['BB']+temp['HP']+temp['SF'])\n",
    "\n",
    "    temp['OOO'] = temp['HIT']/temp['AB']\n",
    "\n",
    "    temp['win'] = y\n",
    "    temp = temp.sort_values([\"G_ID\",\"TB_SC\"],ascending = [True,False])\n",
    "    temp = temp[temp.loc[:,'PA':'P_HIT_CN'].sum(axis=1)!=0].reset_index(drop=True)\n",
    "    temp.to_csv(f\"../{fileName}\",index=False)"
   ]
  },
  {
   "cell_type": "code",
   "execution_count": 26,
   "metadata": {},
   "outputs": [],
   "source": [
    "# #투수관련데이터\n",
    "# fin_=[]\n",
    "# for r in result:\n",
    "\n",
    "#     team1 = r[0]['title'].iloc[0]\n",
    "#     team2 = r[0]['title'].iloc[-1]\n",
    "\n",
    "#     t1 = r[1][r[1]['이름']=='팀 합계'].iloc[0]\n",
    "#     t2 = r[1][r[1]['이름']=='팀 합계'].iloc[-1]\n",
    "\n",
    "\n",
    "\n",
    "#     dic1 = {}\n",
    "#     tn1 = teamN[team1]\n",
    "#     tn2 = teamN[team2]\n",
    "#     dic1['G_ID'] = r[2]['날짜'].replace('-','') + tn1+tn2 + '0'\n",
    "#     dic1['GDAY_DS'] = r[2]['날짜'].replace('-','')\n",
    "#     dic1['T_ID'] = tn1\n",
    "#     dic1['VS_T_ID'] = tn2\n",
    "#     dic1['TB_SC'] = 'T'\n",
    "#     dic1['R'] = t1['R']\n",
    "#     dic1['ER'] = t1['ER']\n",
    "#     fin_.append(dic1)\n",
    "\n",
    "#     dic1 = {}\n",
    "\n",
    "#     dic1['G_ID'] = r[2]['날짜'].replace('-','') + tn1+tn2 + '0'\n",
    "#     dic1['GDAY_DS'] = r[2]['날짜'].replace('-','')\n",
    "#     dic1['T_ID'] = tn2\n",
    "#     dic1['VS_T_ID'] = tn1\n",
    "#     dic1['TB_SC'] = 'T'\n",
    "#     dic1['R'] = t2['R']\n",
    "#     dic1['ER'] = t2['ER']\n",
    "#     fin_.append(dic1)\n",
    "\n",
    "\n",
    "\n",
    "# df_ = pd.DataFrame(fin_)\n",
    "\n",
    "# df_ = df_.drop_duplicates()"
   ]
  }
 ],
 "metadata": {
  "kernelspec": {
   "display_name": "py37",
   "language": "python",
   "name": "py37"
  },
  "language_info": {
   "codemirror_mode": {
    "name": "ipython",
    "version": 3
   },
   "file_extension": ".py",
   "mimetype": "text/x-python",
   "name": "python",
   "nbconvert_exporter": "python",
   "pygments_lexer": "ipython3",
   "version": "3.7.6"
  }
 },
 "nbformat": 4,
 "nbformat_minor": 2
}
