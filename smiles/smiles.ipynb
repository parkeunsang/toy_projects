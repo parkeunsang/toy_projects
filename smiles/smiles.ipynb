{
 "cells": [
  {
   "cell_type": "markdown",
   "metadata": {
    "id": "1oa9P_L6ozzH"
   },
   "source": [
    "https://tutorials.pytorch.kr/beginner/transformer_tutorial.html"
   ]
  },
  {
   "cell_type": "code",
   "execution_count": null,
   "metadata": {
    "colab": {
     "base_uri": "https://localhost:8080/"
    },
    "id": "tlBpGdzqo_Eu",
    "outputId": "d4d5cdb1-f9ea-42b1-e589-bf3953284b66"
   },
   "outputs": [
    {
     "name": "stdout",
     "output_type": "stream",
     "text": [
      "Mounted at ./mount\n"
     ]
    }
   ],
   "source": [
    "from google.colab import drive\n",
    "import matplotlib.pyplot as plt\n",
    "drive.mount('./mount')"
   ]
  },
  {
   "cell_type": "markdown",
   "metadata": {
    "id": "XGn0ktFSqZs0"
   },
   "source": [
    "## Modules"
   ]
  },
  {
   "cell_type": "code",
   "execution_count": null,
   "metadata": {
    "id": "FDXojGFjqax_"
   },
   "outputs": [],
   "source": [
    "import math\n",
    "import os\n",
    "import pandas as pd\n",
    "import matplotlib.pyplot as plt\n",
    "\n",
    "import torch\n",
    "from torch import nn, Tensor\n",
    "import torch.nn.functional as F\n",
    "from torch.nn import TransformerEncoder, TransformerEncoderLayer\n",
    "from torch.utils.data import dataset\n",
    "from torch.utils.data import Dataset"
   ]
  },
  {
   "cell_type": "markdown",
   "metadata": {
    "id": "3quxkenAptai"
   },
   "source": [
    "## Model"
   ]
  },
  {
   "cell_type": "code",
   "execution_count": null,
   "metadata": {
    "id": "zEuNbTaYRiDD"
   },
   "outputs": [],
   "source": [
    "model = TransformerModel(ntokens, emsize, nhead, d_hid, nlayers, max_smiles_length, additional_features_count, dropout, use_mask=False).to(DEVICE)"
   ]
  },
  {
   "cell_type": "code",
   "execution_count": null,
   "metadata": {
    "colab": {
     "base_uri": "https://localhost:8080/"
    },
    "id": "K24Kb71SRZq4",
    "outputId": "8fdf7225-98f5-40bd-f7aa-44ddd3be43bf"
   },
   "outputs": [
    {
     "data": {
      "text/plain": [
       "torch.Size([100, 18, 40])"
      ]
     },
     "execution_count": 480,
     "metadata": {},
     "output_type": "execute_result"
    }
   ],
   "source": [
    "model.forward_before_fc(X).shape"
   ]
  },
  {
   "cell_type": "code",
   "execution_count": null,
   "metadata": {
    "colab": {
     "base_uri": "https://localhost:8080/"
    },
    "id": "Ycau0OvlRcwV",
    "outputId": "4c43eba5-39d4-4a42-b504-66d4e4bb2baa"
   },
   "outputs": [
    {
     "data": {
      "text/plain": [
       "torch.Size([100, 18, 40])"
      ]
     },
     "execution_count": 481,
     "metadata": {},
     "output_type": "execute_result"
    }
   ],
   "source": [
    "model.forward_before_fc_nomask(X).shape"
   ]
  },
  {
   "cell_type": "code",
   "execution_count": null,
   "metadata": {
    "id": "Q2oO5UJpQ1KG"
   },
   "outputs": [],
   "source": [
    "class TransformerModel(nn.Module):\n",
    "\n",
    "    def __init__(self, ntoken, d_model, nhead, d_hid,\n",
    "                 nlayers, max_smiles_length, additional_features_count, dropout = 0.5, use_mask=True):\n",
    "        super().__init__()\n",
    "        self.model_type = 'Transformer'\n",
    "        self.pos_encoder = PositionalEncoding(d_model, max_smiles_length, dropout)\n",
    "        encoder_layers = TransformerEncoderLayer(d_model, nhead, d_hid, dropout)\n",
    "        self.transformer_encoder = TransformerEncoder(encoder_layers, nlayers)\n",
    "        self.encoder = nn.Embedding(ntoken, d_model)\n",
    "        self.d_model = d_model\n",
    "        self.use_mask = use_mask\n",
    "        self.gelu = nn.GELU()\n",
    "        self.fc1 = nn.Linear(d_model, 1)  # MLM or HLM 값 하나를 예측\n",
    "        self.fc2 = nn.Linear(max_smiles_length+additional_features_count, 128)  # middle layer\n",
    "        self.fc3 = nn.Linear(128, 64)  # middle layer\n",
    "        self.fc4 = nn.Linear(64, 1)\n",
    "\n",
    "        self.bn2 = torch.nn.BatchNorm1d(128)\n",
    "        self.bn3 = torch.nn.BatchNorm1d(64)\n",
    "        self.init_weights()\n",
    "\n",
    "    def get_mask(self, src):\n",
    "        mask = src == 0\n",
    "        return mask.transpose(0, 1).to(DEVICE)\n",
    "\n",
    "    def init_weights(self):\n",
    "        initrange = 0.1\n",
    "        self.encoder.weight.data.uniform_(-initrange, initrange)\n",
    "        self.fc1.bias.data.zero_()\n",
    "        self.fc1.weight.data.uniform_(-initrange, initrange)\n",
    "        self.fc2.bias.data.zero_()\n",
    "        self.fc2.weight.data.uniform_(-initrange, initrange)\n",
    "        self.fc3.bias.data.zero_()\n",
    "        self.fc3.weight.data.uniform_(-initrange, initrange)\n",
    "        self.fc4.bias.data.zero_()\n",
    "        self.fc4.weight.data.uniform_(-initrange, initrange)\n",
    "\n",
    "    def forward(self, src, src_numeric) -> Tensor:\n",
    "        \"\"\"\n",
    "        Arguments:\n",
    "            src: Tensor, shape ``[seq_len, batch_size]``\n",
    "            src_mask: Tensor, shape ``[seq_len, seq_len]``\n",
    "\n",
    "        Returns:\n",
    "            output Tensor of shape ``[seq_len, batch_size, ntoken]``\n",
    "        \"\"\"\n",
    "        mask = self.get_mask(src)\n",
    "        src = self.encoder(src) * math.sqrt(self.d_model)\n",
    "        src = self.pos_encoder(src)\n",
    "        if self.use_mask:\n",
    "            output = self.transformer_encoder(src, src_key_padding_mask=mask)\n",
    "        else:\n",
    "            output = self.transformer_encoder(src)\n",
    "        output = self.fc1(output)\n",
    "        output = output.transpose(0, 2)[0]  # [0]: (1, 18, 100) -> (18, 100)\n",
    "        output = torch.cat([output, src_numeric.transpose(0, 1)], axis=1)\n",
    "        # output = self.gelu(self.bn2(self.fc2(output)))\n",
    "        # output = self.gelu(self.bn3(self.fc3(output)))\n",
    "        output = self.gelu(self.fc2(output))\n",
    "        output = self.gelu(self.fc3(output))\n",
    "        output = self.fc4(output)\n",
    "        return output\n",
    "\n",
    "    def forward_embed(self, src):\n",
    "        src = self.encoder(src) * math.sqrt(self.d_model)\n",
    "        return src\n",
    "\n",
    "    def forward_before_fc(self, src):\n",
    "        mask = self.get_mask(src)\n",
    "        src = self.encoder(src) * math.sqrt(self.d_model)\n",
    "        src = self.pos_encoder(src)\n",
    "        output = self.transformer_encoder(src, src_key_padding_mask=mask)\n",
    "        return output"
   ]
  },
  {
   "cell_type": "code",
   "execution_count": null,
   "metadata": {
    "id": "K9B_RQNapx2k"
   },
   "outputs": [],
   "source": [
    "class PositionalEncoding(nn.Module):\n",
    "\n",
    "    def __init__(self, d_model, max_len=5000, dropout=0.1):\n",
    "        super().__init__()\n",
    "        self.dropout = nn.Dropout(p=dropout)\n",
    "\n",
    "        position = torch.arange(max_len).unsqueeze(1)\n",
    "        div_term = torch.exp(torch.arange(0, d_model, 2) * (-math.log(10000.0) / d_model))\n",
    "        pe = torch.zeros(max_len, 1, d_model)\n",
    "        pe[:, 0, 0::2] = torch.sin(position * div_term)\n",
    "        pe[:, 0, 1::2] = torch.cos(position * div_term)\n",
    "        self.register_buffer('pe', pe)\n",
    "\n",
    "    def forward(self, x) -> Tensor:\n",
    "        \"\"\"\n",
    "        Arguments:\n",
    "            x: Tensor, shape ``[seq_len, batch_size, embedding_dim]``\n",
    "        \"\"\"\n",
    "        x = x + self.pe[:x.size(0)]\n",
    "        return self.dropout(x)"
   ]
  },
  {
   "cell_type": "markdown",
   "metadata": {
    "id": "z_axX3qsrVZa"
   },
   "source": [
    "## Data"
   ]
  },
  {
   "cell_type": "code",
   "execution_count": null,
   "metadata": {
    "id": "CyvSePnUr_iP"
   },
   "outputs": [],
   "source": [
    "from collections import Counter\n",
    "import numpy as np\n",
    "from tqdm import tqdm"
   ]
  },
  {
   "cell_type": "code",
   "execution_count": null,
   "metadata": {
    "id": "ZG6H651o9ubr"
   },
   "outputs": [],
   "source": [
    "from sklearn.preprocessing import StandardScaler"
   ]
  },
  {
   "cell_type": "code",
   "execution_count": null,
   "metadata": {
    "id": "HHQ3Yi61spi7"
   },
   "outputs": [],
   "source": [
    "class Tokenizer:\n",
    "    def __init__(self, smiles_list):\n",
    "        \"\"\"\n",
    "        Args:\n",
    "            smiles_list (list): DataFrame의 SMILES Columns\n",
    "        \"\"\"\n",
    "        self.smiles_list = smiles_list\n",
    "        self.get_token_map()\n",
    "\n",
    "    def get_token_map(self):\n",
    "        token_count = []\n",
    "        for smiles in self.smiles_list:\n",
    "            smiles_sep = list(smiles)  # 'CCO' --> ['C', 'C', 'O']\n",
    "            token_count.extend(smiles_sep)\n",
    "        token_count = Counter(token_count)\n",
    "        self.token_map = {}\n",
    "        self.token_map['<pad>'] = 0\n",
    "        for idx, k in enumerate(token_count, start=1):\n",
    "            self.token_map[k] = idx\n",
    "        self.unk = idx + 1  # unknown idx\n",
    "\n",
    "    def tokenize(self, smiles):\n",
    "        \"\"\"\n",
    "        Args:\n",
    "            smiles (list): ex) ['C', 'C', 'O', '1', '<pad>', '<pad>' ,...]\n",
    "        \"\"\"\n",
    "        tokenized_list = []\n",
    "        for s in smiles:\n",
    "            token_idx = self.token_map.get(s, self.unk)  # map에 없는 값일 경우 self.unk(=33) 할당\n",
    "            tokenized_list.append(token_idx)\n",
    "        return tokenized_list\n",
    "\n",
    "    def token_count(self):\n",
    "        return self.unk + 1  # 0부터 시작"
   ]
  },
  {
   "cell_type": "code",
   "execution_count": null,
   "metadata": {
    "colab": {
     "base_uri": "https://localhost:8080/"
    },
    "id": "ZBGKajqa9t2b",
    "outputId": "4eb2580b-e396-4cbc-9a31-782f77c13684"
   },
   "outputs": [
    {
     "data": {
      "text/plain": [
       "torch.Size([100, 2998])"
      ]
     },
     "execution_count": 124,
     "metadata": {},
     "output_type": "execute_result"
    }
   ],
   "source": [
    "train_data.X.shape"
   ]
  },
  {
   "cell_type": "code",
   "execution_count": null,
   "metadata": {
    "colab": {
     "base_uri": "https://localhost:8080/"
    },
    "id": "kMWyEI9HAIPY",
    "outputId": "1f448329-da4b-44fb-b825-90457143c83a"
   },
   "outputs": [
    {
     "data": {
      "text/plain": [
       "torch.Size([7, 2998])"
      ]
     },
     "execution_count": 130,
     "metadata": {},
     "output_type": "execute_result"
    }
   ],
   "source": [
    "torch.tensor(df_train_numeric, dtype=torch.float64).transpose(0, 1)"
   ]
  },
  {
   "cell_type": "code",
   "execution_count": null,
   "metadata": {
    "id": "hSwBr45sACrf"
   },
   "outputs": [],
   "source": []
  },
  {
   "cell_type": "code",
   "execution_count": null,
   "metadata": {
    "id": "--wBNUYqsZRa"
   },
   "outputs": [],
   "source": [
    "class SmilesDataset(Dataset):\n",
    "    def __init__(self, df, df_numeric, target_column, tokenizer, max_smiles_length, batch_size):\n",
    "        \"\"\"\n",
    "        Args:\n",
    "            df_numeric (np.array): 데이터에서 추가로 사용할 설명변수\n",
    "        \"\"\"\n",
    "        self.df = df\n",
    "        self.tokenizer = tokenizer\n",
    "        self.max_smiles_length = max_smiles_length\n",
    "        self.batch_size = batch_size\n",
    "        self.smiles_to_tokens(df['SMILES'].tolist())\n",
    "        # torch.int16이 아닌 long(=int64)을 쓰는 이유는 embedding에서 long밖에 받지 못하기 때문\n",
    "        self.X = torch.tensor(self.X, dtype=torch.long).transpose(0, 1)  # max_smiles_length by 데이터 개수. train data의 경우 100 x 3498\n",
    "        self.X_numeric = torch.tensor(df_numeric, dtype=torch.float32).transpose(0, 1)\n",
    "        self.y = df[target_column].tolist()\n",
    "        self.y = torch.tensor(self.y, dtype=torch.float32).unsqueeze(1)  # train data의 경우 3498 x 1\n",
    "\n",
    "    def smiles_to_tokens(self, smiles_list):\n",
    "        \"\"\"\n",
    "        Args:\n",
    "            smiles_list (list): DataFrame의 SMILES Columns\n",
    "        Returns:\n",
    "            token_data (list-2d): (data 개수) by (max_smiles_length)\n",
    "        \"\"\"\n",
    "        self.X = []\n",
    "        for smiles in smiles_list:\n",
    "            smiles_padded = list(smiles[:self.max_smiles_length])\n",
    "            padding_count = self.max_smiles_length - len(smiles_padded)  # <pad> 개수\n",
    "            padding_list = ['<pad>'] * padding_count  # if padding_count == 0, then padding_list = []\n",
    "            smiles_padded.extend(padding_list)\n",
    "            tokens = self.tokenizer.tokenize(smiles_padded)  # 길이가 100인 list. ex) [1, 2, 0, ...., 33]\n",
    "            self.X.append(tokens)\n",
    "\n",
    "    def __getitem__(self, i):\n",
    "        idx = i*self.batch_size\n",
    "        X = self.X[:, idx:idx+self.batch_size]\n",
    "        X_numeric = self.X_numeric[:, idx:idx+self.batch_size]\n",
    "        y = self.y[idx:idx+self.batch_size]\n",
    "        return X.to(DEVICE), X_numeric.to(DEVICE), y.to(DEVICE)\n",
    "\n",
    "    def __len__(self):\n",
    "        return len(self.df) // self.batch_size"
   ]
  },
  {
   "cell_type": "code",
   "execution_count": null,
   "metadata": {
    "colab": {
     "base_uri": "https://localhost:8080/"
    },
    "id": "IHkR3NN8n_hY",
    "outputId": "09542f1c-d4fe-4c72-c46e-88bf1cad6a1d"
   },
   "outputs": [
    {
     "name": "stdout",
     "output_type": "stream",
     "text": [
      "/content/mount/MyDrive/study/transformer\n"
     ]
    }
   ],
   "source": [
    "cd /content/mount/MyDrive/study/transformer"
   ]
  },
  {
   "cell_type": "code",
   "execution_count": null,
   "metadata": {
    "id": "LiCYKyyCnSbn"
   },
   "outputs": [],
   "source": [
    "DEVICE = torch.device('cuda' if torch.cuda.is_available() else 'cpu')"
   ]
  },
  {
   "cell_type": "code",
   "execution_count": null,
   "metadata": {
    "id": "WxT2B1AIn9Wf"
   },
   "outputs": [],
   "source": [
    "train = pd.read_csv('data/train.csv')"
   ]
  },
  {
   "cell_type": "code",
   "execution_count": null,
   "metadata": {
    "colab": {
     "base_uri": "https://localhost:8080/"
    },
    "id": "2zq-nmU1oF5h",
    "outputId": "00d82333-2f9b-4b06-e2c2-16b446a412af"
   },
   "outputs": [
    {
     "data": {
      "text/plain": [
       "[1, 5, 33, 0]"
      ]
     },
     "execution_count": 86,
     "metadata": {},
     "output_type": "execute_result"
    }
   ],
   "source": [
    "tokenizer.tokenize(['C', '(', '%', '<pad>']) # '%'는 없는 토큰이므로 33을 할당"
   ]
  },
  {
   "cell_type": "code",
   "execution_count": null,
   "metadata": {
    "colab": {
     "base_uri": "https://localhost:8080/",
     "height": 448
    },
    "id": "MWDZ_ZM3oGRc",
    "outputId": "fdac173a-78e2-48ba-ac6d-ff04b9eef008"
   },
   "outputs": [
    {
     "data": {
      "text/plain": [
       "<Axes: ylabel='Frequency'>"
      ]
     },
     "execution_count": 425,
     "metadata": {},
     "output_type": "execute_result"
    },
    {
     "data": {
      "image/png": "[encoded data removed]",
      "text/plain": [
       "<Figure size 640x480 with 1 Axes>"
      ]
     },
     "metadata": {},
     "output_type": "display_data"
    }
   ],
   "source": [
    "train['SMILES'].str.len().plot(kind='hist', bins=50)"
   ]
  },
  {
   "cell_type": "code",
   "execution_count": null,
   "metadata": {
    "id": "X83fofZzF5Tn"
   },
   "outputs": [],
   "source": [
    "train['AlogP'] = train['AlogP'].fillna(0)"
   ]
  },
  {
   "cell_type": "code",
   "execution_count": null,
   "metadata": {
    "id": "QdVub1CW3zIb"
   },
   "outputs": [],
   "source": [
    "df_train, df_val = train[:3000], train[3000:]"
   ]
  },
  {
   "cell_type": "code",
   "execution_count": null,
   "metadata": {
    "id": "cgjBokOf3aC8"
   },
   "outputs": [],
   "source": [
    "smiles_unique_count = train.groupby('SMILES').size()"
   ]
  },
  {
   "cell_type": "code",
   "execution_count": null,
   "metadata": {
    "id": "S5iJQLY73kPa"
   },
   "outputs": [],
   "source": [
    "smiles_test = smiles_unique_count[smiles_unique_count == 1].sample(500, random_state=42).index"
   ]
  },
  {
   "cell_type": "code",
   "execution_count": null,
   "metadata": {
    "id": "J9ioSKlJ34fF"
   },
   "outputs": [],
   "source": [
    "df_train, df_val = train[~train['SMILES'].isin(smiles_test)], train[train['SMILES'].isin(smiles_test)]"
   ]
  },
  {
   "cell_type": "markdown",
   "metadata": {
    "id": "5l1npMwk_cER"
   },
   "source": [
    "#### scaling"
   ]
  },
  {
   "cell_type": "code",
   "execution_count": null,
   "metadata": {
    "id": "UED0NSXm_bke"
   },
   "outputs": [],
   "source": [
    "scale_columns = ['AlogP', 'Molecular_Weight',\n",
    "       'Num_H_Acceptors', 'Num_H_Donors', 'Num_RotatableBonds', 'LogD',\n",
    "       'Molecular_PolarSurfaceArea']"
   ]
  },
  {
   "cell_type": "code",
   "execution_count": null,
   "metadata": {
    "id": "dX7OW1MD_bhF"
   },
   "outputs": [],
   "source": [
    "scaler = StandardScaler()\n",
    "df_train_numeric = scaler.fit_transform(df_train[scale_columns])\n",
    "df_val_numeric = scaler.transform(df_val[scale_columns])"
   ]
  },
  {
   "cell_type": "code",
   "execution_count": null,
   "metadata": {
    "colab": {
     "base_uri": "https://localhost:8080/"
    },
    "id": "9LPuHhZW_0zs",
    "outputId": "b2d3fbb7-4ea0-4d9c-9245-fbcb771d78b0"
   },
   "outputs": [
    {
     "name": "stdout",
     "output_type": "stream",
     "text": [
      "(2998, 7) (500, 7)\n"
     ]
    }
   ],
   "source": [
    "print(df_train_numeric.shape, df_val_numeric.shape)"
   ]
  },
  {
   "cell_type": "code",
   "execution_count": null,
   "metadata": {
    "id": "jNX-r_qcHuMs"
   },
   "outputs": [],
   "source": [
    "# max_smiles_length = train['SMILES'].str.len().max()  # 174\n",
    "max_smiles_length = 100"
   ]
  },
  {
   "cell_type": "code",
   "execution_count": null,
   "metadata": {
    "id": "peSpbFOb4MoC"
   },
   "outputs": [],
   "source": [
    "tokenizer = Tokenizer(df_train['SMILES'].tolist())"
   ]
  },
  {
   "cell_type": "code",
   "execution_count": null,
   "metadata": {
    "id": "FSFGLMmI2ZIA"
   },
   "outputs": [],
   "source": [
    "batch_size = 20\n",
    "target_column = 'HLM'\n",
    "train_data = SmilesDataset(df_train, df_train_numeric, target_column, tokenizer, max_smiles_length, 20)\n",
    "\n",
    "val_data = SmilesDataset(df_val, df_val_numeric, target_column, tokenizer, max_smiles_length, 20)"
   ]
  },
  {
   "cell_type": "markdown",
   "metadata": {
    "id": "zpkkUS2o6H57"
   },
   "source": [
    "## Train"
   ]
  },
  {
   "cell_type": "markdown",
   "metadata": {
    "id": "Eeb7gycXNuXk"
   },
   "source": [
    "https://aladdinpersson.medium.com/how-to-get-a-progress-bar-in-pytorch-72bdbf19b35c"
   ]
  },
  {
   "cell_type": "code",
   "execution_count": null,
   "metadata": {
    "id": "M-lMcIdVNzjv"
   },
   "outputs": [],
   "source": [
    "# v11: 1060, 30\n",
    "ntokens = tokenizer.token_count() # Token size\n",
    "emsize = 40 # 임베딩 차원  # 어차피 단어한개라서 임베딩사이즈를 키움안되는구나\n",
    "d_hid = 100 # ``nn.TransformerEncoder`` 에서 피드포워드 네트워크(feedforward network) 모델의 차원\n",
    "nlayers = 2 # ``nn.TransformerEncoder`` 내부의 nn.TransformerEncoderLayer 개수\n",
    "nhead = 2 # ``nn.MultiheadAttention`` 의 헤드 개수\n",
    "additional_features_count = df_train_numeric.shape[1]  # 7\n",
    "dropout = 0.1 # 드랍아웃(dropout) 확률"
   ]
  },
  {
   "cell_type": "code",
   "execution_count": null,
   "metadata": {
    "id": "b5jPWC08Xd5B"
   },
   "outputs": [],
   "source": [
    "# v11:\n",
    "ntokens = tokenizer.token_count() # Token size\n",
    "emsize = 10 # 임베딩 차원  # 어차피 단어한개라서 임베딩사이즈를 키움안되는구나\n",
    "d_hid = 50 # ``nn.TransformerEncoder`` 에서 피드포워드 네트워크(feedforward network) 모델의 차원\n",
    "nlayers = 2 # ``nn.TransformerEncoder`` 내부의 nn.TransformerEncoderLayer 개수\n",
    "nhead = 2 # ``nn.MultiheadAttention`` 의 헤드 개수\n",
    "additional_features_count = df_train_numeric.shape[1]  # 7\n",
    "dropout = 0.1 # 드랍아웃(dropout) 확률"
   ]
  },
  {
   "cell_type": "code",
   "execution_count": null,
   "metadata": {
    "id": "iLdA25_27AOS"
   },
   "outputs": [],
   "source": [
    "model = TransformerModel(ntokens, emsize, nhead, d_hid, nlayers, max_smiles_length, additional_features_count, dropout, use_mask=False).to(DEVICE)"
   ]
  },
  {
   "cell_type": "code",
   "execution_count": null,
   "metadata": {
    "id": "n8ccf2iRfWZW"
   },
   "outputs": [],
   "source": []
  },
  {
   "cell_type": "code",
   "execution_count": null,
   "metadata": {
    "id": "-D42G7AF8agM"
   },
   "outputs": [],
   "source": [
    "mse_loss = nn.MSELoss()\n",
    "criterion = nn.MSELoss()\n",
    "# criterion = nn.HuberLoss()\n",
    "optimizer = torch.optim.AdamW(model.parameters(), lr=1e-4)"
   ]
  },
  {
   "cell_type": "code",
   "execution_count": null,
   "metadata": {
    "id": "Q2kP1Kc5Nqrb"
   },
   "outputs": [],
   "source": [
    "NUM_EPOCHS = 30"
   ]
  },
  {
   "cell_type": "code",
   "execution_count": null,
   "metadata": {
    "colab": {
     "base_uri": "https://localhost:8080/"
    },
    "id": "wTL-2e8gCftj",
    "outputId": "829f770b-022a-45f5-8b05-e5048d2a1c00"
   },
   "outputs": [
    {
     "name": "stderr",
     "output_type": "stream",
     "text": [
      "Epoch [1/30]: 100%|██████████| 150/150 [00:01<00:00, 82.38it/s, loss=4.03e+3]\n"
     ]
    },
    {
     "name": "stdout",
     "output_type": "stream",
     "text": [
      "val loss: 3680.50345703125 3680.50345703125\n"
     ]
    },
    {
     "name": "stderr",
     "output_type": "stream",
     "text": [
      "Epoch [2/30]: 100%|██████████| 150/150 [00:01<00:00, 81.42it/s, loss=2.58e+3]\n"
     ]
    },
    {
     "name": "stdout",
     "output_type": "stream",
     "text": [
      "val loss: 1436.90115234375 1436.90115234375\n"
     ]
    },
    {
     "name": "stderr",
     "output_type": "stream",
     "text": [
      "Epoch [3/30]: 100%|██████████| 150/150 [00:01<00:00, 77.27it/s, loss=1.29e+3]\n"
     ]
    },
    {
     "name": "stdout",
     "output_type": "stream",
     "text": [
      "val loss: 1270.5697021484375 1270.5697021484375\n"
     ]
    },
    {
     "name": "stderr",
     "output_type": "stream",
     "text": [
      "Epoch [4/30]: 100%|██████████| 150/150 [00:02<00:00, 68.86it/s, loss=1.25e+3]\n"
     ]
    },
    {
     "name": "stdout",
     "output_type": "stream",
     "text": [
      "val loss: 1242.2838793945311 1242.2838793945311\n"
     ]
    },
    {
     "name": "stderr",
     "output_type": "stream",
     "text": [
      "Epoch [5/30]: 100%|██████████| 150/150 [00:02<00:00, 68.79it/s, loss=1.22e+3]\n"
     ]
    },
    {
     "name": "stdout",
     "output_type": "stream",
     "text": [
      "val loss: 1208.0026123046875 1208.0026123046875\n"
     ]
    },
    {
     "name": "stderr",
     "output_type": "stream",
     "text": [
      "Epoch [6/30]: 100%|██████████| 150/150 [00:01<00:00, 83.79it/s, loss=1.19e+3]\n"
     ]
    },
    {
     "name": "stdout",
     "output_type": "stream",
     "text": [
      "val loss: 1174.6584252929688 1174.6584252929688\n"
     ]
    },
    {
     "name": "stderr",
     "output_type": "stream",
     "text": [
      "Epoch [7/30]: 100%|██████████| 150/150 [00:01<00:00, 82.03it/s, loss=1.17e+3]\n"
     ]
    },
    {
     "name": "stdout",
     "output_type": "stream",
     "text": [
      "val loss: 1147.0414135742187 1147.0414135742187\n"
     ]
    },
    {
     "name": "stderr",
     "output_type": "stream",
     "text": [
      "Epoch [8/30]: 100%|██████████| 150/150 [00:01<00:00, 80.05it/s, loss=1.15e+3]\n"
     ]
    },
    {
     "name": "stdout",
     "output_type": "stream",
     "text": [
      "val loss: 1125.6057006835938 1125.6057006835938\n"
     ]
    },
    {
     "name": "stderr",
     "output_type": "stream",
     "text": [
      "Epoch [9/30]: 100%|██████████| 150/150 [00:01<00:00, 80.22it/s, loss=1.13e+3]\n"
     ]
    },
    {
     "name": "stdout",
     "output_type": "stream",
     "text": [
      "val loss: 1109.8106982421875 1109.8106982421875\n"
     ]
    },
    {
     "name": "stderr",
     "output_type": "stream",
     "text": [
      "Epoch [10/30]: 100%|██████████| 150/150 [00:01<00:00, 79.33it/s, loss=1.12e+3]\n"
     ]
    },
    {
     "name": "stdout",
     "output_type": "stream",
     "text": [
      "val loss: 1098.64296875 1098.64296875\n"
     ]
    },
    {
     "name": "stderr",
     "output_type": "stream",
     "text": [
      "Epoch [11/30]: 100%|██████████| 150/150 [00:02<00:00, 73.32it/s, loss=1.12e+3]\n"
     ]
    },
    {
     "name": "stdout",
     "output_type": "stream",
     "text": [
      "val loss: 1090.9344470214844 1090.9344470214844\n"
     ]
    },
    {
     "name": "stderr",
     "output_type": "stream",
     "text": [
      "Epoch [12/30]: 100%|██████████| 150/150 [00:02<00:00, 65.71it/s, loss=1.11e+3]\n"
     ]
    },
    {
     "name": "stdout",
     "output_type": "stream",
     "text": [
      "val loss: 1085.6352905273438 1085.6352905273438\n"
     ]
    },
    {
     "name": "stderr",
     "output_type": "stream",
     "text": [
      "Epoch [13/30]: 100%|██████████| 150/150 [00:01<00:00, 81.32it/s, loss=1.11e+3]\n"
     ]
    },
    {
     "name": "stdout",
     "output_type": "stream",
     "text": [
      "val loss: 1081.9796826171876 1081.9796826171876\n"
     ]
    },
    {
     "name": "stderr",
     "output_type": "stream",
     "text": [
      "Epoch [14/30]: 100%|██████████| 150/150 [00:01<00:00, 81.37it/s, loss=1.11e+3]\n"
     ]
    },
    {
     "name": "stdout",
     "output_type": "stream",
     "text": [
      "val loss: 1079.3917602539063 1079.3917602539063\n"
     ]
    },
    {
     "name": "stderr",
     "output_type": "stream",
     "text": [
      "Epoch [15/30]: 100%|██████████| 150/150 [00:01<00:00, 81.17it/s, loss=1.11e+3]\n"
     ]
    },
    {
     "name": "stdout",
     "output_type": "stream",
     "text": [
      "val loss: 1077.5341455078126 1077.5341455078126\n"
     ]
    },
    {
     "name": "stderr",
     "output_type": "stream",
     "text": [
      "Epoch [16/30]: 100%|██████████| 150/150 [00:01<00:00, 81.22it/s, loss=1.1e+3]\n"
     ]
    },
    {
     "name": "stdout",
     "output_type": "stream",
     "text": [
      "val loss: 1076.1595385742187 1076.1595385742187\n"
     ]
    },
    {
     "name": "stderr",
     "output_type": "stream",
     "text": [
      "Epoch [17/30]: 100%|██████████| 150/150 [00:01<00:00, 80.89it/s, loss=1.1e+3]\n"
     ]
    },
    {
     "name": "stdout",
     "output_type": "stream",
     "text": [
      "val loss: 1075.0885021972656 1075.0885021972656\n"
     ]
    },
    {
     "name": "stderr",
     "output_type": "stream",
     "text": [
      "Epoch [18/30]: 100%|██████████| 150/150 [00:02<00:00, 71.93it/s, loss=1.1e+3]\n"
     ]
    },
    {
     "name": "stdout",
     "output_type": "stream",
     "text": [
      "val loss: 1074.2483410644531 1074.2483410644531\n"
     ]
    },
    {
     "name": "stderr",
     "output_type": "stream",
     "text": [
      "Epoch [19/30]: 100%|██████████| 150/150 [00:02<00:00, 66.67it/s, loss=1.1e+3]\n"
     ]
    },
    {
     "name": "stdout",
     "output_type": "stream",
     "text": [
      "val loss: 1073.5342248535155 1073.5342248535155\n"
     ]
    },
    {
     "name": "stderr",
     "output_type": "stream",
     "text": [
      "Epoch [20/30]: 100%|██████████| 150/150 [00:02<00:00, 71.12it/s, loss=1.1e+3]\n"
     ]
    },
    {
     "name": "stdout",
     "output_type": "stream",
     "text": [
      "val loss: 1072.9341442871093 1072.9341442871093\n"
     ]
    },
    {
     "name": "stderr",
     "output_type": "stream",
     "text": [
      "Epoch [21/30]: 100%|██████████| 150/150 [00:01<00:00, 78.14it/s, loss=1.1e+3]\n"
     ]
    },
    {
     "name": "stdout",
     "output_type": "stream",
     "text": [
      "val loss: 1072.424736328125 1072.424736328125\n"
     ]
    },
    {
     "name": "stderr",
     "output_type": "stream",
     "text": [
      "Epoch [22/30]: 100%|██████████| 150/150 [00:01<00:00, 79.34it/s, loss=1.1e+3]\n"
     ]
    },
    {
     "name": "stdout",
     "output_type": "stream",
     "text": [
      "val loss: 1071.9551525878906 1071.9551525878906\n"
     ]
    },
    {
     "name": "stderr",
     "output_type": "stream",
     "text": [
      "Epoch [23/30]: 100%|██████████| 150/150 [00:01<00:00, 78.38it/s, loss=1.1e+3]\n"
     ]
    },
    {
     "name": "stdout",
     "output_type": "stream",
     "text": [
      "val loss: 1071.52484375 1071.52484375\n"
     ]
    },
    {
     "name": "stderr",
     "output_type": "stream",
     "text": [
      "Epoch [24/30]: 100%|██████████| 150/150 [00:01<00:00, 77.01it/s, loss=1.1e+3]\n"
     ]
    },
    {
     "name": "stdout",
     "output_type": "stream",
     "text": [
      "val loss: 1071.1098693847657 1071.1098693847657\n"
     ]
    },
    {
     "name": "stderr",
     "output_type": "stream",
     "text": [
      "Epoch [25/30]: 100%|██████████| 150/150 [00:02<00:00, 71.32it/s, loss=1.1e+3]\n"
     ]
    },
    {
     "name": "stdout",
     "output_type": "stream",
     "text": [
      "val loss: 1070.733779296875 1070.733779296875\n"
     ]
    },
    {
     "name": "stderr",
     "output_type": "stream",
     "text": [
      "Epoch [26/30]: 100%|██████████| 150/150 [00:02<00:00, 67.30it/s, loss=1.1e+3]\n"
     ]
    },
    {
     "name": "stdout",
     "output_type": "stream",
     "text": [
      "val loss: 1070.3789990234375 1070.3789990234375\n"
     ]
    },
    {
     "name": "stderr",
     "output_type": "stream",
     "text": [
      "Epoch [27/30]: 100%|██████████| 150/150 [00:02<00:00, 70.79it/s, loss=1.1e+3]\n"
     ]
    },
    {
     "name": "stdout",
     "output_type": "stream",
     "text": [
      "val loss: 1070.0175048828125 1070.0175048828125\n"
     ]
    },
    {
     "name": "stderr",
     "output_type": "stream",
     "text": [
      "Epoch [28/30]: 100%|██████████| 150/150 [00:01<00:00, 80.59it/s, loss=1.1e+3]\n"
     ]
    },
    {
     "name": "stdout",
     "output_type": "stream",
     "text": [
      "val loss: 1069.6776440429687 1069.6776440429687\n"
     ]
    },
    {
     "name": "stderr",
     "output_type": "stream",
     "text": [
      "Epoch [29/30]: 100%|██████████| 150/150 [00:01<00:00, 77.87it/s, loss=1.1e+3]\n"
     ]
    },
    {
     "name": "stdout",
     "output_type": "stream",
     "text": [
      "val loss: 1069.3261462402343 1069.3261462402343\n"
     ]
    },
    {
     "name": "stderr",
     "output_type": "stream",
     "text": [
      "Epoch [30/30]: 100%|██████████| 150/150 [00:01<00:00, 79.83it/s, loss=1.1e+3]\n"
     ]
    },
    {
     "name": "stdout",
     "output_type": "stream",
     "text": [
      "val loss: 1068.9934680175782 1068.9934680175782\n"
     ]
    }
   ],
   "source": [
    "for epoch in range(NUM_EPOCHS):\n",
    "    model.train()\n",
    "    loss_log = []\n",
    "    loop = tqdm(range(len(train_data) + 1))\n",
    "    for i in loop:\n",
    "        X, X_numeric, y = train_data[i][0], train_data[i][1], train_data[i][2]\n",
    "        if X.shape[-1] == 0:  # train data size % batch size == 0일때, 마지막 iter의 X는 길이가 0이 됨.\n",
    "            continue\n",
    "        output = model(X, X_numeric)\n",
    "        loss = criterion(output, y)\n",
    "        optimizer.zero_grad()\n",
    "        loss.backward()\n",
    "        optimizer.step()\n",
    "        loss_log.append(loss.item())\n",
    "        loop.set_description(f\"Epoch [{epoch+1}/{NUM_EPOCHS}]\")\n",
    "        loop.set_postfix(loss=np.mean(loss_log))\n",
    "    # Validate\n",
    "    _loss_log = []\n",
    "    _loss_log_target = []  # mse\n",
    "    model.eval()\n",
    "    for j in range(len(val_data)+1):\n",
    "        _X, _X_numeric, _y = val_data[j][0], val_data[j][1], val_data[j][2]\n",
    "        if _X.shape[-1] == 0:  # train data size % batch size == 0일때, 마지막 iter의 X는 길이가 0이 됨.\n",
    "            continue\n",
    "        with torch.no_grad():\n",
    "            _output = model(_X, _X_numeric)\n",
    "        _loss = criterion(_output, _y)\n",
    "        _loss_mse = mse_loss(_output, _y)\n",
    "        _loss_log.append(_loss.item())\n",
    "        _loss_log_target.append(_loss_mse.item())\n",
    "    print('val loss:', np.mean(_loss_log_target), np.mean(_loss_log))"
   ]
  },
  {
   "cell_type": "markdown",
   "metadata": {
    "id": "XD1gfyU_sQz3"
   },
   "source": [
    "## Submit"
   ]
  },
  {
   "cell_type": "code",
   "execution_count": null,
   "metadata": {
    "id": "odKOiKLluHYs"
   },
   "outputs": [],
   "source": [
    "train = pd.read_csv('data/train.csv')\n",
    "test = pd.read_csv('data/test.csv')"
   ]
  },
  {
   "cell_type": "code",
   "execution_count": null,
   "metadata": {
    "id": "ajYqs_zQvmoG"
   },
   "outputs": [],
   "source": [
    "test['MLM'] = 0\n",
    "test['HLM'] = 0"
   ]
  },
  {
   "cell_type": "code",
   "execution_count": null,
   "metadata": {
    "id": "PZ4uRwrTTt9N"
   },
   "outputs": [],
   "source": [
    "train['AlogP'] = train['AlogP'].fillna(train['AlogP'].mean())"
   ]
  },
  {
   "cell_type": "code",
   "execution_count": null,
   "metadata": {
    "id": "gazgkC3fTzWO"
   },
   "outputs": [],
   "source": [
    "test['AlogP'] = test['AlogP'].fillna(train['AlogP'].mean())"
   ]
  },
  {
   "cell_type": "code",
   "execution_count": null,
   "metadata": {
    "id": "sSLrJQYfTdFZ"
   },
   "outputs": [],
   "source": [
    "scaler = StandardScaler()\n",
    "train_numeric = scaler.fit_transform(train[scale_columns])\n",
    "test_numeric = scaler.transform(test[scale_columns])"
   ]
  },
  {
   "cell_type": "code",
   "execution_count": null,
   "metadata": {
    "id": "lbmY1qSQsRnx"
   },
   "outputs": [],
   "source": [
    "batch_size = 20\n",
    "train_data_mlm = SmilesDataset(train, train_numeric, 'MLM', tokenizer, max_smiles_length, 20)\n",
    "train_data_hlm = SmilesDataset(train, train_numeric, 'HLM', tokenizer, max_smiles_length, 20)"
   ]
  },
  {
   "cell_type": "code",
   "execution_count": null,
   "metadata": {
    "id": "uK1b-spDvs7P"
   },
   "outputs": [],
   "source": [
    "test_data_mlm = SmilesDataset(test, test_numeric, 'MLM', tokenizer, max_smiles_length, 20)\n",
    "test_data_hlm = SmilesDataset(test, test_numeric, 'HLM', tokenizer, max_smiles_length, 20)"
   ]
  },
  {
   "cell_type": "code",
   "execution_count": null,
   "metadata": {
    "id": "FJ9SfeAlvWlD"
   },
   "outputs": [],
   "source": [
    "tokenizer = Tokenizer(train['SMILES'].tolist())"
   ]
  },
  {
   "cell_type": "code",
   "execution_count": null,
   "metadata": {
    "id": "BfkJ3ZCLvZ9m"
   },
   "outputs": [],
   "source": [
    "ntokens = tokenizer.token_count() # Token size\n",
    "emsize = 100 # 임베딩 차원\n",
    "d_hid = 200 # ``nn.TransformerEncoder`` 에서 피드포워드 네트워크(feedforward network) 모델의 차원\n",
    "nlayers = 2 # ``nn.TransformerEncoder`` 내부의 nn.TransformerEncoderLayer 개수\n",
    "nhead = 2 # ``nn.MultiheadAttention`` 의 헤드 개수\n",
    "dropout = 0.1 # 드랍아웃(dropout) 확률"
   ]
  },
  {
   "cell_type": "code",
   "execution_count": null,
   "metadata": {
    "id": "HxhksAbPT-46"
   },
   "outputs": [],
   "source": [
    "# v11: 1060, 30\n",
    "ntokens = tokenizer.token_count() # Token size\n",
    "emsize = 40 # 임베딩 차원  # 어차피 단어한개라서 임베딩사이즈를 키움안되는구나\n",
    "d_hid = 100 # ``nn.TransformerEncoder`` 에서 피드포워드 네트워크(feedforward network) 모델의 차원\n",
    "nlayers = 2 # ``nn.TransformerEncoder`` 내부의 nn.TransformerEncoderLayer 개수\n",
    "nhead = 2 # ``nn.MultiheadAttention`` 의 헤드 개수\n",
    "additional_features_count = df_train_numeric.shape[1]  # 7\n",
    "dropout = 0.1 # 드랍아웃(dropout) 확률"
   ]
  },
  {
   "cell_type": "code",
   "execution_count": null,
   "metadata": {
    "id": "h2BAJ9FAvbLF"
   },
   "outputs": [],
   "source": [
    "model_mlm = TransformerModel(ntokens, emsize, nhead, d_hid, nlayers, max_smiles_length, additional_features_count, dropout, use_mask=False).to(DEVICE)\n",
    "model_hlm = TransformerModel(ntokens, emsize, nhead, d_hid, nlayers, max_smiles_length, additional_features_count, dropout, use_mask=False).to(DEVICE)"
   ]
  },
  {
   "cell_type": "code",
   "execution_count": null,
   "metadata": {
    "id": "0yexfovpvcdl"
   },
   "outputs": [],
   "source": [
    "# criterion = nn.L1Loss()\n",
    "criterion = nn.MSELoss()\n",
    "optimizer_mlm = torch.optim.AdamW(model_mlm.parameters(), lr=1e-4)\n",
    "optimizer_hlm = torch.optim.AdamW(model_hlm.parameters(), lr=1e-4)"
   ]
  },
  {
   "cell_type": "code",
   "execution_count": null,
   "metadata": {
    "id": "5Eiq43dBv3ib"
   },
   "outputs": [],
   "source": [
    "NUM_EPOCHS = 30"
   ]
  },
  {
   "cell_type": "code",
   "execution_count": null,
   "metadata": {
    "colab": {
     "base_uri": "https://localhost:8080/"
    },
    "id": "JCski0ewxFGf",
    "outputId": "71466d53-bdbc-402a-9447-0a5455e7006e"
   },
   "outputs": [
    {
     "name": "stderr",
     "output_type": "stream",
     "text": [
      "Epoch [0/30]: 100%|██████████| 175/175 [00:02<00:00, 67.14it/s, loss=2.21e+3]\n"
     ]
    },
    {
     "name": "stdout",
     "output_type": "stream",
     "text": [
      "saved model\n"
     ]
    },
    {
     "name": "stderr",
     "output_type": "stream",
     "text": [
      "Epoch [1/30]: 100%|██████████| 175/175 [00:02<00:00, 58.55it/s, loss=1.27e+3]\n"
     ]
    },
    {
     "name": "stdout",
     "output_type": "stream",
     "text": [
      "saved model\n"
     ]
    },
    {
     "name": "stderr",
     "output_type": "stream",
     "text": [
      "Epoch [2/30]: 100%|██████████| 175/175 [00:02<00:00, 64.86it/s, loss=1.25e+3]\n"
     ]
    },
    {
     "name": "stdout",
     "output_type": "stream",
     "text": [
      "saved model\n"
     ]
    },
    {
     "name": "stderr",
     "output_type": "stream",
     "text": [
      "Epoch [3/30]: 100%|██████████| 175/175 [00:02<00:00, 60.69it/s, loss=1.23e+3]\n"
     ]
    },
    {
     "name": "stdout",
     "output_type": "stream",
     "text": [
      "saved model\n"
     ]
    },
    {
     "name": "stderr",
     "output_type": "stream",
     "text": [
      "Epoch [4/30]: 100%|██████████| 175/175 [00:02<00:00, 66.94it/s, loss=1.21e+3]\n"
     ]
    },
    {
     "name": "stdout",
     "output_type": "stream",
     "text": [
      "saved model\n"
     ]
    },
    {
     "name": "stderr",
     "output_type": "stream",
     "text": [
      "Epoch [5/30]: 100%|██████████| 175/175 [00:02<00:00, 63.23it/s, loss=1.19e+3]\n"
     ]
    },
    {
     "name": "stdout",
     "output_type": "stream",
     "text": [
      "saved model\n"
     ]
    },
    {
     "name": "stderr",
     "output_type": "stream",
     "text": [
      "Epoch [6/30]: 100%|██████████| 175/175 [00:02<00:00, 80.76it/s, loss=1.17e+3]\n"
     ]
    },
    {
     "name": "stdout",
     "output_type": "stream",
     "text": [
      "saved model\n"
     ]
    },
    {
     "name": "stderr",
     "output_type": "stream",
     "text": [
      "Epoch [7/30]: 100%|██████████| 175/175 [00:02<00:00, 80.10it/s, loss=1.15e+3]\n"
     ]
    },
    {
     "name": "stdout",
     "output_type": "stream",
     "text": [
      "saved model\n"
     ]
    },
    {
     "name": "stderr",
     "output_type": "stream",
     "text": [
      "Epoch [8/30]: 100%|██████████| 175/175 [00:02<00:00, 78.96it/s, loss=1.13e+3]\n"
     ]
    },
    {
     "name": "stdout",
     "output_type": "stream",
     "text": [
      "saved model\n"
     ]
    },
    {
     "name": "stderr",
     "output_type": "stream",
     "text": [
      "Epoch [9/30]: 100%|██████████| 175/175 [00:03<00:00, 49.01it/s, loss=1.11e+3]\n"
     ]
    },
    {
     "name": "stdout",
     "output_type": "stream",
     "text": [
      "saved model\n"
     ]
    },
    {
     "name": "stderr",
     "output_type": "stream",
     "text": [
      "Epoch [10/30]: 100%|██████████| 175/175 [00:03<00:00, 51.21it/s, loss=1.1e+3]\n"
     ]
    },
    {
     "name": "stdout",
     "output_type": "stream",
     "text": [
      "saved model\n"
     ]
    },
    {
     "name": "stderr",
     "output_type": "stream",
     "text": [
      "Epoch [11/30]: 100%|██████████| 175/175 [00:02<00:00, 68.70it/s, loss=1.09e+3]\n"
     ]
    },
    {
     "name": "stdout",
     "output_type": "stream",
     "text": [
      "saved model\n"
     ]
    },
    {
     "name": "stderr",
     "output_type": "stream",
     "text": [
      "Epoch [12/30]: 100%|██████████| 175/175 [00:02<00:00, 76.40it/s, loss=1.09e+3]\n"
     ]
    },
    {
     "name": "stdout",
     "output_type": "stream",
     "text": [
      "saved model\n"
     ]
    },
    {
     "name": "stderr",
     "output_type": "stream",
     "text": [
      "Epoch [13/30]: 100%|██████████| 175/175 [00:02<00:00, 77.19it/s, loss=1.08e+3]\n"
     ]
    },
    {
     "name": "stdout",
     "output_type": "stream",
     "text": [
      "saved model\n"
     ]
    },
    {
     "name": "stderr",
     "output_type": "stream",
     "text": [
      "Epoch [14/30]: 100%|██████████| 175/175 [00:02<00:00, 79.52it/s, loss=1.08e+3]\n"
     ]
    },
    {
     "name": "stdout",
     "output_type": "stream",
     "text": [
      "saved model\n"
     ]
    },
    {
     "name": "stderr",
     "output_type": "stream",
     "text": [
      "Epoch [15/30]: 100%|██████████| 175/175 [00:02<00:00, 75.41it/s, loss=1.08e+3]\n"
     ]
    },
    {
     "name": "stdout",
     "output_type": "stream",
     "text": [
      "saved model\n"
     ]
    },
    {
     "name": "stderr",
     "output_type": "stream",
     "text": [
      "Epoch [16/30]: 100%|██████████| 175/175 [00:02<00:00, 66.08it/s, loss=1.07e+3]\n"
     ]
    },
    {
     "name": "stdout",
     "output_type": "stream",
     "text": [
      "saved model\n"
     ]
    },
    {
     "name": "stderr",
     "output_type": "stream",
     "text": [
      "Epoch [17/30]: 100%|██████████| 175/175 [00:02<00:00, 66.12it/s, loss=1.07e+3]\n"
     ]
    },
    {
     "name": "stdout",
     "output_type": "stream",
     "text": [
      "saved model\n"
     ]
    },
    {
     "name": "stderr",
     "output_type": "stream",
     "text": [
      "Epoch [18/30]: 100%|██████████| 175/175 [00:02<00:00, 76.79it/s, loss=1.07e+3]\n"
     ]
    },
    {
     "name": "stdout",
     "output_type": "stream",
     "text": [
      "saved model\n"
     ]
    },
    {
     "name": "stderr",
     "output_type": "stream",
     "text": [
      "Epoch [19/30]: 100%|██████████| 175/175 [00:02<00:00, 79.64it/s, loss=1.07e+3]\n"
     ]
    },
    {
     "name": "stdout",
     "output_type": "stream",
     "text": [
      "saved model\n"
     ]
    },
    {
     "name": "stderr",
     "output_type": "stream",
     "text": [
      "Epoch [20/30]: 100%|██████████| 175/175 [00:02<00:00, 78.71it/s, loss=1.06e+3]\n"
     ]
    },
    {
     "name": "stdout",
     "output_type": "stream",
     "text": [
      "saved model\n"
     ]
    },
    {
     "name": "stderr",
     "output_type": "stream",
     "text": [
      "Epoch [21/30]: 100%|██████████| 175/175 [00:02<00:00, 75.90it/s, loss=1.06e+3]\n"
     ]
    },
    {
     "name": "stdout",
     "output_type": "stream",
     "text": [
      "saved model\n"
     ]
    },
    {
     "name": "stderr",
     "output_type": "stream",
     "text": [
      "Epoch [22/30]: 100%|██████████| 175/175 [00:04<00:00, 43.62it/s, loss=1.05e+3]\n"
     ]
    },
    {
     "name": "stdout",
     "output_type": "stream",
     "text": [
      "saved model\n"
     ]
    },
    {
     "name": "stderr",
     "output_type": "stream",
     "text": [
      "Epoch [23/30]: 100%|██████████| 175/175 [00:02<00:00, 65.19it/s, loss=1.05e+3]\n"
     ]
    },
    {
     "name": "stdout",
     "output_type": "stream",
     "text": [
      "saved model\n"
     ]
    },
    {
     "name": "stderr",
     "output_type": "stream",
     "text": [
      "Epoch [24/30]: 100%|██████████| 175/175 [00:02<00:00, 76.30it/s, loss=1.05e+3]\n"
     ]
    },
    {
     "name": "stdout",
     "output_type": "stream",
     "text": [
      "saved model\n"
     ]
    },
    {
     "name": "stderr",
     "output_type": "stream",
     "text": [
      "Epoch [25/30]: 100%|██████████| 175/175 [00:02<00:00, 75.50it/s, loss=1.04e+3]\n"
     ]
    },
    {
     "name": "stdout",
     "output_type": "stream",
     "text": [
      "saved model\n"
     ]
    },
    {
     "name": "stderr",
     "output_type": "stream",
     "text": [
      "Epoch [26/30]: 100%|██████████| 175/175 [00:02<00:00, 76.78it/s, loss=1.04e+3]\n"
     ]
    },
    {
     "name": "stdout",
     "output_type": "stream",
     "text": [
      "saved model\n"
     ]
    },
    {
     "name": "stderr",
     "output_type": "stream",
     "text": [
      "Epoch [27/30]: 100%|██████████| 175/175 [00:02<00:00, 72.68it/s, loss=1.03e+3]\n"
     ]
    },
    {
     "name": "stdout",
     "output_type": "stream",
     "text": [
      "saved model\n"
     ]
    },
    {
     "name": "stderr",
     "output_type": "stream",
     "text": [
      "Epoch [28/30]: 100%|██████████| 175/175 [00:02<00:00, 67.53it/s, loss=1.03e+3]\n"
     ]
    },
    {
     "name": "stdout",
     "output_type": "stream",
     "text": [
      "saved model\n"
     ]
    },
    {
     "name": "stderr",
     "output_type": "stream",
     "text": [
      "Epoch [29/30]: 100%|██████████| 175/175 [00:02<00:00, 66.70it/s, loss=1.03e+3]\n"
     ]
    },
    {
     "name": "stdout",
     "output_type": "stream",
     "text": [
      "saved model\n"
     ]
    }
   ],
   "source": [
    "best_loss = np.inf\n",
    "for epoch in range(NUM_EPOCHS):\n",
    "    model_mlm.train()\n",
    "    loss_log = []\n",
    "    loop = tqdm(range(len(train_data_mlm) + 1))\n",
    "    for i in loop:\n",
    "        X, X_numeric, y = train_data_mlm[i][0], train_data_mlm[i][1], train_data_mlm[i][2]\n",
    "        if X.shape[-1] == 0:  # train data size % batch size == 0일때, 마지막 iter의 X는 길이가 0이 됨.\n",
    "            continue\n",
    "        output = model_mlm(X, X_numeric)\n",
    "        loss = criterion(output, y)\n",
    "        optimizer_mlm.zero_grad()\n",
    "        loss.backward()\n",
    "        optimizer_mlm.step()\n",
    "        loss_log.append(loss.item())\n",
    "\n",
    "        loop.set_description(f\"Epoch [{epoch}/{NUM_EPOCHS}]\")\n",
    "        loop.set_postfix(loss=np.mean(loss_log))\n",
    "    if np.mean(loss_log) < best_loss:\n",
    "        print('saved model')\n",
    "        torch.save(model_mlm.state_dict(), 'checkpoint/model_mlm.pt')\n",
    "        best_loss = np.mean(loss_log)"
   ]
  },
  {
   "cell_type": "code",
   "execution_count": null,
   "metadata": {
    "colab": {
     "base_uri": "https://localhost:8080/"
    },
    "id": "hzAaFPn8wfP9",
    "outputId": "5ea5cac5-e80a-47ea-8842-acfab1a800af"
   },
   "outputs": [
    {
     "name": "stderr",
     "output_type": "stream",
     "text": [
      "Epoch [0/30]: 100%|██████████| 175/175 [00:02<00:00, 80.64it/s, loss=3.23e+3]\n"
     ]
    },
    {
     "name": "stdout",
     "output_type": "stream",
     "text": [
      "saved model\n"
     ]
    },
    {
     "name": "stderr",
     "output_type": "stream",
     "text": [
      "Epoch [1/30]: 100%|██████████| 175/175 [00:02<00:00, 80.32it/s, loss=1.31e+3]\n"
     ]
    },
    {
     "name": "stdout",
     "output_type": "stream",
     "text": [
      "saved model\n"
     ]
    },
    {
     "name": "stderr",
     "output_type": "stream",
     "text": [
      "Epoch [2/30]: 100%|██████████| 175/175 [00:02<00:00, 80.45it/s, loss=1.27e+3]\n"
     ]
    },
    {
     "name": "stdout",
     "output_type": "stream",
     "text": [
      "saved model\n"
     ]
    },
    {
     "name": "stderr",
     "output_type": "stream",
     "text": [
      "Epoch [3/30]: 100%|██████████| 175/175 [00:02<00:00, 79.63it/s, loss=1.25e+3]\n"
     ]
    },
    {
     "name": "stdout",
     "output_type": "stream",
     "text": [
      "saved model\n"
     ]
    },
    {
     "name": "stderr",
     "output_type": "stream",
     "text": [
      "Epoch [4/30]: 100%|██████████| 175/175 [00:02<00:00, 72.54it/s, loss=1.23e+3]\n"
     ]
    },
    {
     "name": "stdout",
     "output_type": "stream",
     "text": [
      "saved model\n"
     ]
    },
    {
     "name": "stderr",
     "output_type": "stream",
     "text": [
      "Epoch [5/30]: 100%|██████████| 175/175 [00:02<00:00, 65.25it/s, loss=1.21e+3]\n"
     ]
    },
    {
     "name": "stdout",
     "output_type": "stream",
     "text": [
      "saved model\n"
     ]
    },
    {
     "name": "stderr",
     "output_type": "stream",
     "text": [
      "Epoch [6/30]: 100%|██████████| 175/175 [00:02<00:00, 70.73it/s, loss=1.18e+3]\n"
     ]
    },
    {
     "name": "stdout",
     "output_type": "stream",
     "text": [
      "saved model\n"
     ]
    },
    {
     "name": "stderr",
     "output_type": "stream",
     "text": [
      "Epoch [7/30]: 100%|██████████| 175/175 [00:02<00:00, 79.96it/s, loss=1.16e+3]\n"
     ]
    },
    {
     "name": "stdout",
     "output_type": "stream",
     "text": [
      "saved model\n"
     ]
    },
    {
     "name": "stderr",
     "output_type": "stream",
     "text": [
      "Epoch [8/30]: 100%|██████████| 175/175 [00:02<00:00, 80.48it/s, loss=1.15e+3]\n"
     ]
    },
    {
     "name": "stdout",
     "output_type": "stream",
     "text": [
      "saved model\n"
     ]
    },
    {
     "name": "stderr",
     "output_type": "stream",
     "text": [
      "Epoch [9/30]: 100%|██████████| 175/175 [00:02<00:00, 79.30it/s, loss=1.14e+3]\n"
     ]
    },
    {
     "name": "stdout",
     "output_type": "stream",
     "text": [
      "saved model\n"
     ]
    },
    {
     "name": "stderr",
     "output_type": "stream",
     "text": [
      "Epoch [10/30]: 100%|██████████| 175/175 [00:02<00:00, 77.27it/s, loss=1.13e+3]\n"
     ]
    },
    {
     "name": "stdout",
     "output_type": "stream",
     "text": [
      "saved model\n"
     ]
    },
    {
     "name": "stderr",
     "output_type": "stream",
     "text": [
      "Epoch [11/30]: 100%|██████████| 175/175 [00:02<00:00, 66.21it/s, loss=1.12e+3]\n"
     ]
    },
    {
     "name": "stdout",
     "output_type": "stream",
     "text": [
      "saved model\n"
     ]
    },
    {
     "name": "stderr",
     "output_type": "stream",
     "text": [
      "Epoch [12/30]: 100%|██████████| 175/175 [00:02<00:00, 68.54it/s, loss=1.11e+3]\n"
     ]
    },
    {
     "name": "stdout",
     "output_type": "stream",
     "text": [
      "saved model\n"
     ]
    },
    {
     "name": "stderr",
     "output_type": "stream",
     "text": [
      "Epoch [13/30]: 100%|██████████| 175/175 [00:02<00:00, 80.49it/s, loss=1.1e+3]\n"
     ]
    },
    {
     "name": "stdout",
     "output_type": "stream",
     "text": [
      "saved model\n"
     ]
    },
    {
     "name": "stderr",
     "output_type": "stream",
     "text": [
      "Epoch [14/30]: 100%|██████████| 175/175 [00:02<00:00, 78.71it/s, loss=1.1e+3]\n"
     ]
    },
    {
     "name": "stdout",
     "output_type": "stream",
     "text": [
      "saved model\n"
     ]
    },
    {
     "name": "stderr",
     "output_type": "stream",
     "text": [
      "Epoch [15/30]: 100%|██████████| 175/175 [00:02<00:00, 78.58it/s, loss=1.1e+3]\n"
     ]
    },
    {
     "name": "stdout",
     "output_type": "stream",
     "text": [
      "saved model\n"
     ]
    },
    {
     "name": "stderr",
     "output_type": "stream",
     "text": [
      "Epoch [16/30]: 100%|██████████| 175/175 [00:02<00:00, 78.32it/s, loss=1.09e+3]\n"
     ]
    },
    {
     "name": "stdout",
     "output_type": "stream",
     "text": [
      "saved model\n"
     ]
    },
    {
     "name": "stderr",
     "output_type": "stream",
     "text": [
      "Epoch [17/30]: 100%|██████████| 175/175 [00:02<00:00, 64.02it/s, loss=1.09e+3]\n"
     ]
    },
    {
     "name": "stdout",
     "output_type": "stream",
     "text": [
      "saved model\n"
     ]
    },
    {
     "name": "stderr",
     "output_type": "stream",
     "text": [
      "Epoch [18/30]: 100%|██████████| 175/175 [00:02<00:00, 64.28it/s, loss=1.09e+3]\n"
     ]
    },
    {
     "name": "stdout",
     "output_type": "stream",
     "text": [
      "saved model\n"
     ]
    },
    {
     "name": "stderr",
     "output_type": "stream",
     "text": [
      "Epoch [19/30]: 100%|██████████| 175/175 [00:02<00:00, 77.35it/s, loss=1.08e+3]\n"
     ]
    },
    {
     "name": "stdout",
     "output_type": "stream",
     "text": [
      "saved model\n"
     ]
    },
    {
     "name": "stderr",
     "output_type": "stream",
     "text": [
      "Epoch [20/30]: 100%|██████████| 175/175 [00:02<00:00, 78.03it/s, loss=1.09e+3]\n",
      "Epoch [21/30]: 100%|██████████| 175/175 [00:02<00:00, 78.60it/s, loss=1.08e+3]\n"
     ]
    },
    {
     "name": "stdout",
     "output_type": "stream",
     "text": [
      "saved model\n"
     ]
    },
    {
     "name": "stderr",
     "output_type": "stream",
     "text": [
      "Epoch [22/30]: 100%|██████████| 175/175 [00:02<00:00, 78.73it/s, loss=1.08e+3]\n"
     ]
    },
    {
     "name": "stdout",
     "output_type": "stream",
     "text": [
      "saved model\n"
     ]
    },
    {
     "name": "stderr",
     "output_type": "stream",
     "text": [
      "Epoch [23/30]: 100%|██████████| 175/175 [00:02<00:00, 67.11it/s, loss=1.08e+3]\n"
     ]
    },
    {
     "name": "stdout",
     "output_type": "stream",
     "text": [
      "saved model\n"
     ]
    },
    {
     "name": "stderr",
     "output_type": "stream",
     "text": [
      "Epoch [24/30]: 100%|██████████| 175/175 [00:02<00:00, 63.95it/s, loss=1.08e+3]\n"
     ]
    },
    {
     "name": "stdout",
     "output_type": "stream",
     "text": [
      "saved model\n"
     ]
    },
    {
     "name": "stderr",
     "output_type": "stream",
     "text": [
      "Epoch [25/30]: 100%|██████████| 175/175 [00:02<00:00, 77.70it/s, loss=1.07e+3]\n"
     ]
    },
    {
     "name": "stdout",
     "output_type": "stream",
     "text": [
      "saved model\n"
     ]
    },
    {
     "name": "stderr",
     "output_type": "stream",
     "text": [
      "Epoch [26/30]: 100%|██████████| 175/175 [00:02<00:00, 76.14it/s, loss=1.07e+3]\n",
      "Epoch [27/30]: 100%|██████████| 175/175 [00:02<00:00, 79.08it/s, loss=1.07e+3]\n"
     ]
    },
    {
     "name": "stdout",
     "output_type": "stream",
     "text": [
      "saved model\n"
     ]
    },
    {
     "name": "stderr",
     "output_type": "stream",
     "text": [
      "Epoch [28/30]: 100%|██████████| 175/175 [00:02<00:00, 78.76it/s, loss=1.07e+3]\n"
     ]
    },
    {
     "name": "stdout",
     "output_type": "stream",
     "text": [
      "saved model\n"
     ]
    },
    {
     "name": "stderr",
     "output_type": "stream",
     "text": [
      "Epoch [29/30]: 100%|██████████| 175/175 [00:02<00:00, 72.92it/s, loss=1.07e+3]\n"
     ]
    },
    {
     "name": "stdout",
     "output_type": "stream",
     "text": [
      "saved model\n"
     ]
    }
   ],
   "source": [
    "best_loss = np.inf\n",
    "for epoch in range(NUM_EPOCHS):\n",
    "    model_hlm.train()\n",
    "    loss_log = []\n",
    "    loop = tqdm(range(len(train_data_hlm) + 1))\n",
    "    for i in loop:\n",
    "        X, X_numeric, y = train_data_hlm[i][0], train_data_hlm[i][1], train_data_hlm[i][2]\n",
    "        if X.shape[-1] == 0:  # train data size % batch size == 0일때, 마지막 iter의 X는 길이가 0이 됨.\n",
    "            continue\n",
    "        output = model_hlm(X, X_numeric)\n",
    "        loss = criterion(output, y)\n",
    "        optimizer_hlm.zero_grad()\n",
    "        loss.backward()\n",
    "        optimizer_hlm.step()\n",
    "        loss_log.append(loss.item())\n",
    "\n",
    "        loop.set_description(f\"Epoch [{epoch}/{NUM_EPOCHS}]\")\n",
    "        loop.set_postfix(loss=np.mean(loss_log))\n",
    "    if np.mean(loss_log) < best_loss:\n",
    "        print('saved model')\n",
    "        torch.save(model_hlm.state_dict(), 'checkpoint/model_hlm.pt')\n",
    "        best_loss = np.mean(loss_log)"
   ]
  },
  {
   "cell_type": "markdown",
   "metadata": {
    "id": "jHcZxXHgxObo"
   },
   "source": [
    "### make file"
   ]
  },
  {
   "cell_type": "code",
   "execution_count": null,
   "metadata": {
    "id": "hL4Rd7ZHy7Ft"
   },
   "outputs": [],
   "source": [
    "model_mlm = TransformerModel(ntokens, emsize, nhead, d_hid, nlayers, max_smiles_length, additional_features_count, dropout, use_mask=False).to(DEVICE)\n",
    "model_hlm = TransformerModel(ntokens, emsize, nhead, d_hid, nlayers, max_smiles_length, additional_features_count, dropout, use_mask=False).to(DEVICE)"
   ]
  },
  {
   "cell_type": "code",
   "execution_count": null,
   "metadata": {
    "colab": {
     "base_uri": "https://localhost:8080/"
    },
    "id": "qlQPg3jjy7xu",
    "outputId": "4c74c05e-6c91-4a30-9837-4946aedb0b18"
   },
   "outputs": [
    {
     "data": {
      "text/plain": [
       "<All keys matched successfully>"
      ]
     },
     "execution_count": 576,
     "metadata": {},
     "output_type": "execute_result"
    }
   ],
   "source": [
    "weights_mlm = torch.load('checkpoint/model_mlm.pt')\n",
    "weights_hlm = torch.load('checkpoint/model_hlm.pt')\n",
    "model_mlm.load_state_dict(weights_mlm)\n",
    "model_hlm.load_state_dict(weights_hlm)"
   ]
  },
  {
   "cell_type": "code",
   "execution_count": null,
   "metadata": {
    "id": "OKxTq9ggxlwO"
   },
   "outputs": [],
   "source": [
    "mlm_pred = []\n",
    "hlm_pred = []"
   ]
  },
  {
   "cell_type": "code",
   "execution_count": null,
   "metadata": {
    "id": "k0L56tCfxfe8"
   },
   "outputs": [],
   "source": [
    "model_mlm.eval()\n",
    "for j in range(len(test_data_mlm)+1):\n",
    "    _X, _X_numeric = test_data_mlm[j][0], test_data_mlm[j][1]\n",
    "    with torch.no_grad():\n",
    "        _output = model_mlm(_X, _X_numeric)\n",
    "        _output = _output.squeeze().tolist()\n",
    "        mlm_pred.extend(_output)"
   ]
  },
  {
   "cell_type": "code",
   "execution_count": null,
   "metadata": {
    "id": "jplMo3EqzgMJ"
   },
   "outputs": [],
   "source": [
    "model_hlm.eval()\n",
    "for j in range(len(test_data_hlm)+1):\n",
    "    _X, _X_numeric = test_data_mlm[j][0], test_data_mlm[j][1]\n",
    "    with torch.no_grad():\n",
    "        _output = model_hlm(_X, _X_numeric)\n",
    "        _output = _output.squeeze().tolist()\n",
    "        hlm_pred.extend(_output)"
   ]
  },
  {
   "cell_type": "code",
   "execution_count": null,
   "metadata": {
    "id": "VFEKiDfsxPjf"
   },
   "outputs": [],
   "source": [
    "submission = pd.read_csv('data/sample_submission.csv')"
   ]
  },
  {
   "cell_type": "code",
   "execution_count": null,
   "metadata": {
    "id": "g2bZlPj6yaKn"
   },
   "outputs": [],
   "source": [
    "submission['MLM'] = train['MLM'].mean()\n",
    "submission['HLM'] = train['HLM'].mean()"
   ]
  },
  {
   "cell_type": "code",
   "execution_count": null,
   "metadata": {
    "id": "v7qvjMXNygXJ"
   },
   "outputs": [],
   "source": [
    "submission.to_csv('submission_v1.csv', index=False)"
   ]
  },
  {
   "cell_type": "code",
   "execution_count": null,
   "metadata": {
    "id": "I3jrajVtzmwU"
   },
   "outputs": [],
   "source": [
    "submission['MLM'] = mlm_pred\n",
    "submission['HLM'] = hlm_pred"
   ]
  },
  {
   "cell_type": "code",
   "execution_count": null,
   "metadata": {
    "colab": {
     "base_uri": "https://localhost:8080/"
    },
    "id": "1ErdU2SMzyXw",
    "outputId": "849c64a7-3820-4738-a4fa-56ff1ae230dc"
   },
   "outputs": [
    {
     "data": {
      "text/plain": [
       "0"
      ]
     },
     "execution_count": 582,
     "metadata": {},
     "output_type": "execute_result"
    }
   ],
   "source": [
    "sum(train['HLM'] < 0)"
   ]
  },
  {
   "cell_type": "code",
   "execution_count": null,
   "metadata": {
    "colab": {
     "base_uri": "https://localhost:8080/"
    },
    "id": "NeGk6IgHzpRk",
    "outputId": "6f8e98b6-bf1b-467f-8ffd-73ff27235701"
   },
   "outputs": [
    {
     "name": "stdout",
     "output_type": "stream",
     "text": [
      "3 0\n"
     ]
    }
   ],
   "source": [
    "print(sum(submission['MLM'] < 0), sum(submission['HLM'] < 0))"
   ]
  },
  {
   "cell_type": "code",
   "execution_count": null,
   "metadata": {
    "id": "j-B3sHUmz5P5"
   },
   "outputs": [],
   "source": [
    "submission.loc[submission['HLM'] < 0, 'HLM'] = 0"
   ]
  },
  {
   "cell_type": "code",
   "execution_count": null,
   "metadata": {
    "colab": {
     "base_uri": "https://localhost:8080/"
    },
    "id": "Y_EtC8wEz-ny",
    "outputId": "eee6d846-45dc-4cbc-c28b-571ec3902b53"
   },
   "outputs": [
    {
     "name": "stdout",
     "output_type": "stream",
     "text": [
      "3 0\n"
     ]
    }
   ],
   "source": [
    "print(sum(submission['MLM'] < 0), sum(submission['HLM'] < 0))"
   ]
  },
  {
   "cell_type": "code",
   "execution_count": null,
   "metadata": {
    "id": "Ta99s04-z9-P"
   },
   "outputs": [],
   "source": [
    "submission.to_csv('submission_v2.csv', index=False)"
   ]
  },
  {
   "cell_type": "code",
   "execution_count": null,
   "metadata": {
    "colab": {
     "base_uri": "https://localhost:8080/"
    },
    "id": "b8PE8o7L0CMw",
    "outputId": "8f77aef9-8302-4038-8b67-7867a4eb0fe3"
   },
   "outputs": [
    {
     "name": "stdout",
     "output_type": "stream",
     "text": [
      "\u001b[0m\u001b[01;34mcheckpoint\u001b[0m/  seq_to_seq.ipynb  stock.ipynb        submission_v2.csv\n",
      "\u001b[01;34mdata\u001b[0m/        smiles.ipynb      submission_v1.csv  Untitled0.ipynb\n"
     ]
    }
   ],
   "source": [
    "ls"
   ]
  }
 ],
 "metadata": {
  "accelerator": "GPU",
  "colab": {
   "gpuType": "T4",
   "provenance": []
  },
  "kernelspec": {
   "display_name": "Python 3 (ipykernel)",
   "language": "python",
   "name": "python3"
  },
  "language_info": {
   "codemirror_mode": {
    "name": "ipython",
    "version": 3
   },
   "file_extension": ".py",
   "mimetype": "text/x-python",
   "name": "python",
   "nbconvert_exporter": "python",
   "pygments_lexer": "ipython3",
   "version": "3.9.13"
  }
 },
 "nbformat": 4,
 "nbformat_minor": 1
}
