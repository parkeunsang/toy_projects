{
 "cells": [
  {
   "cell_type": "code",
   "execution_count": 74,
   "metadata": {},
   "outputs": [],
   "source": [
    "import pandas as pd\n",
    "import numpy as np\n",
    "import cufflinks as cf"
   ]
  },
  {
   "cell_type": "code",
   "execution_count": 46,
   "metadata": {},
   "outputs": [],
   "source": [
    "btc_df = pd.read_csv('data/btc_221220.csv')\n",
    "btc_df['Open_time'] = pd.to_datetime(btc_df['Open_time'])\n",
    "btc_df['hour'] = btc_df['Open_time'].dt.hour"
   ]
  },
  {
   "cell_type": "markdown",
   "metadata": {},
   "source": [
    "## Preprocess"
   ]
  },
  {
   "cell_type": "code",
   "execution_count": 47,
   "metadata": {},
   "outputs": [],
   "source": [
    "def select_by_year(df, year):\n",
    "    return df[btc_df['Open_time'].dt.year == int(year)].reset_index(drop=True)"
   ]
  },
  {
   "cell_type": "code",
   "execution_count": 48,
   "metadata": {},
   "outputs": [],
   "source": [
    "def close_ratio(df, period=1):\n",
    "    return df['Close'].pct_change(period).shift(-period)"
   ]
  },
  {
   "cell_type": "code",
   "execution_count": 128,
   "metadata": {},
   "outputs": [],
   "source": [
    "btc_df_2020 = select_by_year(btc_df, 2022)"
   ]
  },
  {
   "cell_type": "code",
   "execution_count": 129,
   "metadata": {},
   "outputs": [],
   "source": [
    "btc_df_2020['Change'] = close_ratio(btc_df_2020, 2)"
   ]
  },
  {
   "cell_type": "code",
   "execution_count": 130,
   "metadata": {},
   "outputs": [
    {
     "data": {
      "text/plain": [
       "<matplotlib.axes._subplots.AxesSubplot at 0x7f91cb3a4ad0>"
      ]
     },
     "execution_count": 130,
     "metadata": {},
     "output_type": "execute_result"
    },
    {
     "data": {
      "image/png": "[encoded data removed]",
      "text/plain": [
       "<Figure size 432x288 with 1 Axes>"
      ]
     },
     "metadata": {
      "needs_background": "light"
     },
     "output_type": "display_data"
    }
   ],
   "source": [
    "btc_df_2020.groupby('hour').std()['Change'].plot()"
   ]
  },
  {
   "cell_type": "code",
   "execution_count": 89,
   "metadata": {},
   "outputs": [],
   "source": [
    "size = btc_df_2020.groupby('hour').size().iloc[0]"
   ]
  },
  {
   "cell_type": "code",
   "execution_count": 91,
   "metadata": {},
   "outputs": [],
   "source": [
    "n = 10000\n",
    "candidates = []\n",
    "for i in range(n):\n",
    "    candidates.append(btc_df_2020.sample(size)['Change2'].mean())"
   ]
  },
  {
   "cell_type": "code",
   "execution_count": 92,
   "metadata": {},
   "outputs": [
    {
     "data": {
      "text/plain": [
       "hour\n",
       "10   -0.001757\n",
       "22   -0.001173\n",
       "11   -0.000695\n",
       "9    -0.000595\n",
       "21   -0.000333\n",
       "3    -0.000149\n",
       "6     0.000039\n",
       "16    0.000132\n",
       "17    0.000157\n",
       "19    0.000199\n",
       "12    0.000220\n",
       "1     0.000254\n",
       "0     0.000301\n",
       "18    0.000319\n",
       "2     0.000379\n",
       "15    0.000547\n",
       "7     0.000580\n",
       "23    0.000587\n",
       "14    0.000636\n",
       "13    0.000692\n",
       "4     0.000928\n",
       "8     0.001029\n",
       "5     0.001202\n",
       "20    0.001372\n",
       "Name: Change2, dtype: float64"
      ]
     },
     "execution_count": 92,
     "metadata": {},
     "output_type": "execute_result"
    }
   ],
   "source": [
    "btc_df_2020.groupby('hour').mean()['Change2'].sort_values()"
   ]
  },
  {
   "cell_type": "code",
   "execution_count": 93,
   "metadata": {},
   "outputs": [
    {
     "data": {
      "text/plain": [
       "0.0401"
      ]
     },
     "execution_count": 93,
     "metadata": {},
     "output_type": "execute_result"
    }
   ],
   "source": [
    "np.mean(np.array(candidates) > 0.001372)"
   ]
  },
  {
   "cell_type": "code",
   "execution_count": 94,
   "metadata": {},
   "outputs": [
    {
     "data": {
      "text/plain": [
       "0.0016"
      ]
     },
     "execution_count": 94,
     "metadata": {},
     "output_type": "execute_result"
    }
   ],
   "source": [
    "np.mean(np.array(candidates) < -0.001757)"
   ]
  }
 ],
 "metadata": {
  "kernelspec": {
   "display_name": "py37",
   "language": "python",
   "name": "py37"
  },
  "language_info": {
   "codemirror_mode": {
    "name": "ipython",
    "version": 3
   },
   "file_extension": ".py",
   "mimetype": "text/x-python",
   "name": "python",
   "nbconvert_exporter": "python",
   "pygments_lexer": "ipython3",
   "version": "3.7.6"
  }
 },
 "nbformat": 4,
 "nbformat_minor": 2
}
