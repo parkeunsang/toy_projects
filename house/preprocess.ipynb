{
 "cells": [
  {
   "cell_type": "markdown",
   "metadata": {},
   "source": [
    "# 부동산 분석\n",
    "- 데이터: https://data.seoul.go.kr/dataList/OA-21275/S/1/datasetView.do\n",
    "- "
   ]
  },
  {
   "cell_type": "code",
   "execution_count": 1,
   "metadata": {},
   "outputs": [],
   "source": [
    "import plotly"
   ]
  },
  {
   "cell_type": "code",
   "execution_count": 131,
   "metadata": {},
   "outputs": [],
   "source": [
    "import pandas as pd\n",
    "import numpy as np\n",
    "import datetime"
   ]
  },
  {
   "cell_type": "code",
   "execution_count": 87,
   "metadata": {},
   "outputs": [],
   "source": [
    "pd.set_option('display.max_columns', 500)"
   ]
  },
  {
   "cell_type": "code",
   "execution_count": 116,
   "metadata": {},
   "outputs": [],
   "source": [
    "df_2022 = pd.read_csv('data/서울시 부동산 실거래가 정보_2022.csv', encoding='euc-kr')"
   ]
  },
  {
   "cell_type": "code",
   "execution_count": 117,
   "metadata": {},
   "outputs": [],
   "source": [
    "df_2023 = pd.read_csv('data/서울시 부동산 실거래가 정보_2023.csv', encoding='euc-kr')"
   ]
  },
  {
   "cell_type": "code",
   "execution_count": 118,
   "metadata": {},
   "outputs": [],
   "source": [
    "df = pd.concat([df_2022, df_2023]).reset_index(drop=True)"
   ]
  },
  {
   "cell_type": "code",
   "execution_count": 108,
   "metadata": {},
   "outputs": [],
   "source": [
    "def make_building_code(row):\n",
    "    use_columns = ['자치구명', '법정동명', '본번', '부번']\n",
    "    is_nan = False\n",
    "    for col in use_columns:\n",
    "        is_nan = is_nan | pd.isna(row[col])\n",
    "    if is_nan:\n",
    "        return np.nan\n",
    "    else:\n",
    "        building_code = f\"{row['자치구명']} {row['법정동명']} {str(int(row['본번']))}-{str(int(row['부번']))}\"\n",
    "        if building_code.endswith('-0'):\n",
    "            building_code = building_code[:-2]\n",
    "        building_code += ' ' + str(row[BUILDING_AREA]) + '(㎡)'\n",
    "        return building_code\n",
    "        \n",
    "    building_code = []\n",
    "    for col in use_columns:\n",
    "        col_code = row[col]\n",
    "        if not isinstance(col_code, str):\n",
    "            col_code = str(int(col_code))\n",
    "        building_code.append(col_code)\n",
    "    building_code = '-'.join(building_code)  # ['a', 'b', 'c'] --> 'a-b-c'\n",
    "    return building_code"
   ]
  },
  {
   "cell_type": "code",
   "execution_count": 124,
   "metadata": {},
   "outputs": [],
   "source": [
    "BUILDING_AREA = '건물면적(㎡)'\n",
    "BUILDING_CODE = '건물코드'"
   ]
  },
  {
   "cell_type": "code",
   "execution_count": 121,
   "metadata": {},
   "outputs": [],
   "source": [
    "df['건물코드'] = df.apply(lambda x:make_building_code(x), axis=1)"
   ]
  },
  {
   "cell_type": "code",
   "execution_count": 122,
   "metadata": {},
   "outputs": [
    {
     "data": {
      "text/plain": [
       "0         중랑구 면목동 173-164 50.35(㎡)\n",
       "1             광진구 자양동 860 75.03(㎡)\n",
       "2         강남구 개포동 1165-16 50.28(㎡)\n",
       "3          성동구 용답동 238-12 20.21(㎡)\n",
       "4         강동구 천호동 167-153 29.01(㎡)\n",
       "                    ...           \n",
       "273798        금천구 시흥동 865 51.02(㎡)\n",
       "273799     성북구 성북동 145-36 44.42(㎡)\n",
       "273800      도봉구 창동 608-56 43.77(㎡)\n",
       "273801      서초구 잠원동 55-7 242.16(㎡)\n",
       "273802        은평구 신사동 370 84.96(㎡)\n",
       "Name: 건물코드, Length: 273803, dtype: object"
      ]
     },
     "execution_count": 122,
     "metadata": {},
     "output_type": "execute_result"
    }
   ],
   "source": [
    "df['건물코드']"
   ]
  },
  {
   "cell_type": "markdown",
   "metadata": {},
   "source": [
    "## Analysis"
   ]
  },
  {
   "cell_type": "markdown",
   "metadata": {},
   "source": [
    "### 1. 거래건수"
   ]
  },
  {
   "cell_type": "markdown",
   "metadata": {},
   "source": [
    "### 2. 집값 등락\n",
    "- 하루전 대비, 일주일전 대비, 한달전 대비 집값은 얼마 올랐나\n",
    "- 계산법: 특정 시점(or 구간)에 거래된 건물코드 리스트를 대상으로 가장 최근 거래된 건물(최대 n개월 or m년 이내) 대비 등락률을 계산\n",
    "    - 건수가 많으면?\n",
    "- 일단 효율성은 고려안하고 구현해보자"
   ]
  },
  {
   "cell_type": "code",
   "execution_count": 125,
   "metadata": {},
   "outputs": [
    {
     "data": {
      "text/plain": [
       "14752"
      ]
     },
     "execution_count": 125,
     "metadata": {},
     "output_type": "execute_result"
    }
   ],
   "source": [
    "sum(df.groupby('건물코드').size() == 1)"
   ]
  },
  {
   "cell_type": "code",
   "execution_count": 126,
   "metadata": {},
   "outputs": [
    {
     "data": {
      "text/plain": [
       "35858"
      ]
     },
     "execution_count": 126,
     "metadata": {},
     "output_type": "execute_result"
    }
   ],
   "source": [
    "sum(df.groupby('건물코드').size() != 1)"
   ]
  },
  {
   "cell_type": "code",
   "execution_count": 127,
   "metadata": {},
   "outputs": [
    {
     "data": {
      "text/plain": [
       "273803"
      ]
     },
     "execution_count": 127,
     "metadata": {},
     "output_type": "execute_result"
    }
   ],
   "source": [
    "len(df)"
   ]
  },
  {
   "cell_type": "code",
   "execution_count": 128,
   "metadata": {},
   "outputs": [
    {
     "data": {
      "text/plain": [
       "50611"
      ]
     },
     "execution_count": 128,
     "metadata": {},
     "output_type": "execute_result"
    }
   ],
   "source": [
    "len(df['건물코드'].unique())"
   ]
  },
  {
   "cell_type": "code",
   "execution_count": 153,
   "metadata": {},
   "outputs": [],
   "source": [
    "compare_to_date = 20230601\n",
    "target_from_date = 20230901\n",
    "target_to_date = 20230914"
   ]
  },
  {
   "cell_type": "code",
   "execution_count": 162,
   "metadata": {},
   "outputs": [],
   "source": [
    "compare_gap = 365"
   ]
  },
  {
   "cell_type": "code",
   "execution_count": 163,
   "metadata": {},
   "outputs": [],
   "source": [
    "compare_from_date = datetime.datetime.strptime(str(compare_to_date), '%Y%m%d')\n",
    "compare_from_date = int(datetime.datetime.strftime(compare_from_date - datetime.timedelta(days=compare_gap), format='%Y%m%d'))"
   ]
  },
  {
   "cell_type": "code",
   "execution_count": 158,
   "metadata": {},
   "outputs": [],
   "source": [
    "df_prior = df[(df['계약일'] >= compare_from_date) & (df['계약일'] <= compare_to_date)]"
   ]
  },
  {
   "cell_type": "code",
   "execution_count": 159,
   "metadata": {},
   "outputs": [],
   "source": [
    "df_target = df[(df['계약일'] >= target_from_date) & (df['계약일'] < target_to_date)]"
   ]
  },
  {
   "cell_type": "code",
   "execution_count": 166,
   "metadata": {},
   "outputs": [],
   "source": [
    "target_building_data = df_target.groupby('건물코드').mean()['물건금액(만원)'].to_dict()"
   ]
  },
  {
   "cell_type": "code",
   "execution_count": 169,
   "metadata": {},
   "outputs": [
    {
     "data": {
      "text/plain": [
       "0         중랑구 면목동 173-164 50.35(㎡)\n",
       "1             광진구 자양동 860 75.03(㎡)\n",
       "2         강남구 개포동 1165-16 50.28(㎡)\n",
       "3          성동구 용답동 238-12 20.21(㎡)\n",
       "4         강동구 천호동 167-153 29.01(㎡)\n",
       "                    ...           \n",
       "273794        종로구 명륜2가 236 84.9(㎡)\n",
       "273795        종로구 명륜2가 236 84.9(㎡)\n",
       "273796                         NaN\n",
       "273797    영등포구 영등포동7가 208 19.31(㎡)\n",
       "273798        금천구 시흥동 865 51.02(㎡)\n",
       "Name: 건물코드, Length: 112140, dtype: object"
      ]
     },
     "execution_count": 169,
     "metadata": {},
     "output_type": "execute_result"
    }
   ],
   "source": []
  },
  {
   "cell_type": "code",
   "execution_count": 172,
   "metadata": {},
   "outputs": [
    {
     "data": {
      "text/html": [
       "<div>\n",
       "<style scoped>\n",
       "    .dataframe tbody tr th:only-of-type {\n",
       "        vertical-align: middle;\n",
       "    }\n",
       "\n",
       "    .dataframe tbody tr th {\n",
       "        vertical-align: top;\n",
       "    }\n",
       "\n",
       "    .dataframe thead th {\n",
       "        text-align: right;\n",
       "    }\n",
       "</style>\n",
       "<table border=\"1\" class=\"dataframe\">\n",
       "  <thead>\n",
       "    <tr style=\"text-align: right;\">\n",
       "      <th></th>\n",
       "      <th>접수연도</th>\n",
       "      <th>자치구코드</th>\n",
       "      <th>자치구명</th>\n",
       "      <th>법정동코드</th>\n",
       "      <th>법정동명</th>\n",
       "      <th>지번구분</th>\n",
       "      <th>지번구분명</th>\n",
       "      <th>본번</th>\n",
       "      <th>부번</th>\n",
       "      <th>건물명</th>\n",
       "      <th>계약일</th>\n",
       "      <th>물건금액(만원)</th>\n",
       "      <th>건물면적(㎡)</th>\n",
       "      <th>토지면적(㎡)</th>\n",
       "      <th>층</th>\n",
       "      <th>권리구분</th>\n",
       "      <th>취소일</th>\n",
       "      <th>건축년도</th>\n",
       "      <th>건물용도</th>\n",
       "      <th>신고구분</th>\n",
       "      <th>신고한 개업공인중개사 시군구명</th>\n",
       "      <th>건물코드</th>\n",
       "    </tr>\n",
       "  </thead>\n",
       "  <tbody>\n",
       "  </tbody>\n",
       "</table>\n",
       "</div>"
      ],
      "text/plain": [
       "Empty DataFrame\n",
       "Columns: [접수연도, 자치구코드, 자치구명, 법정동코드, 법정동명, 지번구분, 지번구분명, 본번, 부번, 건물명, 계약일, 물건금액(만원), 건물면적(㎡), 토지면적(㎡), 층, 권리구분, 취소일, 건축년도, 건물용도, 신고구분, 신고한 개업공인중개사 시군구명, 건물코드]\n",
       "Index: []"
      ]
     },
     "execution_count": 172,
     "metadata": {},
     "output_type": "execute_result"
    }
   ],
   "source": [
    "df_prior[df_prior['건물코드'] == building_code]"
   ]
  },
  {
   "cell_type": "code",
   "execution_count": 174,
   "metadata": {},
   "outputs": [],
   "source": [
    "for building_code, price in target_building_data.items():\n",
    "    l = len(df_prior[df_prior['건물코드'] == building_code])\n",
    "    if l:\n",
    "        break"
   ]
  },
  {
   "cell_type": "code",
   "execution_count": 176,
   "metadata": {},
   "outputs": [
    {
     "data": {
      "text/plain": [
       "27500.0"
      ]
     },
     "execution_count": 176,
     "metadata": {},
     "output_type": "execute_result"
    }
   ],
   "source": [
    "price"
   ]
  },
  {
   "cell_type": "code",
   "execution_count": 175,
   "metadata": {},
   "outputs": [
    {
     "data": {
      "text/html": [
       "<div>\n",
       "<style scoped>\n",
       "    .dataframe tbody tr th:only-of-type {\n",
       "        vertical-align: middle;\n",
       "    }\n",
       "\n",
       "    .dataframe tbody tr th {\n",
       "        vertical-align: top;\n",
       "    }\n",
       "\n",
       "    .dataframe thead th {\n",
       "        text-align: right;\n",
       "    }\n",
       "</style>\n",
       "<table border=\"1\" class=\"dataframe\">\n",
       "  <thead>\n",
       "    <tr style=\"text-align: right;\">\n",
       "      <th></th>\n",
       "      <th>접수연도</th>\n",
       "      <th>자치구코드</th>\n",
       "      <th>자치구명</th>\n",
       "      <th>법정동코드</th>\n",
       "      <th>법정동명</th>\n",
       "      <th>지번구분</th>\n",
       "      <th>지번구분명</th>\n",
       "      <th>본번</th>\n",
       "      <th>부번</th>\n",
       "      <th>건물명</th>\n",
       "      <th>계약일</th>\n",
       "      <th>물건금액(만원)</th>\n",
       "      <th>건물면적(㎡)</th>\n",
       "      <th>토지면적(㎡)</th>\n",
       "      <th>층</th>\n",
       "      <th>권리구분</th>\n",
       "      <th>취소일</th>\n",
       "      <th>건축년도</th>\n",
       "      <th>건물용도</th>\n",
       "      <th>신고구분</th>\n",
       "      <th>신고한 개업공인중개사 시군구명</th>\n",
       "      <th>건물코드</th>\n",
       "    </tr>\n",
       "  </thead>\n",
       "  <tbody>\n",
       "    <tr>\n",
       "      <th>25971</th>\n",
       "      <td>2022</td>\n",
       "      <td>11680</td>\n",
       "      <td>강남구</td>\n",
       "      <td>10300</td>\n",
       "      <td>개포동</td>\n",
       "      <td>1.0</td>\n",
       "      <td>대지</td>\n",
       "      <td>1231.0</td>\n",
       "      <td>21.0</td>\n",
       "      <td>드림하우스</td>\n",
       "      <td>20220901</td>\n",
       "      <td>24500</td>\n",
       "      <td>17.34</td>\n",
       "      <td>11.9</td>\n",
       "      <td>2.0</td>\n",
       "      <td>NaN</td>\n",
       "      <td>NaN</td>\n",
       "      <td>2014.0</td>\n",
       "      <td>연립다세대</td>\n",
       "      <td>중개거래</td>\n",
       "      <td>서울 서초구</td>\n",
       "      <td>강남구 개포동 1231-21 17.34(㎡)</td>\n",
       "    </tr>\n",
       "    <tr>\n",
       "      <th>25976</th>\n",
       "      <td>2022</td>\n",
       "      <td>11680</td>\n",
       "      <td>강남구</td>\n",
       "      <td>10300</td>\n",
       "      <td>개포동</td>\n",
       "      <td>1.0</td>\n",
       "      <td>대지</td>\n",
       "      <td>1231.0</td>\n",
       "      <td>21.0</td>\n",
       "      <td>드림하우스</td>\n",
       "      <td>20220901</td>\n",
       "      <td>24500</td>\n",
       "      <td>17.34</td>\n",
       "      <td>11.9</td>\n",
       "      <td>2.0</td>\n",
       "      <td>NaN</td>\n",
       "      <td>NaN</td>\n",
       "      <td>2014.0</td>\n",
       "      <td>연립다세대</td>\n",
       "      <td>중개거래</td>\n",
       "      <td>서울 서초구</td>\n",
       "      <td>강남구 개포동 1231-21 17.34(㎡)</td>\n",
       "    </tr>\n",
       "    <tr>\n",
       "      <th>26201</th>\n",
       "      <td>2022</td>\n",
       "      <td>11680</td>\n",
       "      <td>강남구</td>\n",
       "      <td>10300</td>\n",
       "      <td>개포동</td>\n",
       "      <td>1.0</td>\n",
       "      <td>대지</td>\n",
       "      <td>1231.0</td>\n",
       "      <td>21.0</td>\n",
       "      <td>드림하우스</td>\n",
       "      <td>20220901</td>\n",
       "      <td>24500</td>\n",
       "      <td>17.34</td>\n",
       "      <td>11.9</td>\n",
       "      <td>2.0</td>\n",
       "      <td>NaN</td>\n",
       "      <td>NaN</td>\n",
       "      <td>2014.0</td>\n",
       "      <td>연립다세대</td>\n",
       "      <td>중개거래</td>\n",
       "      <td>서울 서초구</td>\n",
       "      <td>강남구 개포동 1231-21 17.34(㎡)</td>\n",
       "    </tr>\n",
       "  </tbody>\n",
       "</table>\n",
       "</div>"
      ],
      "text/plain": [
       "       접수연도  자치구코드 자치구명  법정동코드 법정동명  지번구분 지번구분명      본번    부번    건물명  \\\n",
       "25971  2022  11680  강남구  10300  개포동   1.0    대지  1231.0  21.0  드림하우스   \n",
       "25976  2022  11680  강남구  10300  개포동   1.0    대지  1231.0  21.0  드림하우스   \n",
       "26201  2022  11680  강남구  10300  개포동   1.0    대지  1231.0  21.0  드림하우스   \n",
       "\n",
       "            계약일  물건금액(만원)  건물면적(㎡)  토지면적(㎡)    층 권리구분  취소일    건축년도   건물용도  \\\n",
       "25971  20220901     24500    17.34     11.9  2.0  NaN  NaN  2014.0  연립다세대   \n",
       "25976  20220901     24500    17.34     11.9  2.0  NaN  NaN  2014.0  연립다세대   \n",
       "26201  20220901     24500    17.34     11.9  2.0  NaN  NaN  2014.0  연립다세대   \n",
       "\n",
       "       신고구분 신고한 개업공인중개사 시군구명                      건물코드  \n",
       "25971  중개거래           서울 서초구  강남구 개포동 1231-21 17.34(㎡)  \n",
       "25976  중개거래           서울 서초구  강남구 개포동 1231-21 17.34(㎡)  \n",
       "26201  중개거래           서울 서초구  강남구 개포동 1231-21 17.34(㎡)  "
      ]
     },
     "execution_count": 175,
     "metadata": {},
     "output_type": "execute_result"
    }
   ],
   "source": [
    "df_prior[df_prior['건물코드'] == building_code]"
   ]
  },
  {
   "cell_type": "code",
   "execution_count": null,
   "metadata": {},
   "outputs": [],
   "source": []
  },
  {
   "cell_type": "code",
   "execution_count": 57,
   "metadata": {},
   "outputs": [],
   "source": [
    "df_prior_price = df_prior.groupby([BUILDING_CODE, BUILDING_AREA]).mean()['물건금액(만원)']\n"
   ]
  },
  {
   "cell_type": "code",
   "execution_count": 58,
   "metadata": {},
   "outputs": [],
   "source": [
    "df_posterior_price = df_posterior.groupby([BUILDING_CODE, BUILDING_AREA]).mean()['물건금액(만원)']"
   ]
  },
  {
   "cell_type": "code",
   "execution_count": 59,
   "metadata": {},
   "outputs": [],
   "source": [
    "df_prior_price = pd.DataFrame(df_prior_price).reset_index()\n",
    "df_prior_price = df_prior_price.rename(columns={'물건금액(만원)': '물건금액(만원)_prior'})"
   ]
  },
  {
   "cell_type": "code",
   "execution_count": 60,
   "metadata": {},
   "outputs": [],
   "source": [
    "df_posterior_price = pd.DataFrame(df_posterior_price).reset_index()\n",
    "df_posterior_price = df_posterior_price.rename(columns={'물건금액(만원)': '물건금액(만원)_posterior'})"
   ]
  },
  {
   "cell_type": "code",
   "execution_count": 63,
   "metadata": {},
   "outputs": [],
   "source": [
    "df_merge = df_prior_price.merge(df_posterior_price, on=[BUILDING_CODE, BUILDING_AREA])"
   ]
  },
  {
   "cell_type": "code",
   "execution_count": 64,
   "metadata": {},
   "outputs": [
    {
     "data": {
      "text/html": [
       "<div>\n",
       "<style scoped>\n",
       "    .dataframe tbody tr th:only-of-type {\n",
       "        vertical-align: middle;\n",
       "    }\n",
       "\n",
       "    .dataframe tbody tr th {\n",
       "        vertical-align: top;\n",
       "    }\n",
       "\n",
       "    .dataframe thead th {\n",
       "        text-align: right;\n",
       "    }\n",
       "</style>\n",
       "<table border=\"1\" class=\"dataframe\">\n",
       "  <thead>\n",
       "    <tr style=\"text-align: right;\">\n",
       "      <th></th>\n",
       "      <th>건물코드</th>\n",
       "      <th>건물면적(㎡)</th>\n",
       "      <th>물건금액(만원)_prior</th>\n",
       "      <th>물건금액(만원)_posterior</th>\n",
       "    </tr>\n",
       "  </thead>\n",
       "  <tbody>\n",
       "    <tr>\n",
       "      <th>0</th>\n",
       "      <td>강남구 개포동 1231-21</td>\n",
       "      <td>17.34</td>\n",
       "      <td>24500.0</td>\n",
       "      <td>27500.0</td>\n",
       "    </tr>\n",
       "    <tr>\n",
       "      <th>1</th>\n",
       "      <td>강남구 개포동 13-3</td>\n",
       "      <td>31.91</td>\n",
       "      <td>21325.0</td>\n",
       "      <td>19800.0</td>\n",
       "    </tr>\n",
       "    <tr>\n",
       "      <th>2</th>\n",
       "      <td>강남구 논현동 22-0</td>\n",
       "      <td>35.73</td>\n",
       "      <td>90000.0</td>\n",
       "      <td>87000.0</td>\n",
       "    </tr>\n",
       "    <tr>\n",
       "      <th>3</th>\n",
       "      <td>강남구 대치동 316-0</td>\n",
       "      <td>76.79</td>\n",
       "      <td>223300.0</td>\n",
       "      <td>231375.0</td>\n",
       "    </tr>\n",
       "    <tr>\n",
       "      <th>4</th>\n",
       "      <td>강남구 도곡동 467-6</td>\n",
       "      <td>138.66</td>\n",
       "      <td>260000.0</td>\n",
       "      <td>271000.0</td>\n",
       "    </tr>\n",
       "    <tr>\n",
       "      <th>...</th>\n",
       "      <td>...</td>\n",
       "      <td>...</td>\n",
       "      <td>...</td>\n",
       "      <td>...</td>\n",
       "    </tr>\n",
       "    <tr>\n",
       "      <th>343</th>\n",
       "      <td>중랑구 신내동 650-0</td>\n",
       "      <td>39.84</td>\n",
       "      <td>40250.0</td>\n",
       "      <td>39000.0</td>\n",
       "    </tr>\n",
       "    <tr>\n",
       "      <th>344</th>\n",
       "      <td>중랑구 신내동 661-0</td>\n",
       "      <td>59.76</td>\n",
       "      <td>52000.0</td>\n",
       "      <td>49500.0</td>\n",
       "    </tr>\n",
       "    <tr>\n",
       "      <th>345</th>\n",
       "      <td>중랑구 신내동 785-0</td>\n",
       "      <td>57.30</td>\n",
       "      <td>52500.0</td>\n",
       "      <td>55000.0</td>\n",
       "    </tr>\n",
       "    <tr>\n",
       "      <th>346</th>\n",
       "      <td>중랑구 신내동 816-0</td>\n",
       "      <td>84.65</td>\n",
       "      <td>80000.0</td>\n",
       "      <td>80000.0</td>\n",
       "    </tr>\n",
       "    <tr>\n",
       "      <th>347</th>\n",
       "      <td>중랑구 중화동 450-0</td>\n",
       "      <td>50.37</td>\n",
       "      <td>54440.0</td>\n",
       "      <td>54000.0</td>\n",
       "    </tr>\n",
       "  </tbody>\n",
       "</table>\n",
       "<p>348 rows × 4 columns</p>\n",
       "</div>"
      ],
      "text/plain": [
       "                건물코드  건물면적(㎡)  물건금액(만원)_prior  물건금액(만원)_posterior\n",
       "0    강남구 개포동 1231-21    17.34         24500.0             27500.0\n",
       "1       강남구 개포동 13-3    31.91         21325.0             19800.0\n",
       "2       강남구 논현동 22-0    35.73         90000.0             87000.0\n",
       "3      강남구 대치동 316-0    76.79        223300.0            231375.0\n",
       "4      강남구 도곡동 467-6   138.66        260000.0            271000.0\n",
       "..               ...      ...             ...                 ...\n",
       "343    중랑구 신내동 650-0    39.84         40250.0             39000.0\n",
       "344    중랑구 신내동 661-0    59.76         52000.0             49500.0\n",
       "345    중랑구 신내동 785-0    57.30         52500.0             55000.0\n",
       "346    중랑구 신내동 816-0    84.65         80000.0             80000.0\n",
       "347    중랑구 중화동 450-0    50.37         54440.0             54000.0\n",
       "\n",
       "[348 rows x 4 columns]"
      ]
     },
     "execution_count": 64,
     "metadata": {},
     "output_type": "execute_result"
    }
   ],
   "source": [
    "df_merge"
   ]
  },
  {
   "cell_type": "code",
   "execution_count": 79,
   "metadata": {},
   "outputs": [],
   "source": [
    "df_merge['ratio'] = (df_merge['물건금액(만원)_posterior']/df_merge['물건금액(만원)_prior'] - 1)*100"
   ]
  },
  {
   "cell_type": "code",
   "execution_count": 96,
   "metadata": {},
   "outputs": [],
   "source": [
    "df_merge['주소_구'] = df_merge.apply(lambda x:x['건물코드'].split('-')[0], axis=1)\n",
    "df_merge['주소_동'] = df_merge.apply(lambda x:' '.join(x['건물코드'].split('-')[:2]), axis=1)"
   ]
  },
  {
   "cell_type": "code",
   "execution_count": 95,
   "metadata": {},
   "outputs": [
    {
     "data": {
      "text/plain": [
       "주소\n",
       "영등포구 대림동      -32.275132\n",
       "영등포구 당산동6가    -27.272727\n",
       "강동구 상일동       -17.961903\n",
       "노원구 중계동       -16.908930\n",
       "은평구 수색동       -15.447805\n",
       "                 ...    \n",
       "용산구 이태원동       43.020073\n",
       "금천구 독산동       110.617267\n",
       "용산구 문배동       125.423729\n",
       "종로구 사직동       275.641026\n",
       "종로구 내수동       285.520536\n",
       "Name: ratio, Length: 132, dtype: float64"
      ]
     },
     "execution_count": 95,
     "metadata": {},
     "output_type": "execute_result"
    }
   ],
   "source": [
    "df_merge.groupby('주소').mean()['ratio'].sort_values()"
   ]
  },
  {
   "cell_type": "code",
   "execution_count": 97,
   "metadata": {},
   "outputs": [
    {
     "data": {
      "text/plain": [
       "주소_구\n",
       "중랑구      -7.860449\n",
       "구로구      -5.227198\n",
       "동대문구     -5.017144\n",
       "은평구      -4.451871\n",
       "관악구      -3.096512\n",
       "노원구      -2.205352\n",
       "양천구      -1.691259\n",
       "성북구      -0.539158\n",
       "영등포구      0.635759\n",
       "송파구       0.652155\n",
       "강서구       0.885938\n",
       "광진구       1.449003\n",
       "동작구       1.755353\n",
       "중구        2.578430\n",
       "서초구       3.402614\n",
       "강동구       3.963062\n",
       "도봉구       4.926320\n",
       "마포구       6.288729\n",
       "강남구       7.597298\n",
       "서대문구     14.999968\n",
       "성동구      17.907724\n",
       "강북구      22.207027\n",
       "용산구      42.396614\n",
       "금천구      44.444521\n",
       "종로구     171.398770\n",
       "Name: ratio, dtype: float64"
      ]
     },
     "execution_count": 97,
     "metadata": {},
     "output_type": "execute_result"
    }
   ],
   "source": [
    "df_merge.groupby('주소_구').mean()['ratio'].sort_values()"
   ]
  },
  {
   "cell_type": "code",
   "execution_count": 100,
   "metadata": {},
   "outputs": [
    {
     "data": {
      "text/html": [
       "<div>\n",
       "<style scoped>\n",
       "    .dataframe tbody tr th:only-of-type {\n",
       "        vertical-align: middle;\n",
       "    }\n",
       "\n",
       "    .dataframe tbody tr th {\n",
       "        vertical-align: top;\n",
       "    }\n",
       "\n",
       "    .dataframe thead th {\n",
       "        text-align: right;\n",
       "    }\n",
       "</style>\n",
       "<table border=\"1\" class=\"dataframe\">\n",
       "  <thead>\n",
       "    <tr style=\"text-align: right;\">\n",
       "      <th></th>\n",
       "      <th>건물코드</th>\n",
       "      <th>물건금액(만원)_prior</th>\n",
       "      <th>물건금액(만원)_posterior</th>\n",
       "      <th>ratio</th>\n",
       "      <th>주소</th>\n",
       "      <th>주소_구</th>\n",
       "      <th>주소_동</th>\n",
       "    </tr>\n",
       "  </thead>\n",
       "  <tbody>\n",
       "    <tr>\n",
       "      <th>298</th>\n",
       "      <td>종로구-내수동-72-0</td>\n",
       "      <td>31400.0</td>\n",
       "      <td>208000.0</td>\n",
       "      <td>562.420382</td>\n",
       "      <td>종로구 내수동</td>\n",
       "      <td>종로구</td>\n",
       "      <td>종로구 내수동</td>\n",
       "    </tr>\n",
       "    <tr>\n",
       "      <th>299</th>\n",
       "      <td>종로구-내수동-75-0</td>\n",
       "      <td>29000.0</td>\n",
       "      <td>31500.0</td>\n",
       "      <td>8.620690</td>\n",
       "      <td>종로구 내수동</td>\n",
       "      <td>종로구</td>\n",
       "      <td>종로구 내수동</td>\n",
       "    </tr>\n",
       "    <tr>\n",
       "      <th>300</th>\n",
       "      <td>종로구-무악동-82-0</td>\n",
       "      <td>96726.0</td>\n",
       "      <td>117900.0</td>\n",
       "      <td>21.890702</td>\n",
       "      <td>종로구 무악동</td>\n",
       "      <td>종로구</td>\n",
       "      <td>종로구 무악동</td>\n",
       "    </tr>\n",
       "    <tr>\n",
       "      <th>301</th>\n",
       "      <td>종로구-사직동-9-0</td>\n",
       "      <td>39000.0</td>\n",
       "      <td>146500.0</td>\n",
       "      <td>275.641026</td>\n",
       "      <td>종로구 사직동</td>\n",
       "      <td>종로구</td>\n",
       "      <td>종로구 사직동</td>\n",
       "    </tr>\n",
       "    <tr>\n",
       "      <th>302</th>\n",
       "      <td>종로구-숭인동-2-1</td>\n",
       "      <td>95000.0</td>\n",
       "      <td>84000.0</td>\n",
       "      <td>-11.578947</td>\n",
       "      <td>종로구 숭인동</td>\n",
       "      <td>종로구</td>\n",
       "      <td>종로구 숭인동</td>\n",
       "    </tr>\n",
       "  </tbody>\n",
       "</table>\n",
       "</div>"
      ],
      "text/plain": [
       "             건물코드  물건금액(만원)_prior  물건금액(만원)_posterior       ratio       주소  \\\n",
       "298  종로구-내수동-72-0         31400.0            208000.0  562.420382  종로구 내수동   \n",
       "299  종로구-내수동-75-0         29000.0             31500.0    8.620690  종로구 내수동   \n",
       "300  종로구-무악동-82-0         96726.0            117900.0   21.890702  종로구 무악동   \n",
       "301   종로구-사직동-9-0         39000.0            146500.0  275.641026  종로구 사직동   \n",
       "302   종로구-숭인동-2-1         95000.0             84000.0  -11.578947  종로구 숭인동   \n",
       "\n",
       "    주소_구     주소_동  \n",
       "298  종로구  종로구 내수동  \n",
       "299  종로구  종로구 내수동  \n",
       "300  종로구  종로구 무악동  \n",
       "301  종로구  종로구 사직동  \n",
       "302  종로구  종로구 숭인동  "
      ]
     },
     "execution_count": 100,
     "metadata": {},
     "output_type": "execute_result"
    }
   ],
   "source": [
    "df_merge[df_merge['주소_구'] == '종로구']"
   ]
  },
  {
   "cell_type": "code",
   "execution_count": 106,
   "metadata": {},
   "outputs": [
    {
     "data": {
      "text/plain": [
       "접수연도                           2023\n",
       "자치구코드                         11110\n",
       "자치구명                            종로구\n",
       "법정동코드                         11800\n",
       "법정동명                            내수동\n",
       "지번구분                            1.0\n",
       "지번구분명                            대지\n",
       "본번                             72.0\n",
       "부번                              0.0\n",
       "건물명                     경희궁의 아침 3단지\n",
       "계약일                        20230807\n",
       "물건금액(만원)                      31400\n",
       "건물면적(㎡)                        37.5\n",
       "토지면적(㎡)                       48.95\n",
       "층                              16.0\n",
       "권리구분                            NaN\n",
       "취소일                             NaN\n",
       "건축년도                         2004.0\n",
       "건물용도                           오피스텔\n",
       "신고구분                           중개거래\n",
       "신고한 개업공인중개사 시군구명    서울 영등포구, 서울 종로구\n",
       "건물코드                   종로구-내수동-72-0\n",
       "Name: 5669, dtype: object"
      ]
     },
     "execution_count": 106,
     "metadata": {},
     "output_type": "execute_result"
    }
   ],
   "source": [
    "df[df['건물코드'] == '종로구-내수동-72-0'].iloc[1]"
   ]
  },
  {
   "cell_type": "code",
   "execution_count": 105,
   "metadata": {},
   "outputs": [
    {
     "data": {
      "text/plain": [
       "접수연도                          2023\n",
       "자치구코드                        11110\n",
       "자치구명                           종로구\n",
       "법정동코드                        11800\n",
       "법정동명                           내수동\n",
       "지번구분                           1.0\n",
       "지번구분명                           대지\n",
       "본번                            72.0\n",
       "부번                             0.0\n",
       "건물명                      경희궁의아침3단지\n",
       "계약일                       20230909\n",
       "물건금액(만원)                    208000\n",
       "건물면적(㎡)                     150.48\n",
       "토지면적(㎡)                        0.0\n",
       "층                              9.0\n",
       "권리구분                           NaN\n",
       "취소일                            NaN\n",
       "건축년도                        2004.0\n",
       "건물용도                           아파트\n",
       "신고구분                          중개거래\n",
       "신고한 개업공인중개사 시군구명    서울 용산구, 서울 종로구\n",
       "건물코드                  종로구-내수동-72-0\n",
       "Name: 143, dtype: object"
      ]
     },
     "execution_count": 105,
     "metadata": {},
     "output_type": "execute_result"
    }
   ],
   "source": [
    "df[df['건물코드'] == '종로구-내수동-72-0'].iloc[0]"
   ]
  },
  {
   "cell_type": "code",
   "execution_count": 86,
   "metadata": {},
   "outputs": [
    {
     "data": {
      "text/plain": [
       "0      [강남구, 개포동, 1231, 21]\n",
       "1       [강남구, 대치동, 1027, 0]\n",
       "2        [강남구, 대치동, 316, 0]\n",
       "3        [강남구, 도곡동, 467, 6]\n",
       "4         [강남구, 도곡동, 91, 5]\n",
       "               ...         \n",
       "313      [중랑구, 신내동, 650, 0]\n",
       "314      [중랑구, 신내동, 661, 0]\n",
       "315      [중랑구, 신내동, 785, 0]\n",
       "316      [중랑구, 신내동, 816, 0]\n",
       "317      [중랑구, 중화동, 450, 0]\n",
       "Name: 건물코드, Length: 318, dtype: object"
      ]
     },
     "execution_count": 86,
     "metadata": {},
     "output_type": "execute_result"
    }
   ],
   "source": [
    "df_merge['건물코드'].str.split('-')"
   ]
  },
  {
   "cell_type": "code",
   "execution_count": 71,
   "metadata": {},
   "outputs": [
    {
     "ename": "TypeError",
     "evalue": "merge() missing 1 required positional argument: 'right'",
     "output_type": "error",
     "traceback": [
      "\u001b[1;31m---------------------------------------------------------------------------\u001b[0m",
      "\u001b[1;31mTypeError\u001b[0m                                 Traceback (most recent call last)",
      "Input \u001b[1;32mIn [71]\u001b[0m, in \u001b[0;36m<cell line: 1>\u001b[1;34m()\u001b[0m\n\u001b[1;32m----> 1\u001b[0m \u001b[43mpd\u001b[49m\u001b[38;5;241;43m.\u001b[39;49m\u001b[43mmerge\u001b[49m\u001b[43m(\u001b[49m\u001b[43m[\u001b[49m\u001b[43mdf_prior_price\u001b[49m\u001b[43m,\u001b[49m\u001b[43m \u001b[49m\u001b[43mdf_posterior_price\u001b[49m\u001b[43m]\u001b[49m\u001b[43m,\u001b[49m\u001b[43m \u001b[49m\u001b[43mon\u001b[49m\u001b[38;5;241;43m=\u001b[39;49m\u001b[38;5;124;43m'\u001b[39;49m\u001b[38;5;124;43m건물코드\u001b[39;49m\u001b[38;5;124;43m'\u001b[39;49m\u001b[43m)\u001b[49m\n",
      "\u001b[1;31mTypeError\u001b[0m: merge() missing 1 required positional argument: 'right'"
     ]
    }
   ],
   "source": [
    "pd.merge([df_prior_price, df_posterior_price], on='건물코드')"
   ]
  },
  {
   "cell_type": "code",
   "execution_count": 69,
   "metadata": {},
   "outputs": [
    {
     "data": {
      "text/html": [
       "<div>\n",
       "<style scoped>\n",
       "    .dataframe tbody tr th:only-of-type {\n",
       "        vertical-align: middle;\n",
       "    }\n",
       "\n",
       "    .dataframe tbody tr th {\n",
       "        vertical-align: top;\n",
       "    }\n",
       "\n",
       "    .dataframe thead th {\n",
       "        text-align: right;\n",
       "    }\n",
       "</style>\n",
       "<table border=\"1\" class=\"dataframe\">\n",
       "  <thead>\n",
       "    <tr style=\"text-align: right;\">\n",
       "      <th></th>\n",
       "      <th>건물코드</th>\n",
       "      <th>물건금액(만원)_posterior</th>\n",
       "    </tr>\n",
       "  </thead>\n",
       "  <tbody>\n",
       "    <tr>\n",
       "      <th>0</th>\n",
       "      <td>강남구-개포동-1172-3</td>\n",
       "      <td>30500.0</td>\n",
       "    </tr>\n",
       "    <tr>\n",
       "      <th>1</th>\n",
       "      <td>강남구-개포동-1231-21</td>\n",
       "      <td>27500.0</td>\n",
       "    </tr>\n",
       "    <tr>\n",
       "      <th>2</th>\n",
       "      <td>강남구-개포동-13-3</td>\n",
       "      <td>19800.0</td>\n",
       "    </tr>\n",
       "    <tr>\n",
       "      <th>3</th>\n",
       "      <td>강남구-논현동-172-2</td>\n",
       "      <td>35000.0</td>\n",
       "    </tr>\n",
       "    <tr>\n",
       "      <th>4</th>\n",
       "      <td>강남구-논현동-22-0</td>\n",
       "      <td>87000.0</td>\n",
       "    </tr>\n",
       "    <tr>\n",
       "      <th>...</th>\n",
       "      <td>...</td>\n",
       "      <td>...</td>\n",
       "    </tr>\n",
       "    <tr>\n",
       "      <th>776</th>\n",
       "      <td>중랑구-중화동-309-106</td>\n",
       "      <td>25250.0</td>\n",
       "    </tr>\n",
       "    <tr>\n",
       "      <th>777</th>\n",
       "      <td>중랑구-중화동-322-34</td>\n",
       "      <td>30600.0</td>\n",
       "    </tr>\n",
       "    <tr>\n",
       "      <th>778</th>\n",
       "      <td>중랑구-중화동-330-100</td>\n",
       "      <td>36500.0</td>\n",
       "    </tr>\n",
       "    <tr>\n",
       "      <th>779</th>\n",
       "      <td>중랑구-중화동-450-0</td>\n",
       "      <td>54000.0</td>\n",
       "    </tr>\n",
       "    <tr>\n",
       "      <th>780</th>\n",
       "      <td>중랑구-중화동-86-6</td>\n",
       "      <td>25000.0</td>\n",
       "    </tr>\n",
       "  </tbody>\n",
       "</table>\n",
       "<p>781 rows × 2 columns</p>\n",
       "</div>"
      ],
      "text/plain": [
       "                건물코드  물건금액(만원)_posterior\n",
       "0     강남구-개포동-1172-3             30500.0\n",
       "1    강남구-개포동-1231-21             27500.0\n",
       "2       강남구-개포동-13-3             19800.0\n",
       "3      강남구-논현동-172-2             35000.0\n",
       "4       강남구-논현동-22-0             87000.0\n",
       "..               ...                 ...\n",
       "776  중랑구-중화동-309-106             25250.0\n",
       "777   중랑구-중화동-322-34             30600.0\n",
       "778  중랑구-중화동-330-100             36500.0\n",
       "779    중랑구-중화동-450-0             54000.0\n",
       "780     중랑구-중화동-86-6             25000.0\n",
       "\n",
       "[781 rows x 2 columns]"
      ]
     },
     "execution_count": 69,
     "metadata": {},
     "output_type": "execute_result"
    }
   ],
   "source": [
    "df_posterior_price"
   ]
  }
 ],
 "metadata": {
  "kernelspec": {
   "display_name": "py37",
   "language": "python",
   "name": "py37"
  },
  "language_info": {
   "codemirror_mode": {
    "name": "ipython",
    "version": 3
   },
   "file_extension": ".py",
   "mimetype": "text/x-python",
   "name": "python",
   "nbconvert_exporter": "python",
   "pygments_lexer": "ipython3",
   "version": "3.7.6"
  }
 },
 "nbformat": 4,
 "nbformat_minor": 5
}
