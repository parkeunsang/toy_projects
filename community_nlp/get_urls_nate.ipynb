{
 "cells": [
  {
   "cell_type": "code",
   "execution_count": 28,
   "metadata": {},
   "outputs": [],
   "source": [
    "import requests\n",
    "from bs4 import BeautifulSoup\n",
    "import datetime\n",
    "import os\n",
    "import pymysql"
   ]
  },
  {
   "cell_type": "code",
   "execution_count": 68,
   "metadata": {},
   "outputs": [],
   "source": [
    "ip_address = os.environ['AWS_IP']\n",
    "PASSWORD = os.environ['SQL_PWD_AWS']\n",
    "\n",
    "con = pymysql.connect(\n",
    "    user='edward', \n",
    "    passwd=PASSWORD,\n",
    "    host=ip_address, \n",
    "    db='community', \n",
    "    charset='utf8'\n",
    ")"
   ]
  },
  {
   "cell_type": "code",
   "execution_count": null,
   "metadata": {},
   "outputs": [],
   "source": [
    "BASE_URL = 'https://pann.nate.com'"
   ]
  },
  {
   "cell_type": "code",
   "execution_count": 34,
   "metadata": {},
   "outputs": [],
   "source": [
    "def continuos_dates(start, end, fm):\n",
    "    dates = []\n",
    "    dt = datetime.datetime.strptime(start, fm)\n",
    "    while True:\n",
    "        dt_string = dt.strftime(format=fm)\n",
    "        dates.append(dt_string)\n",
    "        if dt_string == end:\n",
    "            break\n",
    "        dt = dt + datetime.timedelta(days=1)\n",
    "    return dates"
   ]
  },
  {
   "cell_type": "code",
   "execution_count": 72,
   "metadata": {},
   "outputs": [],
   "source": [
    "def get_urls(date):\n",
    "    urls = []\n",
    "    for page in range(1, 3):\n",
    "        params = {'stdt': date, 'page': page}\n",
    "        result = requests.get(BASE_URL + '/talk/ranking/d', params = params)\n",
    "        soup = BeautifulSoup(result.text, 'lxml')\n",
    "        lists = soup.find('ul', {'class':'post_wrap'}).find_all('li')\n",
    "        urls.extend([['nate_pann', li.find('dt').find('a')['href'], date] for li in lists])\n",
    "    return urls"
   ]
  },
  {
   "cell_type": "code",
   "execution_count": 70,
   "metadata": {},
   "outputs": [],
   "source": [
    "def commit_sql(data):\n",
    "    with  con.cursor() as cursor:\n",
    "        cursor.executemany(\"insert into urls(name, url, date) values (%s, %s, %s)\", data )\n",
    "        con.commit()"
   ]
  },
  {
   "cell_type": "code",
   "execution_count": null,
   "metadata": {},
   "outputs": [],
   "source": [
    "start = '20210101'\n",
    "end = '20210811'\n",
    "dates = continuos_dates(start, end, '%Y%m%d')"
   ]
  },
  {
   "cell_type": "code",
   "execution_count": 58,
   "metadata": {},
   "outputs": [],
   "source": [
    "for date in dates:\n",
    "    urls = get_urls(date)\n",
    "    commit_sql(urls)"
   ]
  }
 ],
 "metadata": {
  "kernelspec": {
   "display_name": "Python 3",
   "language": "python",
   "name": "python3"
  },
  "language_info": {
   "codemirror_mode": {
    "name": "ipython",
    "version": 3
   },
   "file_extension": ".py",
   "mimetype": "text/x-python",
   "name": "python",
   "nbconvert_exporter": "python",
   "pygments_lexer": "ipython3",
   "version": "3.7.4"
  }
 },
 "nbformat": 4,
 "nbformat_minor": 5
}
