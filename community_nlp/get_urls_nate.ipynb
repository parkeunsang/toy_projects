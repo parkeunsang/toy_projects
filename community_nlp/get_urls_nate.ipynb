{
 "cells": [
  {
   "cell_type": "code",
   "execution_count": 18,
   "metadata": {},
   "outputs": [],
   "source": [
    "import requests\n",
    "from bs4 import BeautifulSoup\n",
    "import datetime\n",
    "import os\n",
    "import pymysql\n",
    "from tqdm import tqdm\n",
    "from dotenv import load_dotenv"
   ]
  },
  {
   "cell_type": "code",
   "execution_count": 2,
   "metadata": {},
   "outputs": [],
   "source": [
    "IS_ROOT_DIR = 0\n",
    "def env_set():\n",
    "    global IS_ROOT_DIR\n",
    "    if not IS_ROOT_DIR:\n",
    "        load_dotenv(verbose=True)\n",
    "        IS_ROOT_DIR = 1\n",
    "\n",
    "def sql_setting():\n",
    "    SQL_IP = os.environ['IP_ADDRESS']\n",
    "    SQL_PASSWORD = os.environ['MYSQL_PASSWORD']\n",
    "\n",
    "    con = pymysql.connect(\n",
    "        user='nlp', \n",
    "        passwd=SQL_PASSWORD,\n",
    "        host=SQL_IP, \n",
    "        db='community', \n",
    "        charset='utf8'\n",
    "    )\n",
    "    return con\n",
    "\n",
    "env_set()\n",
    "con = sql_setting()\n",
    "BASE_URL = 'https://pann.nate.com'"
   ]
  },
  {
   "cell_type": "code",
   "execution_count": 6,
   "metadata": {},
   "outputs": [],
   "source": [
    "def continuos_dates(start, end, fm):\n",
    "    dates = []\n",
    "    dt = datetime.datetime.strptime(start, fm)\n",
    "    while True:\n",
    "        dt_string = dt.strftime(format=fm)\n",
    "        dates.append(dt_string)\n",
    "        if dt_string == end:\n",
    "            break\n",
    "        dt = dt + datetime.timedelta(days=1)\n",
    "    return dates"
   ]
  },
  {
   "cell_type": "code",
   "execution_count": 21,
   "metadata": {},
   "outputs": [],
   "source": [
    "def get_urls(date):\n",
    "    urls = []\n",
    "    for page in range(1, 3):\n",
    "        params = {'stdt': date, 'page': page}\n",
    "        result = requests.get(BASE_URL + '/talk/ranking/d', params = params)\n",
    "        soup = BeautifulSoup(result.text, 'lxml')\n",
    "        lists = soup.find('ul', {'class':'post_wrap'}).find_all('li')\n",
    "        urls.extend([[li.find('dt').find('a')['href'], date] for li in lists])\n",
    "    return urls"
   ]
  },
  {
   "cell_type": "code",
   "execution_count": 22,
   "metadata": {},
   "outputs": [],
   "source": [
    "def commit_sql(data):\n",
    "    with  con.cursor() as cursor:\n",
    "        cursor.executemany(\"insert into urls_nate(url, date) values (%s, %s)\", data )\n",
    "        con.commit()"
   ]
  },
  {
   "cell_type": "markdown",
   "metadata": {},
   "source": [
    "CREATE TABLE community.urls_nate (id INTEGER PRIMARY KEY AUTO_INCREMENT, url TEXT, date TEXT);"
   ]
  },
  {
   "cell_type": "code",
   "execution_count": 23,
   "metadata": {},
   "outputs": [],
   "source": [
    "if __name__ == '__main__':\n",
    "    start = '20220101'\n",
    "    end = '20221231'\n",
    "    dates = continuos_dates(start, end, '%Y%m%d')\n",
    "\n",
    "    for date in tqdm(dates):\n",
    "        urls = get_urls(date)\n",
    "        commit_sql(urls)"
   ]
  }
 ],
 "metadata": {
  "kernelspec": {
   "display_name": "Python 3",
   "language": "python",
   "name": "python3"
  },
  "language_info": {
   "codemirror_mode": {
    "name": "ipython",
    "version": 3
   },
   "file_extension": ".py",
   "mimetype": "text/x-python",
   "name": "python",
   "nbconvert_exporter": "python",
   "pygments_lexer": "ipython3",
   "version": "3.7.6"
  }
 },
 "nbformat": 4,
 "nbformat_minor": 5
}
