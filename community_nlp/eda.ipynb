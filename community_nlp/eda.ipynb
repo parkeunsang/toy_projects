{
 "cells": [
  {
   "cell_type": "code",
   "execution_count": 44,
   "metadata": {},
   "outputs": [],
   "source": [
    "import requests\n",
    "from bs4 import BeautifulSoup\n",
    "import datetime\n",
    "import os\n",
    "import pymysql\n",
    "import pandas as pd\n",
    "from tqdm import tqdm\n",
    "from konlpy.tag import Okt,Mecab\n",
    "import kss"
   ]
  },
  {
   "cell_type": "code",
   "execution_count": 4,
   "metadata": {},
   "outputs": [],
   "source": [
    "ip_address = os.environ['AWS_IP']\n",
    "PASSWORD = os.environ['SQL_PWD_AWS']\n",
    "\n",
    "con = pymysql.connect(\n",
    "    user='edward', \n",
    "    passwd=PASSWORD,\n",
    "    host=ip_address, \n",
    "    db='community', \n",
    "    charset='utf8'\n",
    ")"
   ]
  },
  {
   "cell_type": "code",
   "execution_count": 5,
   "metadata": {},
   "outputs": [],
   "source": [
    "def nate_all_content():\n",
    "    sql = f\"select * from nate_content\"\n",
    "    with con.cursor() as cursor:\n",
    "        cursor.execute(sql)\n",
    "        result = cursor.fetchall()\n",
    "    return result"
   ]
  },
  {
   "cell_type": "code",
   "execution_count": 6,
   "metadata": {},
   "outputs": [],
   "source": [
    "def nate_all_comment():\n",
    "    sql = f\"select * from nate_comment\"\n",
    "    with con.cursor() as cursor:\n",
    "        cursor.execute(sql)\n",
    "        result = cursor.fetchall()\n",
    "    return result"
   ]
  },
  {
   "cell_type": "code",
   "execution_count": 7,
   "metadata": {},
   "outputs": [],
   "source": [
    "okt = Okt()\n",
    "mecab = Mecab()"
   ]
  },
  {
   "cell_type": "code",
   "execution_count": 8,
   "metadata": {},
   "outputs": [],
   "source": [
    "contents = nate_all_content()"
   ]
  },
  {
   "cell_type": "code",
   "execution_count": 9,
   "metadata": {},
   "outputs": [],
   "source": [
    "comments = nate_all_comment()"
   ]
  },
  {
   "cell_type": "code",
   "execution_count": 10,
   "metadata": {},
   "outputs": [],
   "source": [
    "contents_df = pd.DataFrame(contents)"
   ]
  },
  {
   "cell_type": "code",
   "execution_count": 37,
   "metadata": {},
   "outputs": [],
   "source": [
    "comments_df = pd.DataFrame(comments)"
   ]
  },
  {
   "cell_type": "code",
   "execution_count": null,
   "metadata": {},
   "outputs": [],
   "source": []
  },
  {
   "cell_type": "code",
   "execution_count": 45,
   "metadata": {},
   "outputs": [],
   "source": [
    "temp = []"
   ]
  },
  {
   "cell_type": "code",
   "execution_count": 46,
   "metadata": {},
   "outputs": [
    {
     "name": "stderr",
     "output_type": "stream",
     "text": [
      "100%|██████████| 100/100 [00:02<00:00, 34.23it/s]\n"
     ]
    }
   ],
   "source": [
    "for i in tqdm(range(100)):\n",
    "    te = comments_df[3][i]\n",
    "    temp.append(kss.split_sentences(te))"
   ]
  },
  {
   "cell_type": "code",
   "execution_count": 58,
   "metadata": {},
   "outputs": [
    {
     "data": {
      "text/plain": [
       "'본문 보면서 나도모르게 배시시 따라 웃었는데 베플 보고 얼굴 찌푸림.... 못생긴 애들은 웃어도 기분나쁘구나싶음'"
      ]
     },
     "execution_count": 58,
     "metadata": {},
     "output_type": "execute_result"
    }
   ],
   "source": [
    "comments_df[3][104]"
   ]
  },
  {
   "cell_type": "code",
   "execution_count": 60,
   "metadata": {},
   "outputs": [
    {
     "data": {
      "text/plain": [
       "[('니', 'Noun'),\n",
       " ('가', 'Josa'),\n",
       " ('내', 'Noun'),\n",
       " ('첫사랑', 'Noun'),\n",
       " ('이', 'Josa'),\n",
       " ('였는데', 'Verb'),\n",
       " ('너', 'Noun'),\n",
       " ('한테', 'Josa'),\n",
       " ('미친', 'Adjective'),\n",
       " ('년', 'Noun'),\n",
       " ('__', 'Punctuation'),\n",
       " ('년', 'Noun'),\n",
       " ('__', 'Punctuation'),\n",
       " ('소리', 'Noun'),\n",
       " ('들은', 'Verb'),\n",
       " ('거', 'Noun'),\n",
       " ('ㅋㅋㅋ', 'KoreanParticle'),\n",
       " ('잘못', 'Noun'),\n",
       " ('은', 'Josa'),\n",
       " ('니', 'Noun'),\n",
       " ('가', 'Josa'),\n",
       " ('했는데', 'Verb'),\n",
       " ('널', 'Noun'),\n",
       " ('만나게', 'Verb'),\n",
       " ('내', 'Noun'),\n",
       " ('인생', 'Noun'),\n",
       " ('에', 'Josa'),\n",
       " ('제일', 'Noun'),\n",
       " ('후회', 'Noun'),\n",
       " ('야', 'Josa')]"
      ]
     },
     "execution_count": 60,
     "metadata": {},
     "output_type": "execute_result"
    }
   ],
   "source": [
    "okt.pos('니가 내 첫사랑이였는데 너한테 미친년 __년 __ 소리 들은거 ㅋㅋㅋ 잘못은 니가 했는데 널 만나게 내 인생에 제일 후회야')"
   ]
  },
  {
   "cell_type": "code",
   "execution_count": 48,
   "metadata": {},
   "outputs": [
    {
     "data": {
      "text/plain": [
       "[['니가 내 첫사랑이였는데 너한테 미친년 __년 __ 소리 들은거 ㅋㅋㅋ 잘못은 니가 했는데 널 만나게 내 인생에 제일 후회야',\n",
       "  '그게 바로 2020년이지'],\n",
       " ['태권도 다음달에 가자 다음달에 가자 그러지말고 그냥 갈껄',\n",
       "  '사범님 가시는거 알았으면 1월에 그만두지도 않았을텐데..',\n",
       "  '작년 1월의 나한테 태권도 하다가 자괴감들고 잘 안되고 힘든거 아는데 좀만 버티고 열심히해보자고 해주고싶다 사범님 가시기 전에 추억 많이만들어놔ㅠㅠㅠㅠㅠㅠ 아무리 연락처있고 그렇다고 해도 연락 자주 못하는거 알잖아 걸어가면 2분 뛰어가면 30초거린데 왜 가는걸 마ㅇ설였을까 길에서 마주치고 다음달에 갈게요 하지말고 그냥 가'],\n",
       " ['난 올하 연애 한 번도 안 한거..',\n",
       "  '18살 때 풋풋한 연애 맨날 기대해놓고 누가 나',\n",
       "  '좋아해주고 다가와도 내 맘에 안 든다고 다 밀어냄',\n",
       "  '누군가가 나를 좋아해준다는게 얼마나 감사한건데',\n",
       "  '그걸 이제 깨달았어ㅠ'],\n",
       " ['좋아했던 사람들을 나 혼자만 믿었던거?',\n",
       "  '친한한명 때문에 혼자 뒤늦게 되게 많이 서로 챙겨줄 만큼 일주일에 두세번 만날만큼 친해졌었는데 결국은 나만 뒷통수 맞은거',\n",
       "  '그 사람들을 알게해준 친한 한명 빼고는 다 나빼고 한통속이었다는거. 큰 일이 생기고 난뒤 나만 ㅂㅅ 만들었구나',\n",
       "  '깨달은 거...',\n",
       "  '결국 사람들을 너무 쉽게 믿은 내 잘못이겠죠 ...'],\n",
       " ['안녕~~ 1월 1일에 썼던 게 지워져서 다시 쓴당',\n",
       "  '그때쯤이면 코로나는 좀 나아졌을려나',\n",
       "  '모르겠네~',\n",
       "  '게으름이랑 미루는 습관은 좀 극복했니?',\n",
       "  '너 이것 때문에 한때는 정말 힘들어 했었잖아..',\n",
       "  '만약 바쁘게 살다가도 잠시 무기력해지거나 게으름 때문에 할일을 못 하고 있다면 독서실이나 스터디 카페에 가서 가벼운 마음으로 해 보자!!',\n",
       "  '올해는 정말 지금까지 겪었던 그 어느 때보다 중요한 시기인 거 알지??',\n",
       "  '학교생활 정말 최선을 다 해서 열심히 하고 있기를 바랄게~ 왠지 너라면 아마 충분히 멋지게 살고 있을 것 같아!',\n",
       "  '아 그리고 2021년 버킷리스트는 많이 성공했어??',\n",
       "  '많이 이루지 못했어도 괜찮아 열심히 살았다면 그걸로 된 거니까 기죽지는 말고!!',\n",
       "  '무엇보다 건강이 최우선이니까 밤새면서 공부 안 했으면 좋겠어 그냥 낮에 미리미리 해 버리고 밤에는 푹 쉬장 알았지??',\n",
       "  '미래의 네가 어떤 생각을 하면서 삶을 살아갈지 지금의 나로써는 잘 모르겠지만, 적어도 긍정적이고 낙관적인 너의 그 성향을 잃지 않았으면 좋겠어 되게 글을 두서 없이 쓰긴 했는데 어쨌거나 잘 전달되었음',\n",
       "  '좋겠당!!!',\n",
       "  '팟팅 ! 이거 읽고 나면 엽떡같이 맛있는 거랑 영화 한 편 때리고 다시 열공하러가좌!!!! 너라면 할 수 있다',\n",
       "  '비록 걱정이 많을 테지만 잘 할 수 있을거야',\n",
       "  '내가 다 잘 되게 만들 거야 ㅎㅎ',\n",
       "  '나는 과거에서 열심히 뒷받침할테니 이 글을 읽는 미래의 너는 순간 순간을 즐기면서 열심히 살아 뭐든지 열심히!'],\n",
       " ['반수 성공하게 해주세요.', '중앙대 경영학과 붙게 해주세요'],\n",
       " ['2021년 나의 소원',\n",
       "  '우리 가족 코로나 걸리지 않게 해주세요',\n",
       "  '이번 학기 대학교 학과 생활 잘하게 해주세요',\n",
       "  '인생 친구 사귀게 해주세요',\n",
       "  '무탈하게 지나가게 해주세요',\n",
       "  '좋은 친구들 많이 사귀게 해주세요'],\n",
       " ['내가 정말 열심히 그렸구나라고 생각할 수 있을 정도로 많은 그림을 남겼으면 좋겠어.',\n",
       "  '그리고 내가 원하는 공모전 상 3개 정도 더 받고... 그냥 올해는 내 작품을 많이 남기는 해가 되었음',\n",
       "  '좋겠음'],\n",
       " ['내가 되고싶은 꿈 꼭 이루기', '그 꿈에 한 발짝 다가가기'],\n",
       " ['토끼 잘 지내남...', '보구싶다 추운데 날씨ㅠㅠ'],\n",
       " ['ㅅㅂ 개빡치네',\n",
       "  '지인피셜ㅈ인피셜 ㅇㅈㄹ 걍 지 ㅈ대로 망상한 ㅈ피셜이지 ㅋㅋㅋㅋㅋㅋㅋㅋ',\n",
       "  '개웃겨',\n",
       "  '진짜 어제부터 조카 어그로 끌어',\n",
       "  '그래서 근거는?? 니 피뎊 따서 다 남길 거야',\n",
       "  '그렇게 살면 재밌냐?',\n",
       "  '먹금 할라고 해도 조카 ㅈㄹ하네'],\n",
       " ['엥? 이건 바람 수준이지,, 몸 섞어야만 바람인가?',\n",
       "  '나같음 가만 놔두지 않을꺼임,, 남편도 속으론 은근 설레고 있으니 하하하하 이딴거 적어가며 즐기고 있는거고! 차샀으면 그냥 곱게 끌고 다니면 될 것이지 뭔놈의 카페 가입까지 해,, 남편한테 둘 다 개망신 당하고 싶지 않으면 정신 차리고 당장 그딴 모임 나오라고 하세요'],\n",
       " ['나같으면 카톡온거 찍어서 내폰으로 윪겨놓고 남편깨움....',\n",
       "  '카톡 이게 뭐냐고 장난하냐고 왜 이딴카톡이 오냐고 님 진찌 엄청 참으셨네요.......'],\n",
       " ['잘하셨네요',\n",
       "  '그여자도 남편분께 맘이 있었으니까 와이프가 카톡보낸게 기분상해서 단톡방따로판듯.. 말씀도 현명하게 하셨는데 그여자가 남편분께 관심없었으면 화날만한일은아니네요!',\n",
       "  '지혜롭게 잘끊으셨어요'],\n",
       " ['동호회라는 건 애초에 싱글들과 싱글들 꼬시려는 유부남들로 구성되어 있습니다.', '님 남편이 거기에 들어간 거부터가 문제.'],\n",
       " ['미친년 유부남인거 알면서 사귀자고 ?',\n",
       "  '돈년아냐',\n",
       "  '진짜 쳐맞으려고 미친년이 어디 남의남편 건들고 지랄이야',\n",
       "  '진짜 트럭으로 밟아 버릴라 장난같은 개소리하네',\n",
       "  '진짜 불여우 같은년 용암에서 족욕시켜 버려'],\n",
       " ['저였다면 정말 속이 너무 쓰렸을듯.. 남편이 맘이 없엇다면 걍 욕 박고 차단해야하는거 아니에요?',\n",
       "  '애초에 저런 여자들은 비빌만하니까 붙어오는거에요.'],\n",
       " ['아우 쓰레기ㄴ이많네요', '근데나라면 ㅅㄹ폰안봄', '걍 관심없음', '돈버는기계라생각해서'],\n",
       " ['저런 냔들있다.',\n",
       "  '남자들많은 카페 모임 가입해서 꽃이 되보려고 꼴값떠는 나이값 못하는 덜떨어진 한물간늙은이들 ㅋㅋ 그주위로 몰려드는 진따같은 덜떨어진것들도 있고 그덜떨어진것들한테 공주대접받으면서 자기안죽었다고 착각하는 븅쉰년들 겁나많음',\n",
       "  '관종이라서 저러지...'],\n",
       " ['남편이 잘 처신했어야지.', '어떻게 행동했으면 저런 카톡이 오나..'],\n",
       " ['그냥 남자없이', '못 사는 헐렐레년이네', 'ㅉㅉ'],\n",
       " ['뭐 다들 이혼못시켜 안달남 베플웃기네 본인들이면 지들도 고민했을거면서 남일이라고 말 재미나게 하네', '편들어주는척하면서 웃김'],\n",
       " ['헐 뭐저리 경우를 따지며 친절하게 보내요?',\n",
       "  '또라이같은 년한텐 또라이로 대해줘야지.',\n",
       "  '으휴 개망신을 줬어야지.',\n",
       "  '\"단톡방에서 유부남한테 사랑한다하고 이상형이다사귀자 말하며 싸구려같이 구는 본인 스스로가 안창피하세요?\" 라고 쓰시지...'],\n",
       " ['결혼 순간부터 애정 표현은 불륜 증거 충분합니다', '잘 판단하시고 고쳐쓰지 못하면 버리세요'],\n",
       " ['지거미친년아냐?', '왜유부남한테 ㅈㄹ이야ㅡㅡㅅㅂ잘하셨네요'],\n",
       " ['저년 낚시꾼이네.', '미끼 여기저기 던져놓고 아무나 물면 같이 놀고(?)안물면 말고.남의 가정이야 파토가 나든말든 쏘시오패쓰년.']]"
      ]
     },
     "execution_count": 48,
     "metadata": {},
     "output_type": "execute_result"
    }
   ],
   "source": [
    "[x for x in temp if len(x) > 1]"
   ]
  },
  {
   "cell_type": "code",
   "execution_count": null,
   "metadata": {},
   "outputs": [],
   "source": []
  }
 ],
 "metadata": {
  "kernelspec": {
   "display_name": "py37",
   "language": "python",
   "name": "py37"
  },
  "language_info": {
   "codemirror_mode": {
    "name": "ipython",
    "version": 3
   },
   "file_extension": ".py",
   "mimetype": "text/x-python",
   "name": "python",
   "nbconvert_exporter": "python",
   "pygments_lexer": "ipython3",
   "version": "3.7.6"
  }
 },
 "nbformat": 4,
 "nbformat_minor": 2
}
