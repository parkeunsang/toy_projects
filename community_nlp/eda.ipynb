{
 "cells": [
  {
   "cell_type": "code",
   "execution_count": 240,
   "metadata": {},
   "outputs": [],
   "source": [
    "import requests\n",
    "from bs4 import BeautifulSoup\n",
    "import datetime\n",
    "import os\n",
    "import pymysql\n",
    "import pandas as pd\n",
    "from tqdm import tqdm\n",
    "import seaborn as sns\n",
    "import collections"
   ]
  },
  {
   "cell_type": "code",
   "execution_count": null,
   "metadata": {},
   "outputs": [],
   "source": [
    "from konlpy.tag import Okt,Mecab\n",
    "import kss\n",
    "\n",
    "from keras.preprocessing.text import Tokenizer\n",
    "import tensorflow as tf\n",
    "from tensorflow.keras import Sequential\n",
    "from tensorflow.keras.preprocessing.sequence import pad_sequences\n",
    "from tensorflow.keras.layers import Dense, Embedding, LSTM, Dropout, Bidirectional"
   ]
  },
  {
   "cell_type": "code",
   "execution_count": 2,
   "metadata": {},
   "outputs": [],
   "source": [
    "ip_address = os.environ['AWS_IP']\n",
    "PASSWORD = os.environ['SQL_PWD_AWS']\n",
    "\n",
    "con = pymysql.connect(\n",
    "    user='edward', \n",
    "    passwd=PASSWORD,\n",
    "    host=ip_address, \n",
    "    db='community', \n",
    "    charset='utf8'\n",
    ")"
   ]
  },
  {
   "cell_type": "code",
   "execution_count": 3,
   "metadata": {},
   "outputs": [],
   "source": [
    "def nate_all_content():\n",
    "    sql = f\"select * from nate_content\"\n",
    "    with con.cursor() as cursor:\n",
    "        cursor.execute(sql)\n",
    "        result = cursor.fetchall()\n",
    "    return result"
   ]
  },
  {
   "cell_type": "code",
   "execution_count": 29,
   "metadata": {},
   "outputs": [],
   "source": [
    "def nate_all_comment():\n",
    "    sql = f\"select * from nate_comment\"\n",
    "    with con.cursor() as cursor:\n",
    "        cursor.execute(sql)\n",
    "        result = cursor.fetchall()\n",
    "    df = pd.DataFrame(result)\n",
    "    df.columns = ['id', 'like', 'dislike', 'content', 'article_id']\n",
    "    return df"
   ]
  },
  {
   "cell_type": "code",
   "execution_count": 36,
   "metadata": {},
   "outputs": [],
   "source": [
    "def fmk_all_comment():\n",
    "    sql = f\"select * from fmk_comment\"\n",
    "    with con.cursor() as cursor:\n",
    "        cursor.execute(sql)\n",
    "        result = cursor.fetchall()\n",
    "    df = pd.DataFrame(result)\n",
    "    df.columns = ['id', 'like', 'content', 'article_id']\n",
    "    return df"
   ]
  },
  {
   "cell_type": "code",
   "execution_count": 31,
   "metadata": {},
   "outputs": [],
   "source": [
    "okt = Okt()\n",
    "mecab = Mecab()"
   ]
  },
  {
   "cell_type": "code",
   "execution_count": 26,
   "metadata": {},
   "outputs": [],
   "source": [
    "# contents = nate_all_content()"
   ]
  },
  {
   "cell_type": "code",
   "execution_count": 32,
   "metadata": {},
   "outputs": [],
   "source": [
    "comments_nate = nate_all_comment()"
   ]
  },
  {
   "cell_type": "code",
   "execution_count": 37,
   "metadata": {},
   "outputs": [],
   "source": [
    "comments_fmk = fmk_all_comment()"
   ]
  },
  {
   "cell_type": "markdown",
   "metadata": {},
   "source": [
    "## 전처리"
   ]
  },
  {
   "cell_type": "code",
   "execution_count": 596,
   "metadata": {},
   "outputs": [
    {
     "data": {
      "text/plain": [
       "True"
      ]
     },
     "execution_count": 596,
     "metadata": {},
     "output_type": "execute_result"
    }
   ],
   "source": [
    "'\\\"' in \"aaa\\\"zz\""
   ]
  },
  {
   "cell_type": "code",
   "execution_count": 656,
   "metadata": {},
   "outputs": [],
   "source": [
    "def to_morph(sentences):\n",
    "    morphs = []\n",
    "    for comment in tqdm(sentences):\n",
    "        m = okt.pos(comment)\n",
    "        m = [x[0] for x in m if x not in  ['\\n', '.', ','] and x[1] not in ['Josa', 'Suffix']]\n",
    "        morphs.append(m)\n",
    "    return morphs"
   ]
  },
  {
   "cell_type": "code",
   "execution_count": 601,
   "metadata": {},
   "outputs": [
    {
     "name": "stderr",
     "output_type": "stream",
     "text": [
      "100%|██████████| 20000/20000 [06:44<00:00, 49.49it/s] \n"
     ]
    }
   ],
   "source": [
    "fmk_sentences = to_morph(comments_fmk['content'][:20000])"
   ]
  },
  {
   "cell_type": "code",
   "execution_count": 602,
   "metadata": {},
   "outputs": [
    {
     "name": "stderr",
     "output_type": "stream",
     "text": [
      "100%|██████████| 20000/20000 [10:29<00:00, 31.75it/s]\n"
     ]
    }
   ],
   "source": [
    "nate_sentences = to_morph(comments_nate['content'][:20000])"
   ]
  },
  {
   "cell_type": "markdown",
   "metadata": {},
   "source": [
    "## EDA"
   ]
  },
  {
   "cell_type": "code",
   "execution_count": 622,
   "metadata": {},
   "outputs": [
    {
     "data": {
      "text/plain": [
       "Text(0.5, 1.0, 'Histogram of morphemes per sentence')"
      ]
     },
     "execution_count": 622,
     "metadata": {},
     "output_type": "execute_result"
    },
    {
     "data": {
      "image/png": "[encoded data removed]",
      "text/plain": [
       "<Figure size 432x288 with 1 Axes>"
      ]
     },
     "metadata": {
      "needs_background": "light"
     },
     "output_type": "display_data"
    }
   ],
   "source": [
    "sns.histplot([len(x) for x in fmk_sentences if len(x) < 100]).set_title('Histogram of morphemes per sentence')"
   ]
  },
  {
   "cell_type": "code",
   "execution_count": 623,
   "metadata": {},
   "outputs": [
    {
     "data": {
      "text/plain": [
       "Text(0.5, 1.0, 'Histogram of morphemes per sentence')"
      ]
     },
     "execution_count": 623,
     "metadata": {},
     "output_type": "execute_result"
    },
    {
     "data": {
      "image/png": "[encoded data removed]",
      "text/plain": [
       "<Figure size 432x288 with 1 Axes>"
      ]
     },
     "metadata": {
      "needs_background": "light"
     },
     "output_type": "display_data"
    }
   ],
   "source": [
    "sns.histplot([len(x) for x in nate_sentences if len(x) < 100]).set_title('Histogram of morphemes per sentence')"
   ]
  },
  {
   "cell_type": "code",
   "execution_count": 624,
   "metadata": {},
   "outputs": [],
   "source": [
    "def morph_count(sentences):\n",
    "    temp = []\n",
    "    for sen in sentences:\n",
    "        temp.extend([x for  x in sen])\n",
    "    return temp"
   ]
  },
  {
   "cell_type": "code",
   "execution_count": 625,
   "metadata": {},
   "outputs": [],
   "source": [
    "fmk_morphs = morph_count(fmk_sentences)\n",
    "nate_morphs = morph_count(nate_sentences)"
   ]
  },
  {
   "cell_type": "code",
   "execution_count": 626,
   "metadata": {},
   "outputs": [
    {
     "data": {
      "text/plain": [
       "[('?', 2313),\n",
       " ('ㅋㅋ', 1718),\n",
       " ('이', 1337),\n",
       " ('..', 1307),\n",
       " ('안', 1110),\n",
       " ('...', 1078),\n",
       " ('저', 1068),\n",
       " ('ㅋㅋㅋ', 957),\n",
       " ('거', 924),\n",
       " ('진짜', 914),\n",
       " ('잘', 838),\n",
       " ('때', 785),\n",
       " ('못', 760),\n",
       " ('한', 760),\n",
       " ('그', 754),\n",
       " ('사람', 705),\n",
       " ('다', 703),\n",
       " ('임', 636),\n",
       " ('생각', 627),\n",
       " ('말', 612)]"
      ]
     },
     "execution_count": 626,
     "metadata": {},
     "output_type": "execute_result"
    }
   ],
   "source": [
    "collections.Counter(fmk_morphs).most_common(20)"
   ]
  },
  {
   "cell_type": "code",
   "execution_count": 627,
   "metadata": {},
   "outputs": [
    {
     "data": {
      "text/plain": [
       "[('..', 3293),\n",
       " ('?', 2978),\n",
       " ('...', 2544),\n",
       " ('진짜', 2335),\n",
       " ('안', 2228),\n",
       " ('다', 1937),\n",
       " ('이', 1931),\n",
       " ('사람', 1828),\n",
       " ('거', 1697),\n",
       " ('못', 1546),\n",
       " ('잘', 1540),\n",
       " ('내', 1520),\n",
       " ('그', 1514),\n",
       " ('나', 1406),\n",
       " ('때', 1405),\n",
       " ('말', 1335),\n",
       " ('애', 1307),\n",
       " ('저', 1287),\n",
       " ('생각', 1264),\n",
       " ('하는', 1207)]"
      ]
     },
     "execution_count": 627,
     "metadata": {},
     "output_type": "execute_result"
    }
   ],
   "source": [
    "collections.Counter(nate_morphs).most_common(20)"
   ]
  },
  {
   "cell_type": "code",
   "execution_count": 628,
   "metadata": {},
   "outputs": [
    {
     "name": "stdout",
     "output_type": "stream",
     "text": [
      "fmk 고유 형태소 개수 : 35117개\n",
      "nate 고유 형태소 개수 : 44217개\n"
     ]
    }
   ],
   "source": [
    "print(f'fmk 고유 형태소 개수 : {len(set(fmk_morphs))}개')\n",
    "print(f'nate 고유 형태소 개수 : {len(set(nate_morphs))}개')"
   ]
  },
  {
   "cell_type": "markdown",
   "metadata": {},
   "source": [
    "## Modeling"
   ]
  },
  {
   "cell_type": "code",
   "execution_count": 629,
   "metadata": {},
   "outputs": [],
   "source": [
    "class DataSet:\n",
    "    def __init__(self, fmk_sentences, nate_sentences):\n",
    "        self.fmk_sentences = fmk_sentences \n",
    "        self.nate_sentences = nate_sentences\n",
    "\n",
    "    def fit_tokenizer(self, vocab_size):\n",
    "        self.tokenizer = Tokenizer(num_words = vocab_size)\n",
    "        self.tokenizer.fit_on_texts(self.fmk_sentences + self.nate_sentences)\n",
    "        \n",
    "        self.sequences_fmk = self.tokenizer.texts_to_sequences(self.fmk_sentences)  \n",
    "        self.sequences_nate = self.tokenizer.texts_to_sequences(self.nate_sentences)  \n",
    "    \n",
    "    def padding(self, max_length):\n",
    "        self.pad_fmk = pad_sequences(self.sequences_fmk, padding='post', maxlen=max_length)\n",
    "        self.pad_nate = pad_sequences(self.sequences_nate, padding='post', maxlen=max_length)\n",
    "        \n",
    "    def make(self):\n",
    "        train = pd.DataFrame(self.pad_fmk)\n",
    "        train['y'] = 0\n",
    "        temp = pd.DataFrame(self.pad_nate)\n",
    "        temp['y'] = 1\n",
    "        train = train.append(temp)\n",
    "        train = train[train.sum(axis=1) != 0]\n",
    "        train = train.sample(len(train)).reset_index(drop=True)  # shufling\n",
    "        X = train.iloc[:, :-1]\n",
    "        y = train.iloc[:, -1]\n",
    "        return X, y"
   ]
  },
  {
   "cell_type": "code",
   "execution_count": 630,
   "metadata": {},
   "outputs": [],
   "source": [
    "#파라미터 설정\n",
    "vocab_size = 8000\n",
    "max_length = 15"
   ]
  },
  {
   "cell_type": "code",
   "execution_count": 631,
   "metadata": {},
   "outputs": [],
   "source": [
    "Ds = DataSet(fmk_sentences, nate_sentences)\n",
    "Ds.fit_tokenizer(vocab_size)\n",
    "Ds.padding(max_length)\n",
    "X, y = Ds.make()"
   ]
  },
  {
   "cell_type": "code",
   "execution_count": 634,
   "metadata": {},
   "outputs": [
    {
     "name": "stdout",
     "output_type": "stream",
     "text": [
      "Model: \"sequential_17\"\n",
      "_________________________________________________________________\n",
      "Layer (type)                 Output Shape              Param #   \n",
      "=================================================================\n",
      "embedding_18 (Embedding)     (None, 15, 200)           1600000   \n",
      "_________________________________________________________________\n",
      "bidirectional_34 (Bidirectio (None, 15, 128)           135680    \n",
      "_________________________________________________________________\n",
      "bidirectional_35 (Bidirectio (None, 64)                41216     \n",
      "_________________________________________________________________\n",
      "dense_17 (Dense)             (None, 1)                 65        \n",
      "=================================================================\n",
      "Total params: 1,776,961\n",
      "Trainable params: 1,776,961\n",
      "Non-trainable params: 0\n",
      "_________________________________________________________________\n"
     ]
    }
   ],
   "source": [
    "embedding_dim = 200\n",
    "model = Sequential([Embedding(vocab_size, embedding_dim, input_length =max_length),\n",
    "        tf.keras.layers.Bidirectional(LSTM(units = 64, return_sequences = True)),\n",
    "        # tf.keras.layers.Bidirectional(LSTM(units = 64, return_sequences = True)),\n",
    "        tf.keras.layers.Bidirectional(LSTM(units = 32)),\n",
    "        # Dense(28, activation='relu'),\n",
    "        Dense(1, activation='sigmoid')\n",
    "    ])\n",
    "    \n",
    "model.compile(loss= 'binary_crossentropy',\n",
    "              optimizer= 'adam',\n",
    "              metrics = ['accuracy']) \n",
    "model.summary()"
   ]
  },
  {
   "cell_type": "code",
   "execution_count": 635,
   "metadata": {},
   "outputs": [
    {
     "name": "stdout",
     "output_type": "stream",
     "text": [
      "Epoch 1/5\n",
      "698/698 [==============================] - 41s 58ms/step - loss: 0.4704 - accuracy: 0.7628 - val_loss: 0.4066 - val_accuracy: 0.8097\n",
      "Epoch 2/5\n",
      "698/698 [==============================] - 32s 46ms/step - loss: 0.3221 - accuracy: 0.8534 - val_loss: 0.4025 - val_accuracy: 0.8085\n",
      "Epoch 3/5\n",
      "698/698 [==============================] - 30s 43ms/step - loss: 0.2514 - accuracy: 0.8864 - val_loss: 0.4774 - val_accuracy: 0.8104\n",
      "Epoch 4/5\n",
      "698/698 [==============================] - 30s 43ms/step - loss: 0.1982 - accuracy: 0.9090 - val_loss: 0.5571 - val_accuracy: 0.7956\n",
      "Epoch 5/5\n",
      "698/698 [==============================] - 30s 42ms/step - loss: 0.1591 - accuracy: 0.9254 - val_loss: 0.6224 - val_accuracy: 0.7953\n"
     ]
    }
   ],
   "source": [
    "history = model.fit(X, y, epochs=5, batch_size=48, validation_split= 0.15) "
   ]
  },
  {
   "cell_type": "code",
   "execution_count": 306,
   "metadata": {},
   "outputs": [],
   "source": [
    "# pred = model.predict(X)"
   ]
  },
  {
   "cell_type": "markdown",
   "metadata": {},
   "source": [
    "## 예측"
   ]
  },
  {
   "cell_type": "code",
   "execution_count": 783,
   "metadata": {},
   "outputs": [
    {
     "data": {
      "text/plain": [
       "str"
      ]
     },
     "execution_count": 783,
     "metadata": {},
     "output_type": "execute_result"
    }
   ],
   "source": [
    "type('123')"
   ]
  },
  {
   "cell_type": "code",
   "execution_count": 784,
   "metadata": {},
   "outputs": [],
   "source": [
    "def sentences_to_seq(sentences, tokenizer):\n",
    "    if type(sentences) == str:\n",
    "        sentences = [sentences]\n",
    "    morphs_list = to_morph(sentences)\n",
    "    sequences = tokenizer.texts_to_sequences(morphs_list)\n",
    "    empty = [idx for idx, x in enumerate(sequences) if not x]\n",
    "    X_test = pad_sequences(sequences, padding='post', maxlen=max_length)\n",
    "#     return sequences\n",
    "    pred = model.predict(X_test)\n",
    "    for i in empty:\n",
    "        pred[i] = [None]\n",
    "    return pred"
   ]
  },
  {
   "cell_type": "code",
   "execution_count": 787,
   "metadata": {},
   "outputs": [
    {
     "name": "stderr",
     "output_type": "stream",
     "text": [
      "100%|██████████| 1/1 [00:00<00:00, 504.18it/s]\n"
     ]
    },
    {
     "data": {
      "text/plain": [
       "array([[0.23743169]], dtype=float32)"
      ]
     },
     "execution_count": 787,
     "metadata": {},
     "output_type": "execute_result"
    }
   ],
   "source": [
    "sentences_to_seq('ㅋㅋㅋ', Ds.tokenizer)"
   ]
  },
  {
   "cell_type": "code",
   "execution_count": 659,
   "metadata": {},
   "outputs": [
    {
     "name": "stderr",
     "output_type": "stream",
     "text": [
      "100%|██████████| 500/500 [00:10<00:00, 46.75it/s]\n",
      "100%|██████████| 500/500 [00:17<00:00, 28.82it/s]  \n"
     ]
    }
   ],
   "source": [
    "pred_fmk = sentences_to_seq(comments_fmk['content'][20000:20500], Ds.tokenizer)\n",
    "pred_nate = sentences_to_seq(comments_nate['content'][20000:20500], Ds.tokenizer)"
   ]
  },
  {
   "cell_type": "code",
   "execution_count": 660,
   "metadata": {},
   "outputs": [],
   "source": [
    "pred_fmk = [x for x in pred_fmk if x != None]\n",
    "pred_nate = [x for x in pred_nate if x != None]"
   ]
  },
  {
   "cell_type": "code",
   "execution_count": 661,
   "metadata": {},
   "outputs": [
    {
     "data": {
      "text/plain": [
       "0    0.244\n",
       "dtype: float64"
      ]
     },
     "execution_count": 661,
     "metadata": {},
     "output_type": "execute_result"
    }
   ],
   "source": [
    "np.mean(pd.DataFrame(pred_fmk) > 0.5)"
   ]
  },
  {
   "cell_type": "code",
   "execution_count": 662,
   "metadata": {},
   "outputs": [
    {
     "data": {
      "text/plain": [
       "0    0.692\n",
       "dtype: float64"
      ]
     },
     "execution_count": 662,
     "metadata": {},
     "output_type": "execute_result"
    }
   ],
   "source": [
    "np.mean(pd.DataFrame(pred_nate) > 0.5)"
   ]
  },
  {
   "cell_type": "code",
   "execution_count": 766,
   "metadata": {},
   "outputs": [
    {
     "data": {
      "text/plain": [
       "[('공채', 'Noun'), ('라네', 'Josa'), ('요', 'Noun')]"
      ]
     },
     "execution_count": 766,
     "metadata": {},
     "output_type": "execute_result"
    }
   ],
   "source": [
    "okt.pos('공채라네요')"
   ]
  },
  {
   "cell_type": "code",
   "execution_count": 790,
   "metadata": {},
   "outputs": [
    {
     "name": "stderr",
     "output_type": "stream",
     "text": [
      "100%|██████████| 2/2 [00:00<00:00, 686.24it/s]\n"
     ]
    },
    {
     "data": {
      "text/plain": [
       "array([[0.78080094],\n",
       "       [0.17026658]], dtype=float32)"
      ]
     },
     "execution_count": 790,
     "metadata": {},
     "output_type": "execute_result"
    }
   ],
   "source": [
    "sentences_to_seq(['너 어제 왜그랬어?', '어제 왜 그럼?'], Ds.tokenizer)"
   ]
  },
  {
   "cell_type": "code",
   "execution_count": 803,
   "metadata": {},
   "outputs": [
    {
     "name": "stderr",
     "output_type": "stream",
     "text": [
      "100%|██████████| 2/2 [00:00<00:00, 542.67it/s]\n"
     ]
    },
    {
     "data": {
      "text/plain": [
       "array([[0.3315458 ],\n",
       "       [0.80688167]], dtype=float32)"
      ]
     },
     "execution_count": 803,
     "metadata": {},
     "output_type": "execute_result"
    }
   ],
   "source": [
    "sentences_to_seq(['뭐하나?', '뭐하고있엉?'], Ds.tokenizer)"
   ]
  },
  {
   "cell_type": "markdown",
   "metadata": {},
   "source": [
    "## 모델 저장"
   ]
  },
  {
   "cell_type": "code",
   "execution_count": 805,
   "metadata": {},
   "outputs": [],
   "source": [
    "model.save(\"lstm_model.h5\")"
   ]
  },
  {
   "cell_type": "code",
   "execution_count": 806,
   "metadata": {},
   "outputs": [],
   "source": [
    "import pickle"
   ]
  },
  {
   "cell_type": "code",
   "execution_count": 807,
   "metadata": {},
   "outputs": [],
   "source": [
    "with open('tokenizer.pickle', 'wb') as f:\n",
    "    pickle.dump(Ds.tokenizer, f)"
   ]
  }
 ],
 "metadata": {
  "kernelspec": {
   "display_name": "py37",
   "language": "python",
   "name": "py37"
  },
  "language_info": {
   "codemirror_mode": {
    "name": "ipython",
    "version": 3
   },
   "file_extension": ".py",
   "mimetype": "text/x-python",
   "name": "python",
   "nbconvert_exporter": "python",
   "pygments_lexer": "ipython3",
   "version": "3.7.6"
  }
 },
 "nbformat": 4,
 "nbformat_minor": 2
}
