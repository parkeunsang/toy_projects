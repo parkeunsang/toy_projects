{
 "cells": [
  {
   "cell_type": "code",
   "execution_count": 57,
   "id": "8e1a7979",
   "metadata": {},
   "outputs": [],
   "source": [
    "import requests\n",
    "from bs4 import BeautifulSoup"
   ]
  },
  {
   "cell_type": "code",
   "execution_count": 3,
   "id": "578875c9",
   "metadata": {},
   "outputs": [],
   "source": [
    "import datetime"
   ]
  },
  {
   "cell_type": "markdown",
   "id": "b82889c0",
   "metadata": {},
   "source": [
    "## 네이트판"
   ]
  },
  {
   "cell_type": "code",
   "execution_count": 45,
   "id": "a05fc32e",
   "metadata": {},
   "outputs": [],
   "source": [
    "def continuos_dates(start, end, fm):\n",
    "    dates = []\n",
    "    dt = datetime.datetime.strptime(start, fm)\n",
    "    while True:\n",
    "        dt_string = dt.strftime(format=fm)\n",
    "        dates.append(dt_string)\n",
    "        if dt_string == end:\n",
    "            break\n",
    "        dt = dt + datetime.timedelta(days=1)\n",
    "    return dates"
   ]
  },
  {
   "cell_type": "code",
   "execution_count": 46,
   "id": "a5809d54",
   "metadata": {},
   "outputs": [],
   "source": [
    "start = '20210101'\n",
    "end = '20210811'"
   ]
  },
  {
   "cell_type": "code",
   "execution_count": 47,
   "id": "d28ef96f",
   "metadata": {},
   "outputs": [],
   "source": [
    "dates = continuos_dates(start, end, '%Y%m%d')"
   ]
  },
  {
   "cell_type": "code",
   "execution_count": 88,
   "id": "e9a5a7ad",
   "metadata": {},
   "outputs": [],
   "source": [
    "base_url = 'https://pann.nate.com'"
   ]
  },
  {
   "cell_type": "code",
   "execution_count": 73,
   "id": "28610487",
   "metadata": {},
   "outputs": [],
   "source": [
    "params = {'stdt': '20210810', 'page': 1}"
   ]
  },
  {
   "cell_type": "code",
   "execution_count": 74,
   "id": "1c28f5f3",
   "metadata": {},
   "outputs": [],
   "source": [
    "result = requests.get(base_url + '/talk/ranking/d', params = params)"
   ]
  },
  {
   "cell_type": "code",
   "execution_count": 75,
   "id": "1f289669",
   "metadata": {},
   "outputs": [],
   "source": [
    "soup = BeautifulSoup(result.text)"
   ]
  },
  {
   "cell_type": "code",
   "execution_count": 76,
   "id": "0a6966b4",
   "metadata": {},
   "outputs": [],
   "source": [
    "lists = soup.find('ul', {'class':'post_wrap'}).find_all('li')"
   ]
  },
  {
   "cell_type": "code",
   "execution_count": 89,
   "id": "fde5035f",
   "metadata": {},
   "outputs": [
    {
     "data": {
      "text/plain": [
       "'https://pann.nate.com/talk/361721414'"
      ]
     },
     "execution_count": 89,
     "metadata": {},
     "output_type": "execute_result"
    }
   ],
   "source": [
    "base_url + lists[0].find('dt').find('a')['href']"
   ]
  },
  {
   "cell_type": "code",
   "execution_count": 80,
   "id": "c4a93f52",
   "metadata": {},
   "outputs": [
    {
     "data": {
      "text/plain": [
       "'난 사실 겨울 감성사진은 별로 없더라고…본진 겨울 느낌 짤털이 해줘!방탄소년단 엑소...'"
      ]
     },
     "execution_count": 80,
     "metadata": {},
     "output_type": "execute_result"
    }
   ],
   "source": [
    "lists[0].find('dd').text"
   ]
  }
 ],
 "metadata": {
  "kernelspec": {
   "display_name": "Python 3 (ipykernel)",
   "language": "python",
   "name": "python3"
  },
  "language_info": {
   "codemirror_mode": {
    "name": "ipython",
    "version": 3
   },
   "file_extension": ".py",
   "mimetype": "text/x-python",
   "name": "python",
   "nbconvert_exporter": "python",
   "pygments_lexer": "ipython3",
   "version": "3.8.3"
  }
 },
 "nbformat": 4,
 "nbformat_minor": 5
}
