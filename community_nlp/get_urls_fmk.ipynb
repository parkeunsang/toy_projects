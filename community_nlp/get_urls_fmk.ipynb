{
 "cells": [
  {
   "cell_type": "code",
   "execution_count": 2,
   "metadata": {},
   "outputs": [],
   "source": [
    "import requests\n",
    "from bs4 import BeautifulSoup\n",
    "import datetime\n",
    "import os\n",
    "import pymysql\n",
    "from tqdm import tqdm\n",
    "import numpy as np\n",
    "import time\n",
    "from dotenv import load_dotenv"
   ]
  },
  {
   "cell_type": "code",
   "execution_count": 3,
   "metadata": {},
   "outputs": [],
   "source": [
    "IS_ROOT_DIR = 0\n",
    "def env_set():\n",
    "    global IS_ROOT_DIR\n",
    "    if not IS_ROOT_DIR:\n",
    "        load_dotenv(verbose=True)\n",
    "        IS_ROOT_DIR = 1"
   ]
  },
  {
   "cell_type": "code",
   "execution_count": 8,
   "metadata": {},
   "outputs": [],
   "source": [
    "def sql_setting():\n",
    "    SQL_IP = os.environ['IP_ADDRESS']\n",
    "    SQL_PASSWORD = os.environ['MYSQL_PASSWORD']\n",
    "\n",
    "    con = pymysql.connect(\n",
    "        user='nlp', \n",
    "        passwd=SQL_PASSWORD,\n",
    "        host=SQL_IP, \n",
    "        db='community', \n",
    "        charset='utf8'\n",
    "    )\n",
    "    return con"
   ]
  },
  {
   "cell_type": "code",
   "execution_count": 4,
   "metadata": {},
   "outputs": [],
   "source": [
    "env_set()\n",
    "con = sql_setting()\n",
    "BASE_URL = 'https://www.fmkorea.com'"
   ]
  },
  {
   "cell_type": "code",
   "execution_count": 12,
   "metadata": {},
   "outputs": [],
   "source": [
    "def get_url_date(li):\n",
    "#     url = BASE_URL + li.find('h3').find('a')['href']\n",
    "    url = li.find('h3').find('a')['href']\n",
    "    date = li.find('span', {'class': 'regdate'}).text.strip()\n",
    "    date = date.replace('.', '-')\n",
    "    return [url, date]"
   ]
  },
  {
   "cell_type": "code",
   "execution_count": 13,
   "metadata": {},
   "outputs": [],
   "source": [
    "def get_urls(i):\n",
    "    headers = {'User-Agent': 'Mozilla/5.0 (Macintosh; Intel Mac OS X 10_10_1) AppleWebKit/537.36 (KHTML, like Gecko) Chrome/39.0.2171.95 Safari/537.36'}\n",
    "    params = {'mid': 'best', 'page': i}\n",
    "    result = requests.get(BASE_URL + '/index.php', params = params, headers = headers)\n",
    "    soup = BeautifulSoup(result.text, 'lxml')\n",
    "    table = soup.find('div', {'class': 'fm_best_widget _bd_pc'})\n",
    "    lists = table.find_all('li')\n",
    "    return [get_url_date(li) for li in lists]"
   ]
  },
  {
   "cell_type": "code",
   "execution_count": 14,
   "metadata": {},
   "outputs": [],
   "source": [
    "def commit_sql(data):\n",
    "    with  con.cursor() as cursor:\n",
    "        cursor.executemany(\"insert into urls_fmk(url, date) values (%s, %s)\", data )\n",
    "        con.commit()"
   ]
  },
  {
   "cell_type": "markdown",
   "metadata": {},
   "source": [
    "https://www.fmkorea.com/index.php?mid=best&page=100<br>\n",
    "- CREATE TABLE community.urls_fmk (id INTEGER PRIMARY KEY AUTO_INCREMENT, url TEXT, date TEXT);"
   ]
  },
  {
   "cell_type": "code",
   "execution_count": 26,
   "metadata": {},
   "outputs": [],
   "source": [
    "# 220601 ~ 221231\n",
    "if __name__ == '__main__':\n",
    "    start = 7273\n",
    "    end = 761\n",
    "\n",
    "    for i in tqdm(range(start, end, -1)):\n",
    "        data = get_urls(i)\n",
    "        commit_sql(data)\n",
    "        time.sleep((np.random.random()+1)*5)"
   ]
  }
 ],
 "metadata": {
  "kernelspec": {
   "display_name": "Python 3",
   "language": "python",
   "name": "python3"
  },
  "language_info": {
   "codemirror_mode": {
    "name": "ipython",
    "version": 3
   },
   "file_extension": ".py",
   "mimetype": "text/x-python",
   "name": "python",
   "nbconvert_exporter": "python",
   "pygments_lexer": "ipython3",
   "version": "3.7.6"
  }
 },
 "nbformat": 4,
 "nbformat_minor": 5
}
