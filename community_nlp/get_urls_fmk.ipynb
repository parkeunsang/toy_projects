{
 "cells": [
  {
   "cell_type": "code",
   "execution_count": 1,
   "id": "79b2fe98",
   "metadata": {},
   "outputs": [],
   "source": [
    "import requests\n",
    "from bs4 import BeautifulSoup\n",
    "import datetime\n",
    "import os\n",
    "import pymysql"
   ]
  },
  {
   "cell_type": "code",
   "execution_count": 38,
   "id": "d3ec6869",
   "metadata": {},
   "outputs": [],
   "source": [
    "BASE_URL = 'https://www.fmkorea.com'"
   ]
  },
  {
   "cell_type": "code",
   "execution_count": 56,
   "id": "72a164a9",
   "metadata": {},
   "outputs": [],
   "source": [
    "def get_url_date(li):\n",
    "#     url = BASE_URL + li.find('h3').find('a')['href']\n",
    "    url = li.find('h3').find('a')['href']\n",
    "    date = li.find('span', {'class': 'regdate'}).text.strip()\n",
    "    date = date.replace('.', '-')\n",
    "    return ['fmk', url, date]"
   ]
  },
  {
   "cell_type": "code",
   "execution_count": 58,
   "id": "498c3eae",
   "metadata": {},
   "outputs": [],
   "source": [
    "def get_urls(i):\n",
    "    params = {'mid': 'best', 'page': i}\n",
    "    result = requests.get(BASE_URL + '/index.php', params = params)\n",
    "    soup = BeautifulSoup(result.text, 'lxml')\n",
    "    table = soup.find('div', {'class': 'fm_best_widget _bd_pc'})\n",
    "    lists = table.find_all('li')\n",
    "    return [get_url_date(li) for li in lists]"
   ]
  },
  {
   "cell_type": "code",
   "execution_count": 59,
   "id": "13f207a8",
   "metadata": {},
   "outputs": [
    {
     "data": {
      "text/plain": [
       "[['fmk',\n",
       "  'https://www.fmkorea.com/index.php?mid=best2&sort_index=pop&order_type=desc&document_srl=3859918515',\n",
       "  '4 시간 전'],\n",
       " ['fmk',\n",
       "  'https://www.fmkorea.com/index.php?mid=best2&sort_index=pop&order_type=desc&document_srl=3859146217',\n",
       "  '10 시간 전'],\n",
       " ['fmk',\n",
       "  'https://www.fmkorea.com/index.php?mid=best2&sort_index=pop&order_type=desc&document_srl=3859334719',\n",
       "  '9 시간 전'],\n",
       " ['fmk', 'https://www.fmkorea.com/best/3859595925', '2 분 전'],\n",
       " ['fmk', 'https://www.fmkorea.com/best/3860515291', '3 분 전'],\n",
       " ['fmk', 'https://www.fmkorea.com/best/3860345430', '3 분 전'],\n",
       " ['fmk', 'https://www.fmkorea.com/best/3860362817', '7 분 전'],\n",
       " ['fmk', 'https://www.fmkorea.com/best/3860412692', '7 분 전'],\n",
       " ['fmk', 'https://www.fmkorea.com/best/3860163368', '11 분 전'],\n",
       " ['fmk', 'https://www.fmkorea.com/best/3860468275', '12 분 전'],\n",
       " ['fmk', 'https://www.fmkorea.com/best/3860336739', '12 분 전'],\n",
       " ['fmk', 'https://www.fmkorea.com/best/3860268315', '14 분 전'],\n",
       " ['fmk', 'https://www.fmkorea.com/best/3859646056', '16 분 전'],\n",
       " ['fmk', 'https://www.fmkorea.com/best/3860077868', '18 분 전'],\n",
       " ['fmk', 'https://www.fmkorea.com/best/3860519886', '19 분 전'],\n",
       " ['fmk', 'https://www.fmkorea.com/best/3860072145', '21 분 전'],\n",
       " ['fmk', 'https://www.fmkorea.com/best/3860515420', '23 분 전'],\n",
       " ['fmk', 'https://www.fmkorea.com/best/3860541940', '24 분 전'],\n",
       " ['fmk', 'https://www.fmkorea.com/best/3860471075', '24 분 전'],\n",
       " ['fmk', 'https://www.fmkorea.com/best/3860500257', '24 분 전'],\n",
       " ['fmk', 'https://www.fmkorea.com/best/3860461879', '25 분 전'],\n",
       " ['fmk', 'https://www.fmkorea.com/best/3859166267', '26 분 전'],\n",
       " ['fmk', 'https://www.fmkorea.com/best/3859867009', '29 분 전']]"
      ]
     },
     "execution_count": 59,
     "metadata": {},
     "output_type": "execute_result"
    }
   ],
   "source": [
    "get_urls(1)"
   ]
  }
 ],
 "metadata": {
  "kernelspec": {
   "display_name": "Python 3 (ipykernel)",
   "language": "python",
   "name": "python3"
  },
  "language_info": {
   "codemirror_mode": {
    "name": "ipython",
    "version": 3
   },
   "file_extension": ".py",
   "mimetype": "text/x-python",
   "name": "python",
   "nbconvert_exporter": "python",
   "pygments_lexer": "ipython3",
   "version": "3.8.3"
  }
 },
 "nbformat": 4,
 "nbformat_minor": 5
}
