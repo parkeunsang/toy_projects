{
 "cells": [
  {
   "cell_type": "code",
   "execution_count": 147,
   "metadata": {},
   "outputs": [],
   "source": [
    "import requests\n",
    "from bs4 import BeautifulSoup\n",
    "import datetime\n",
    "import os\n",
    "import pymysql\n",
    "from tqdm import tqdm\n",
    "import time"
   ]
  },
  {
   "cell_type": "code",
   "execution_count": 140,
   "metadata": {},
   "outputs": [],
   "source": [
    "ip_address = os.environ['AWS_IP']\n",
    "PASSWORD = os.environ['SQL_PWD_AWS']\n",
    "\n",
    "con = pymysql.connect(\n",
    "    user='edward', \n",
    "    passwd=PASSWORD,\n",
    "    host=ip_address, \n",
    "    db='community', \n",
    "    charset='utf8'\n",
    ")"
   ]
  },
  {
   "cell_type": "code",
   "execution_count": 111,
   "metadata": {},
   "outputs": [],
   "source": [
    "BASE_URL= 'https://www.fmkorea.com'"
   ]
  },
  {
   "cell_type": "code",
   "execution_count": 112,
   "metadata": {},
   "outputs": [],
   "source": [
    "def get_urls(date):\n",
    "    # %Y-%m-%d\n",
    "    sql = f\"select * from urls_fmk where date = '{date}'\"\n",
    "    with con.cursor() as cursor:\n",
    "        cursor.execute(sql)\n",
    "        result = cursor.fetchall()\n",
    "    return result"
   ]
  },
  {
   "cell_type": "code",
   "execution_count": 113,
   "metadata": {},
   "outputs": [],
   "source": [
    "def is_dup_content(article_id):\n",
    "    sql = f\"select * from fmk_content where id = {article_id}\"\n",
    "    with  con.cursor() as cursor:\n",
    "        cursor.execute(sql)\n",
    "#     return bool(cursor.fetchall())\n",
    "    return cursor.fetchall()"
   ]
  },
  {
   "cell_type": "code",
   "execution_count": 114,
   "metadata": {},
   "outputs": [],
   "source": [
    "def commit_content(values):\n",
    "    sql = f'insert into fmk_content(id, title, content, date) values {values}'\n",
    "    with  con.cursor() as cursor:\n",
    "        cursor.execute(sql)\n",
    "        con.commit()"
   ]
  },
  {
   "cell_type": "code",
   "execution_count": 115,
   "metadata": {},
   "outputs": [],
   "source": [
    "def commit_comment(values):\n",
    "    sql = f'insert into fmk_comment(vote, content, article_id) values {values}'\n",
    "    with  con.cursor() as cursor:\n",
    "        cursor.execute(sql)\n",
    "        con.commit()"
   ]
  },
  {
   "cell_type": "code",
   "execution_count": 149,
   "metadata": {},
   "outputs": [],
   "source": [
    "urls = get_urls('2021-01-01')"
   ]
  },
  {
   "cell_type": "code",
   "execution_count": 158,
   "metadata": {},
   "outputs": [],
   "source": [
    "headers = {'User-Agent': 'Mozilla/5.0'}"
   ]
  },
  {
   "cell_type": "code",
   "execution_count": 159,
   "metadata": {},
   "outputs": [
    {
     "name": "stderr",
     "output_type": "stream",
     "text": [
      "\n",
      "\n",
      "  0%|          | 0/644 [00:00<?, ?it/s]\u001b[A\u001b[A\n",
      "\n",
      "  0%|          | 2/644 [00:00<00:44, 14.43it/s]\u001b[A\u001b[A\n",
      "\n",
      "  1%|          | 4/644 [00:00<00:41, 15.32it/s]\u001b[A\u001b[A\n",
      "\n",
      "  1%|          | 6/644 [00:00<00:39, 16.30it/s]\u001b[A\u001b[A\n",
      "\n",
      "  1%|▏         | 9/644 [00:00<00:35, 17.85it/s]\u001b[A\u001b[A\n",
      "\n",
      "  2%|▏         | 11/644 [00:00<00:35, 17.93it/s]\u001b[A\u001b[A\n",
      "\n",
      "  2%|▏         | 11/644 [00:15<00:35, 17.93it/s]\u001b[A\u001b[A\n",
      "\n",
      "  2%|▏         | 13/644 [00:15<24:18,  2.31s/it]\u001b[A\u001b[A\n",
      "\n",
      "  2%|▏         | 14/644 [00:33<1:13:22,  6.99s/it]\u001b[A\u001b[A\n",
      "\n",
      "  2%|▏         | 15/644 [00:56<2:02:06, 11.65s/it]\u001b[A\u001b[A\n",
      "\n",
      "  2%|▏         | 16/644 [01:08<2:04:50, 11.93s/it]\u001b[A\u001b[A\n",
      "\n",
      "  3%|▎         | 17/644 [01:24<2:16:40, 13.08s/it]\u001b[A\u001b[A\n",
      "\n",
      "  3%|▎         | 18/644 [01:39<2:22:08, 13.62s/it]\u001b[A\u001b[A\n",
      "\n",
      "  3%|▎         | 19/644 [01:51<2:17:35, 13.21s/it]\u001b[A\u001b[A\n",
      "\n",
      "  3%|▎         | 20/644 [02:07<2:25:58, 14.04s/it]\u001b[A\u001b[A\n",
      "\n",
      "  3%|▎         | 21/644 [02:24<2:34:34, 14.89s/it]\u001b[A\u001b[A\n",
      "\n",
      "  3%|▎         | 22/644 [02:36<2:24:56, 13.98s/it]\u001b[A\u001b[A\n",
      "\n",
      "  4%|▎         | 23/644 [02:50<2:24:44, 13.98s/it]\u001b[A\u001b[A"
     ]
    },
    {
     "ename": "AttributeError",
     "evalue": "'NoneType' object has no attribute 'find'",
     "output_type": "error",
     "traceback": [
      "\u001b[0;31m---------------------------------------------------------------------------\u001b[0m",
      "\u001b[0;31mAttributeError\u001b[0m                            Traceback (most recent call last)",
      "\u001b[0;32m<ipython-input-159-469efebcd58b>\u001b[0m in \u001b[0;36m<module>\u001b[0;34m\u001b[0m\n\u001b[1;32m      8\u001b[0m \u001b[0;34m\u001b[0m\u001b[0m\n\u001b[1;32m      9\u001b[0m     \u001b[0mtitle_bar\u001b[0m \u001b[0;34m=\u001b[0m \u001b[0msoup\u001b[0m\u001b[0;34m.\u001b[0m\u001b[0mfind\u001b[0m\u001b[0;34m(\u001b[0m\u001b[0;34m'div'\u001b[0m\u001b[0;34m,\u001b[0m \u001b[0;34m{\u001b[0m\u001b[0;34m'class'\u001b[0m\u001b[0;34m:\u001b[0m \u001b[0;34m'top_area'\u001b[0m\u001b[0;34m}\u001b[0m\u001b[0;34m)\u001b[0m\u001b[0;34m\u001b[0m\u001b[0;34m\u001b[0m\u001b[0m\n\u001b[0;32m---> 10\u001b[0;31m     \u001b[0mtitle\u001b[0m \u001b[0;34m=\u001b[0m \u001b[0mtitle_bar\u001b[0m\u001b[0;34m.\u001b[0m\u001b[0mfind\u001b[0m\u001b[0;34m(\u001b[0m\u001b[0;34m'h1'\u001b[0m\u001b[0;34m)\u001b[0m\u001b[0;34m.\u001b[0m\u001b[0mtext\u001b[0m\u001b[0;34m\u001b[0m\u001b[0;34m\u001b[0m\u001b[0m\n\u001b[0m\u001b[1;32m     11\u001b[0m     \u001b[0mcontent\u001b[0m \u001b[0;34m=\u001b[0m \u001b[0;34m'\\n'\u001b[0m\u001b[0;34m.\u001b[0m\u001b[0mjoin\u001b[0m\u001b[0;34m(\u001b[0m\u001b[0;34m[\u001b[0m\u001b[0mx\u001b[0m\u001b[0;34m.\u001b[0m\u001b[0mtext\u001b[0m \u001b[0;32mfor\u001b[0m \u001b[0mx\u001b[0m \u001b[0;32min\u001b[0m \u001b[0msoup\u001b[0m\u001b[0;34m.\u001b[0m\u001b[0mfind\u001b[0m\u001b[0;34m(\u001b[0m\u001b[0;34m'article'\u001b[0m\u001b[0;34m)\u001b[0m\u001b[0;34m.\u001b[0m\u001b[0mfind_all\u001b[0m\u001b[0;34m(\u001b[0m\u001b[0;34m'p'\u001b[0m\u001b[0;34m)\u001b[0m \u001b[0;32mif\u001b[0m \u001b[0mx\u001b[0m\u001b[0;34m.\u001b[0m\u001b[0mtext\u001b[0m\u001b[0;34m]\u001b[0m\u001b[0;34m)\u001b[0m\u001b[0;34m\u001b[0m\u001b[0;34m\u001b[0m\u001b[0m\n\u001b[1;32m     12\u001b[0m \u001b[0;34m\u001b[0m\u001b[0m\n",
      "\u001b[0;31mAttributeError\u001b[0m: 'NoneType' object has no attribute 'find'"
     ]
    }
   ],
   "source": [
    "for u in tqdm(urls):\n",
    "    article_id, url_tail, date = u\n",
    "    if is_dup_content(article_id):\n",
    "        continue\n",
    "    url = BASE_URL + url_tail\n",
    "    result = requests.get(url, headers = headers)\n",
    "    soup = BeautifulSoup(result.text, 'lxml')\n",
    "\n",
    "    title_bar = soup.find('div', {'class': 'top_area'})\n",
    "    title = title_bar.find('h1').text\n",
    "    content = '\\n'.join([x.text for x in soup.find('article').find_all('p') if x.text])\n",
    "\n",
    "    values = (article_id, title, content ,date.strftime('%Y-%m-%d'))\n",
    "\n",
    "    commit_content(values)\n",
    "\n",
    "    comments = soup.find('ul', {'class': 'fdb_lst_ul '})\n",
    "    comments = comments.find_all('li')\n",
    "    for comment in comments:\n",
    "        vote = comment.find('span', {'class': 'voted_count'}).text.strip()\n",
    "        if not vote:  # 빈값이면\n",
    "            vote = 0\n",
    "        comment_content = comment.find('div', {'class': 'xe_content'})\n",
    "        cc = comment_content.text.strip()\n",
    "        if comment_content.find('a'):\n",
    "            cc = ' '.join(cc.split()[1:])\n",
    "        values = (vote, cc, article_id)\n",
    "        commit_comment(values)\n",
    "    time.sleep(10)"
   ]
  },
  {
   "cell_type": "code",
   "execution_count": 160,
   "metadata": {},
   "outputs": [],
   "source": [
    "con.close()"
   ]
  }
 ],
 "metadata": {
  "kernelspec": {
   "display_name": "Python 3",
   "language": "python",
   "name": "python3"
  },
  "language_info": {
   "codemirror_mode": {
    "name": "ipython",
    "version": 3
   },
   "file_extension": ".py",
   "mimetype": "text/x-python",
   "name": "python",
   "nbconvert_exporter": "python",
   "pygments_lexer": "ipython3",
   "version": "3.7.4"
  }
 },
 "nbformat": 4,
 "nbformat_minor": 5
}
