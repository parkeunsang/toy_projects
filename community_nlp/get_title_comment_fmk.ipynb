{
 "cells": [
  {
   "cell_type": "code",
   "execution_count": 1,
   "id": "5d91d760",
   "metadata": {},
   "outputs": [],
   "source": [
    "import requests\n",
    "from bs4 import BeautifulSoup\n",
    "import datetime\n",
    "import os\n",
    "import pymysql\n",
    "from tqdm import tqdm"
   ]
  },
  {
   "cell_type": "code",
   "execution_count": 17,
   "id": "ce8db210",
   "metadata": {},
   "outputs": [],
   "source": [
    "url = 'https://www.fmkorea.com/best/3860519886'"
   ]
  },
  {
   "cell_type": "code",
   "execution_count": 20,
   "id": "116fc274",
   "metadata": {},
   "outputs": [],
   "source": [
    "url = 'https://www.fmkorea.com/best/3860336739'"
   ]
  },
  {
   "cell_type": "code",
   "execution_count": 21,
   "id": "4ebfa309",
   "metadata": {},
   "outputs": [],
   "source": [
    "soup = BeautifulSoup(requests.get(url).text, 'lxml')"
   ]
  },
  {
   "cell_type": "code",
   "execution_count": 23,
   "id": "68383d14",
   "metadata": {},
   "outputs": [],
   "source": [
    "content = '\\n'.join([x.text for x in soup.find('article').find_all('p') if x.text])"
   ]
  },
  {
   "cell_type": "code",
   "execution_count": 28,
   "id": "d1dd4796",
   "metadata": {},
   "outputs": [],
   "source": [
    "title_bar = soup.find('div', {'class': 'top_area'})"
   ]
  },
  {
   "cell_type": "code",
   "execution_count": 30,
   "id": "1973b38a",
   "metadata": {},
   "outputs": [
    {
     "data": {
      "text/plain": [
       "<div class=\"top_area ngeb\" style=\";\"> <span class=\"date m_no\">2021.08.24 23:14</span> <h1 class=\"np_18px\"> <span class=\"np_18px_span\">오늘 사형 선고 받은 야쿠자 두목.jpg</span> </h1> <div class=\"clear\"></div> </div>"
      ]
     },
     "execution_count": 30,
     "metadata": {},
     "output_type": "execute_result"
    }
   ],
   "source": [
    "title_bar."
   ]
  }
 ],
 "metadata": {
  "kernelspec": {
   "display_name": "Python 3 (ipykernel)",
   "language": "python",
   "name": "python3"
  },
  "language_info": {
   "codemirror_mode": {
    "name": "ipython",
    "version": 3
   },
   "file_extension": ".py",
   "mimetype": "text/x-python",
   "name": "python",
   "nbconvert_exporter": "python",
   "pygments_lexer": "ipython3",
   "version": "3.8.3"
  }
 },
 "nbformat": 4,
 "nbformat_minor": 5
}
