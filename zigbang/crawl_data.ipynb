{
 "cells": [
  {
   "cell_type": "code",
   "execution_count": 7,
   "metadata": {},
   "outputs": [],
   "source": [
    "import requests as rq\n",
    "import json\n",
    "import pandas as pd\n",
    "from tqdm import tqdm\n",
    "import time\n",
    "import pickle\n",
    "import numpy as np\n",
    "from datetime import datetime"
   ]
  },
  {
   "cell_type": "markdown",
   "metadata": {},
   "source": [
    "## Get Data"
   ]
  },
  {
   "cell_type": "markdown",
   "metadata": {},
   "source": [
    "### Get Room List From Subway"
   ]
  },
  {
   "cell_type": "code",
   "execution_count": 8,
   "metadata": {},
   "outputs": [],
   "source": [
    "def get(url):\n",
    "    res = rq.get(url)\n",
    "    if res.status_code == 200:\n",
    "        return json.loads(res.text)\n",
    "    else:\n",
    "        print(url, res.status_code)\n",
    "        return None"
   ]
  },
  {
   "cell_type": "code",
   "execution_count": 9,
   "metadata": {},
   "outputs": [],
   "source": [
    "def get_room_ids(subway_info):\n",
    "    subway_id = subway_info['id']\n",
    "    subway_name = subway_info['name']\n",
    "    room_ids = []\n",
    "    visited = []\n",
    "    room_list_json = get(f\"https://apis.zigbang.com/v3/items/ad/{subway_id}\")\n",
    "    for i in room_list_json['list_items']:\n",
    "        if i.get('simple_item') and i['simple_item']['item_id'] not in visited:\n",
    "            data = {}\n",
    "            data['item_id'] = i['simple_item']['item_id']\n",
    "            data['section_type'] = i['section_type']\n",
    "            data['name'] = subway_name\n",
    "            room_ids.append(data)\n",
    "            visited.append(data['item_id'])\n",
    "    return room_ids"
   ]
  },
  {
   "cell_type": "code",
   "execution_count": 10,
   "metadata": {},
   "outputs": [],
   "source": [
    "today = datetime.now().strftime('%y%m%d')"
   ]
  },
  {
   "cell_type": "code",
   "execution_count": 11,
   "metadata": {},
   "outputs": [
    {
     "data": {
      "text/plain": [
       "296"
      ]
     },
     "execution_count": 11,
     "metadata": {},
     "output_type": "execute_result"
    }
   ],
   "source": [
    "url_subway_all = 'https://apis.zigbang.com/property/biglab/subway/all'\n",
    "subway_ids = get(url_subway_all)\n",
    "subway_seoul_ids = [x for x in subway_ids if x['local1'] == '서울특별시']\n",
    "len(subway_seoul_ids)"
   ]
  },
  {
   "cell_type": "code",
   "execution_count": null,
   "metadata": {},
   "outputs": [
    {
     "name": "stdout",
     "output_type": "stream",
     "text": [
      "서울역\n",
      "시청역\n",
      "종각역\n",
      "종로3가역\n",
      "종로5가역\n",
      "동대문역\n",
      "신설동역\n",
      "제기동역\n",
      "청량리역\n",
      "동묘앞역\n",
      "을지로입구역\n",
      "을지로3가역\n",
      "을지로4가역\n",
      "동대문역사문화공원역\n",
      "신당역\n",
      "상왕십리역\n",
      "왕십리역\n",
      "한양대역\n",
      "뚝섬역\n",
      "성수역\n",
      "건대입구역\n",
      "구의역\n",
      "강변역\n",
      "잠실나루역\n",
      "잠실역\n",
      "잠실새내역\n",
      "종합운동장역\n",
      "삼성역\n",
      "선릉역\n",
      "역삼역\n",
      "강남역\n",
      "교대역\n",
      "서초역\n",
      "방배역\n",
      "사당역\n",
      "낙성대역\n",
      "서울대입구역\n",
      "봉천역\n",
      "신림역\n",
      "신대방역\n",
      "구로디지털단지역\n",
      "대림역\n",
      "신도림역\n",
      "문래역\n",
      "영등포구청역\n",
      "당산역\n",
      "합정역\n",
      "홍대입구역\n",
      "신촌역\n",
      "이대역\n",
      "아현역\n",
      "충정로역\n",
      "용답역\n",
      "신답역\n",
      "도림천역\n",
      "양천구청역\n",
      "신정네거리역\n",
      "용두역\n",
      "까치산역\n",
      "구파발역\n",
      "연신내역\n",
      "불광역\n",
      "녹번역\n",
      "홍제역\n",
      "무악재역\n",
      "독립문역\n",
      "경복궁역\n",
      "안국역\n",
      "충무로역\n",
      "동대입구역\n",
      "약수역\n",
      "금호역\n",
      "옥수역\n"
     ]
    }
   ],
   "source": [
    "room_ids = []\n",
    "for ssi in subway_seoul_ids:\n",
    "    print(ssi['name'])\n",
    "    data = get_room_ids(ssi)\n",
    "    room_ids.extend(data)\n",
    "    time.sleep(2)"
   ]
  },
  {
   "cell_type": "code",
   "execution_count": null,
   "metadata": {},
   "outputs": [],
   "source": [
    "room_id_df = pd.DataFrame(room_ids)\n",
    "room_id_df.to_csv(f'data_subway/room_ids_{today}.csv', index=False)"
   ]
  },
  {
   "cell_type": "code",
   "execution_count": null,
   "metadata": {},
   "outputs": [],
   "source": [
    "subway_info = []\n",
    "subway_line_info = []\n",
    "for ssi in subway_seoul_ids:\n",
    "    ssi_cop = ssi.copy()\n",
    "    lines = ssi_cop.pop('lines')\n",
    "    subway_info.append(ssi_cop)\n",
    "    for line in lines:\n",
    "        data = {}\n",
    "        data['name'] = ssi['name']\n",
    "        data['line'] = line['short_name']\n",
    "        subway_line_info.append(data)\n",
    "\n",
    "subway_info = pd.DataFrame(subway_info)\n",
    "subway_line_info = pd.DataFrame(subway_line_info)"
   ]
  },
  {
   "cell_type": "code",
   "execution_count": null,
   "metadata": {},
   "outputs": [],
   "source": [
    "subway_info.to_csv(f'data_subway/subway_info_{today}.csv', index=False)\n",
    "subway_line_info.to_csv(f'data_subway/subway_line_info_{today}.csv', index=False)"
   ]
  },
  {
   "cell_type": "markdown",
   "metadata": {},
   "source": [
    "### Get Room info By Subway"
   ]
  },
  {
   "cell_type": "code",
   "execution_count": null,
   "metadata": {},
   "outputs": [],
   "source": [
    "class Subway:\n",
    "    def __init__(self, subway_line_info):\n",
    "        self.subway_line_info = subway_line_info\n",
    "    \n",
    "    def get_subway_from_line(self, line):\n",
    "        if isinstance(line, int):\n",
    "            line = str(line)\n",
    "        subways = self.subway_line_info[self.subway_line_info['line'] == line]['name'].values\n",
    "        return subways\n",
    "    "
   ]
  },
  {
   "cell_type": "code",
   "execution_count": null,
   "metadata": {},
   "outputs": [],
   "source": [
    "len(subway_line_info['line'].unique())"
   ]
  },
  {
   "cell_type": "code",
   "execution_count": null,
   "metadata": {},
   "outputs": [],
   "source": [
    "sw = Subway(subway_line_info)\n",
    "line_1 = sw.get_subway_from_line(1)\n",
    "room_1 = room_id_df[room_id_df['name'].isin(line_1)]"
   ]
  },
  {
   "cell_type": "markdown",
   "metadata": {},
   "source": [
    "### Get Room Info All"
   ]
  },
  {
   "cell_type": "code",
   "execution_count": null,
   "metadata": {},
   "outputs": [],
   "source": [
    "room_id_df = pd.read_csv(f'data_subway/room_ids_{today}.csv')\n",
    "subway_info = pd.read_csv(f'data_subway/subway_info_{today}.csv')\n",
    "subway_line_info = pd.read_csv(f'data_subway/subway_line_info_{today}.csv')"
   ]
  },
  {
   "cell_type": "code",
   "execution_count": null,
   "metadata": {},
   "outputs": [],
   "source": [
    "ids = room_id_df['item_id'].unique()"
   ]
  },
  {
   "cell_type": "code",
   "execution_count": null,
   "metadata": {},
   "outputs": [],
   "source": [
    "# start = 26000  # 현재 저장된 데이터 개수\n",
    "# ids_ = ids[start:]"
   ]
  },
  {
   "cell_type": "code",
   "execution_count": null,
   "metadata": {},
   "outputs": [],
   "source": [
    "room_info_list = []\n",
    "for idx, room_id in tqdm(enumerate(ids)):\n",
    "    room_info_url = f\"https://apis.zigbang.com/v2/items/{room_id}\"\n",
    "    room_info = get(room_info_url)\n",
    "    room_info_list.append(room_info)\n",
    "    time.sleep(np.random.random()*0.5 + 0.2)\n",
    "    if idx % 500 == 499:\n",
    "        with open(f'data_room/room_info_{start+idx+1}_{today}.pkl', 'wb') as f:\n",
    "            pickle.dump(room_info_list[idx-499:idx+1], f)"
   ]
  },
  {
   "cell_type": "markdown",
   "metadata": {},
   "source": [
    "## Trash"
   ]
  },
  {
   "cell_type": "code",
   "execution_count": 44,
   "metadata": {},
   "outputs": [],
   "source": [
    "req1 = rq.get(\"https://apis.zigbang.com/v3/items/ad/17?deposit_s=0&detail=false&domain=zigbang&floor=1~%7Crooftop%7Csemibase&radius=1&rent_s=0&sales_type=\")\n",
    "req2 = rq.get(\"https://apis.zigbang.com/v3/items/ad/17\")"
   ]
  }
 ],
 "metadata": {
  "kernelspec": {
   "display_name": "Python 3",
   "language": "python",
   "name": "python3"
  },
  "language_info": {
   "codemirror_mode": {
    "name": "ipython",
    "version": 3
   },
   "file_extension": ".py",
   "mimetype": "text/x-python",
   "name": "python",
   "nbconvert_exporter": "python",
   "pygments_lexer": "ipython3",
   "version": "3.7.6"
  }
 },
 "nbformat": 4,
 "nbformat_minor": 4
}
