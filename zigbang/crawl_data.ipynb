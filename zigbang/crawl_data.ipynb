{
 "cells": [
  {
   "cell_type": "code",
   "execution_count": 3,
   "metadata": {},
   "outputs": [],
   "source": [
    "import requests as rq\n",
    "import json\n",
    "import pandas as pd\n",
    "from tqdm import tqdm\n",
    "import time\n",
    "import pickle\n",
    "import numpy as np\n",
    "from datetime import datetime"
   ]
  },
  {
   "cell_type": "markdown",
   "metadata": {},
   "source": [
    "## Get Data"
   ]
  },
  {
   "cell_type": "markdown",
   "metadata": {},
   "source": [
    "### Get Room List From Subway"
   ]
  },
  {
   "cell_type": "code",
   "execution_count": 8,
   "metadata": {},
   "outputs": [],
   "source": [
    "def get(url):\n",
    "    res = rq.get(url)\n",
    "    if res.status_code == 200:\n",
    "        return json.loads(res.text)\n",
    "    else:\n",
    "        print(url, res.status_code)\n",
    "        return None"
   ]
  },
  {
   "cell_type": "code",
   "execution_count": 9,
   "metadata": {},
   "outputs": [],
   "source": [
    "def get_room_ids(subway_info):\n",
    "    subway_id = subway_info['id']\n",
    "    subway_name = subway_info['name']\n",
    "    room_ids = []\n",
    "    visited = []\n",
    "    room_list_json = get(f\"https://apis.zigbang.com/v3/items/ad/{subway_id}\")\n",
    "    for i in room_list_json['list_items']:\n",
    "        if i.get('simple_item') and i['simple_item']['item_id'] not in visited:\n",
    "            data = {}\n",
    "            data['item_id'] = i['simple_item']['item_id']\n",
    "            data['section_type'] = i['section_type']\n",
    "            data['name'] = subway_name\n",
    "            room_ids.append(data)\n",
    "            visited.append(data['item_id'])\n",
    "    return room_ids"
   ]
  },
  {
   "cell_type": "code",
   "execution_count": 10,
   "metadata": {},
   "outputs": [],
   "source": [
    "today = datetime.now().strftime('%y%m%d')"
   ]
  },
  {
   "cell_type": "code",
   "execution_count": 11,
   "metadata": {},
   "outputs": [
    {
     "data": {
      "text/plain": [
       "296"
      ]
     },
     "execution_count": 11,
     "metadata": {},
     "output_type": "execute_result"
    }
   ],
   "source": [
    "url_subway_all = 'https://apis.zigbang.com/property/biglab/subway/all'\n",
    "subway_ids = get(url_subway_all)\n",
    "subway_seoul_ids = [x for x in subway_ids if x['local1'] == '서울특별시']\n",
    "len(subway_seoul_ids)"
   ]
  },
  {
   "cell_type": "code",
   "execution_count": 12,
   "metadata": {},
   "outputs": [
    {
     "name": "stdout",
     "output_type": "stream",
     "text": [
      "서울역\n",
      "시청역\n",
      "종각역\n",
      "종로3가역\n",
      "종로5가역\n",
      "동대문역\n",
      "신설동역\n",
      "제기동역\n",
      "청량리역\n",
      "동묘앞역\n",
      "을지로입구역\n",
      "을지로3가역\n",
      "을지로4가역\n",
      "동대문역사문화공원역\n",
      "신당역\n",
      "상왕십리역\n",
      "왕십리역\n",
      "한양대역\n",
      "뚝섬역\n",
      "성수역\n",
      "건대입구역\n",
      "구의역\n",
      "강변역\n",
      "잠실나루역\n",
      "잠실역\n",
      "잠실새내역\n",
      "종합운동장역\n",
      "삼성역\n",
      "선릉역\n",
      "역삼역\n",
      "강남역\n",
      "교대역\n",
      "서초역\n",
      "방배역\n",
      "사당역\n",
      "낙성대역\n",
      "서울대입구역\n",
      "봉천역\n",
      "신림역\n",
      "신대방역\n",
      "구로디지털단지역\n",
      "대림역\n",
      "신도림역\n",
      "문래역\n",
      "영등포구청역\n",
      "당산역\n",
      "합정역\n",
      "홍대입구역\n",
      "신촌역\n",
      "이대역\n",
      "아현역\n",
      "충정로역\n",
      "용답역\n",
      "신답역\n",
      "도림천역\n",
      "양천구청역\n",
      "신정네거리역\n",
      "용두역\n",
      "까치산역\n",
      "구파발역\n",
      "연신내역\n",
      "불광역\n",
      "녹번역\n",
      "홍제역\n",
      "무악재역\n",
      "독립문역\n",
      "경복궁역\n",
      "안국역\n",
      "충무로역\n",
      "동대입구역\n",
      "약수역\n",
      "금호역\n",
      "옥수역\n",
      "압구정역\n",
      "신사역\n",
      "잠원역\n",
      "고속터미널역\n",
      "남부터미널역\n",
      "양재역\n",
      "매봉역\n",
      "도곡역\n",
      "대치역\n",
      "학여울역\n",
      "대청역\n",
      "일원역\n",
      "수서역\n",
      "가락시장역\n",
      "경찰병원역\n",
      "오금역\n",
      "당고개역\n",
      "상계역\n",
      "노원역\n",
      "창동역\n",
      "쌍문역\n",
      "수유역\n",
      "미아역\n",
      "미아사거리역\n",
      "길음역\n",
      "성신여대입구역\n",
      "한성대입구역\n",
      "혜화역\n",
      "명동역\n",
      "회현역\n",
      "숙대입구역\n",
      "삼각지역\n",
      "신용산역\n",
      "이촌역\n",
      "동작역\n",
      "총신대입구(이수)역\n",
      "남태령역\n",
      "남영역\n",
      "용산역\n",
      "노량진역\n",
      "대방역\n",
      "영등포역\n",
      "서빙고역\n",
      "한남역\n",
      "응봉역\n",
      "회기역\n",
      "외대앞역\n",
      "신이문역\n",
      "석계역\n",
      "광운대역\n",
      "월계역\n",
      "녹천역\n",
      "한티역\n",
      "구룡역\n",
      "개포동역\n",
      "대모산입구역\n",
      "복정역\n",
      "신길역\n",
      "중랑역\n",
      "상봉역\n",
      "망우역\n",
      "양원역\n",
      "신촌역\n",
      "공덕역\n",
      "서강대역\n",
      "가좌역\n",
      "디지털미디어시티역\n",
      "수색역\n",
      "구로역\n",
      "가산디지털단지역\n",
      "금천구청역\n",
      "독산역\n",
      "개봉역\n",
      "오류동역\n",
      "구일역\n",
      "온수역\n",
      "서울숲역\n",
      "압구정로데오역\n",
      "강남구청역\n",
      "선정릉역\n",
      "방학역\n",
      "도봉역\n",
      "도봉산역\n",
      "방화역\n",
      "개화산역\n",
      "김포공항역\n",
      "송정역\n",
      "마곡역\n",
      "발산역\n",
      "우장산역\n",
      "화곡역\n",
      "신정역\n",
      "목동역\n",
      "오목교역\n",
      "양평역\n",
      "영등포시장역\n",
      "여의도역\n",
      "여의나루역\n",
      "마포역\n",
      "애오개역\n",
      "서대문역\n",
      "광화문역\n",
      "청구역\n",
      "신금호역\n",
      "행당역\n",
      "마장역\n",
      "답십리역\n",
      "장한평역\n",
      "군자역\n",
      "아차산역\n",
      "광나루역\n",
      "천호역\n",
      "강동역\n",
      "길동역\n",
      "굽은다리역\n",
      "명일역\n",
      "고덕역\n",
      "상일동역\n",
      "둔촌동역\n",
      "올림픽공원역\n",
      "방이역\n",
      "개롱역\n",
      "거여역\n",
      "마천역\n",
      "응암역\n",
      "역촌역\n",
      "독바위역\n",
      "구산역\n",
      "새절역\n",
      "증산역\n",
      "월드컵경기장역\n",
      "마포구청역\n",
      "망원역\n",
      "상수역\n",
      "광흥창역\n",
      "대흥역\n",
      "효창공원앞역\n",
      "녹사평역\n",
      "이태원역\n",
      "한강진역\n",
      "버티고개역\n",
      "창신역\n",
      "보문역\n",
      "안암역\n",
      "고려대역\n",
      "월곡역\n",
      "상월곡역\n",
      "돌곶이역\n",
      "태릉입구역\n",
      "화랑대역\n",
      "봉화산역\n",
      "수락산역\n",
      "마들역\n",
      "중계역\n",
      "하계역\n",
      "공릉역\n",
      "먹골역\n",
      "중화역\n",
      "면목역\n",
      "사가정역\n",
      "용마산역\n",
      "중곡역\n",
      "어린이대공원역\n",
      "뚝섬유원지역\n",
      "청담역\n",
      "학동역\n",
      "논현역\n",
      "반포역\n",
      "내방역\n",
      "남성역\n",
      "숭실대입구역\n",
      "상도역\n",
      "장승배기역\n",
      "신대방삼거리역\n",
      "보라매역\n",
      "신풍역\n",
      "남구로역\n",
      "천왕역\n",
      "암사역\n",
      "강동구청역\n",
      "몽촌토성역\n",
      "석촌역\n",
      "송파역\n",
      "문정역\n",
      "장지역\n",
      "개화역\n",
      "공항시장역\n",
      "신방화역\n",
      "양천향교역\n",
      "가양역\n",
      "증미역\n",
      "등촌역\n",
      "염창역\n",
      "신목동역\n",
      "선유도역\n",
      "국회의사당역\n",
      "샛강역\n",
      "노들역\n",
      "흑석역\n",
      "구반포역\n",
      "신반포역\n",
      "사평역\n",
      "신논현역\n",
      "양재시민의숲역\n",
      "청계산입구역\n",
      "신내역\n",
      "언주역\n",
      "삼성중앙역\n",
      "봉은사역\n",
      "마곡나루역\n",
      "삼전역\n",
      "석촌고분역\n",
      "송파나루역\n",
      "한성백제역\n",
      "둔촌오륜역\n",
      "중앙보훈병원역\n",
      "서울지방병무청역\n",
      "보라매공원역\n",
      "보라매병원역\n",
      "당곡역\n",
      "서원역\n",
      "서울대벤처타운역\n",
      "관악산(서울대)역\n"
     ]
    }
   ],
   "source": [
    "room_ids = []\n",
    "for ssi in subway_seoul_ids:\n",
    "    print(ssi['name'])\n",
    "    data = get_room_ids(ssi)\n",
    "    room_ids.extend(data)\n",
    "    time.sleep(2)"
   ]
  },
  {
   "cell_type": "code",
   "execution_count": 13,
   "metadata": {},
   "outputs": [],
   "source": [
    "room_id_df = pd.DataFrame(room_ids)\n",
    "room_id_df.to_csv(f'data_subway/room_ids_{today}.csv', index=False)"
   ]
  },
  {
   "cell_type": "code",
   "execution_count": 14,
   "metadata": {},
   "outputs": [],
   "source": [
    "subway_info = []\n",
    "subway_line_info = []\n",
    "for ssi in subway_seoul_ids:\n",
    "    ssi_cop = ssi.copy()\n",
    "    lines = ssi_cop.pop('lines')\n",
    "    subway_info.append(ssi_cop)\n",
    "    for line in lines:\n",
    "        data = {}\n",
    "        data['name'] = ssi['name']\n",
    "        data['line'] = line['short_name']\n",
    "        subway_line_info.append(data)\n",
    "\n",
    "subway_info = pd.DataFrame(subway_info)\n",
    "subway_line_info = pd.DataFrame(subway_line_info)"
   ]
  },
  {
   "cell_type": "code",
   "execution_count": 15,
   "metadata": {},
   "outputs": [],
   "source": [
    "subway_info.to_csv(f'data_subway/subway_info_{today}.csv', index=False)\n",
    "subway_line_info.to_csv(f'data_subway/subway_line_info_{today}.csv', index=False)"
   ]
  },
  {
   "cell_type": "markdown",
   "metadata": {},
   "source": [
    "### Get Room info By Subway"
   ]
  },
  {
   "cell_type": "code",
   "execution_count": 16,
   "metadata": {},
   "outputs": [],
   "source": [
    "class Subway:\n",
    "    def __init__(self, subway_line_info):\n",
    "        self.subway_line_info = subway_line_info\n",
    "    \n",
    "    def get_subway_from_line(self, line):\n",
    "        if isinstance(line, int):\n",
    "            line = str(line)\n",
    "        subways = self.subway_line_info[self.subway_line_info['line'] == line]['name'].values\n",
    "        return subways\n",
    "    "
   ]
  },
  {
   "cell_type": "code",
   "execution_count": 17,
   "metadata": {},
   "outputs": [
    {
     "data": {
      "text/plain": [
       "18"
      ]
     },
     "execution_count": 17,
     "metadata": {},
     "output_type": "execute_result"
    }
   ],
   "source": [
    "len(subway_line_info['line'].unique())"
   ]
  },
  {
   "cell_type": "code",
   "execution_count": 18,
   "metadata": {},
   "outputs": [],
   "source": [
    "sw = Subway(subway_line_info)\n",
    "line_1 = sw.get_subway_from_line(1)\n",
    "room_1 = room_id_df[room_id_df['name'].isin(line_1)]"
   ]
  },
  {
   "cell_type": "markdown",
   "metadata": {},
   "source": [
    "### Get Room Info All"
   ]
  },
  {
   "cell_type": "code",
   "execution_count": 19,
   "metadata": {},
   "outputs": [],
   "source": [
    "room_id_df = pd.read_csv(f'data_subway/room_ids_{today}.csv')\n",
    "subway_info = pd.read_csv(f'data_subway/subway_info_{today}.csv')\n",
    "subway_line_info = pd.read_csv(f'data_subway/subway_line_info_{today}.csv')"
   ]
  },
  {
   "cell_type": "code",
   "execution_count": 20,
   "metadata": {},
   "outputs": [],
   "source": [
    "ids = room_id_df['item_id'].unique()"
   ]
  },
  {
   "cell_type": "code",
   "execution_count": 21,
   "metadata": {},
   "outputs": [],
   "source": [
    "# start = 26000  # 현재 저장된 데이터 개수\n",
    "# ids_ = ids[start:]"
   ]
  },
  {
   "cell_type": "code",
   "execution_count": 22,
   "metadata": {},
   "outputs": [
    {
     "name": "stderr",
     "output_type": "stream",
     "text": [
      "27919it [4:58:19,  1.56it/s]\n"
     ]
    }
   ],
   "source": [
    "room_info_list = []\n",
    "for idx, room_id in tqdm(enumerate(ids)):\n",
    "    room_info_url = f\"https://apis.zigbang.com/v2/items/{room_id}\"\n",
    "    room_info = get(room_info_url)\n",
    "    room_info_list.append(room_info)\n",
    "    time.sleep(np.random.random()*0.5 + 0.2)\n",
    "    if idx % 500 == 499:\n",
    "        with open(f'data_room/room_info_{start+idx+1}_{today}.pkl', 'wb') as f:\n",
    "            pickle.dump(room_info_list[idx-499:idx+1], f)"
   ]
  },
  {
   "cell_type": "code",
   "execution_count": 38,
   "metadata": {},
   "outputs": [],
   "source": [
    "with open(f'data_room/room_info_{start+idx+1}_{today}.pkl', 'wb') as f:\n",
    "    pickle.dump(room_info_list[idx+1-(idx+1) % 500: idx+1], f)"
   ]
  },
  {
   "cell_type": "markdown",
   "metadata": {},
   "source": [
    "## Merge"
   ]
  },
  {
   "cell_type": "code",
   "execution_count": 15,
   "metadata": {},
   "outputs": [],
   "source": [
    "from glob import glob\n",
    "import re"
   ]
  },
  {
   "cell_type": "code",
   "execution_count": null,
   "metadata": {},
   "outputs": [],
   "source": [
    "target_date = '221201'\n",
    "data_filenames = glob('data_room/*')\n",
    "data_filenames = [x for x in data_filenames if target_date in x]\n",
    "data = []\n",
    "for fn in tqdm(data_filenames):\n",
    "    with open(fn, 'rb') as f:\n",
    "        data.extend(pickle.load(f)) "
   ]
  },
  {
   "cell_type": "code",
   "execution_count": 11,
   "metadata": {},
   "outputs": [],
   "source": [
    "def preprocess(df_raw):\n",
    "    room_info = df_raw[COLS]\n",
    "    room_info = room_info.replace('서울특별시', '서울시')\n",
    "    room_info = room_info[room_info['local1'] == '서울시'].reset_index(drop=True)\n",
    "    return room_info\n",
    "\n",
    "def unify_date_format(date):\n",
    "    date_converted = re.sub('[^0-9]', '', date)\n",
    "    return date_converted\n",
    "\n",
    "def get_year_from_date(date):\n",
    "    date = re.sub('[^0-9]', '', date)\n",
    "    if len(date) < 4:\n",
    "        return -1\n",
    "    head = int(date[:4])\n",
    "    if head > 2022:  # 1980.01.01을 80.01.01 이렇게 표현한 경우\n",
    "        return int('19' + date[:2])\n",
    "    elif head < 1900:  # 2002.01.01을 02.01.01 이렇게 표현한 경우\n",
    "        return int('20' + date[:2])\n",
    "    else:\n",
    "        return int(date[:4])"
   ]
  },
  {
   "cell_type": "code",
   "execution_count": null,
   "metadata": {},
   "outputs": [],
   "source": [
    "COLS = ['item_id', 'user_no','sales_type','보증금액','월세금액','전용면적_m2','공급면적_m2','local1', 'local2', 'local3',\n",
    "        'random_location', 'floor', 'updated_at','approve_date', 'residence_type']\n",
    "\n",
    "df_raw = pd.DataFrame([x['item'] for x in data])\n",
    "\n",
    "room_info = preprocess(df_raw)"
   ]
  },
  {
   "cell_type": "code",
   "execution_count": 16,
   "metadata": {},
   "outputs": [],
   "source": [
    "room_info['approve_year'] = room_info.apply(lambda x:get_year_from_date(x['approve_date']), axis=1)\n",
    "room_info.loc[room_info['approve_year'] == -1, 'approve_year'] = \\\n",
    "    int(room_info[room_info['approve_year'] != -1]['approve_year'].mean())\n",
    "room_info['random_lat'] = room_info.apply(lambda x:x['random_location'].split(',')[0], axis=1)\n",
    "room_info['random_long'] = room_info.apply(lambda x:x['random_location'].split(',')[1], axis=1)\n",
    "room_info['is_underground'] = 0\n",
    "room_info.loc[room_info['floor'] == '반지하', 'is_underground'] = 1\n",
    "room_info.to_csv(f'data_preprocessed/room_info_{target_date}.csv', index=False)"
   ]
  },
  {
   "cell_type": "markdown",
   "metadata": {},
   "source": [
    "## Trash"
   ]
  },
  {
   "cell_type": "code",
   "execution_count": 44,
   "metadata": {},
   "outputs": [],
   "source": [
    "req1 = rq.get(\"https://apis.zigbang.com/v3/items/ad/17?deposit_s=0&detail=false&domain=zigbang&floor=1~%7Crooftop%7Csemibase&radius=1&rent_s=0&sales_type=\")\n",
    "req2 = rq.get(\"https://apis.zigbang.com/v3/items/ad/17\")"
   ]
  },
  {
   "cell_type": "code",
   "execution_count": null,
   "metadata": {},
   "outputs": [],
   "source": [
    "import os\n",
    "path = 'data_room/'\n",
    "date = '221201'\n",
    "files = os.listdir(path)\n",
    "for fn in files:\n",
    "    if date in fn:\n",
    "        num = int(fn.split('_')[-2]) - start\n",
    "        new_fn = f'room_info_{num}_{date}.pkl'    \n",
    "        os.rename(path+fn, path+new_fn)"
   ]
  }
 ],
 "metadata": {
  "kernelspec": {
   "display_name": "Python 3",
   "language": "python",
   "name": "python3"
  },
  "language_info": {
   "codemirror_mode": {
    "name": "ipython",
    "version": 3
   },
   "file_extension": ".py",
   "mimetype": "text/x-python",
   "name": "python",
   "nbconvert_exporter": "python",
   "pygments_lexer": "ipython3",
   "version": "3.7.6"
  }
 },
 "nbformat": 4,
 "nbformat_minor": 4
}
