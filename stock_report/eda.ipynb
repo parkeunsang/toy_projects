{
 "cells": [
  {
   "cell_type": "code",
   "execution_count": 14,
   "id": "6c7323d5",
   "metadata": {},
   "outputs": [],
   "source": [
    "import pandas as pd\n",
    "import FinanceDataReader as fdr\n",
    "from tqdm import tqdm"
   ]
  },
  {
   "cell_type": "markdown",
   "id": "410cd73d",
   "metadata": {},
   "source": [
    "## Preprocess"
   ]
  },
  {
   "cell_type": "code",
   "execution_count": 40,
   "id": "ff0a42b8",
   "metadata": {},
   "outputs": [],
   "source": [
    "NO_KOS_CODES = ['003340']  # 코스피, 코스닥 종목이 아닌 것"
   ]
  },
  {
   "cell_type": "code",
   "execution_count": 2,
   "id": "79e4f0d6",
   "metadata": {},
   "outputs": [],
   "source": [
    "def split_reporter(s):\n",
    "    s_splited = s.split()\n",
    "    if len(s_splited) == 1:\n",
    "        return s_splited[0], 'None'\n",
    "    elif len(s_splited) == 2:\n",
    "        return s_splited[0], s_splited[1]\n",
    "    else:\n",
    "        return s_splited[0], ' '.join(s_splited[1:])"
   ]
  },
  {
   "cell_type": "code",
   "execution_count": 45,
   "id": "c69dc7f6",
   "metadata": {},
   "outputs": [],
   "source": [
    "df = pd.read_csv('data/report_230101_230531.csv')"
   ]
  },
  {
   "cell_type": "code",
   "execution_count": 46,
   "id": "0ad08547",
   "metadata": {},
   "outputs": [],
   "source": [
    "df['codes'] = df.apply(lambda x:x['titles'].split(' A')[1].split('-')[0].strip(), axis=1)"
   ]
  },
  {
   "cell_type": "code",
   "execution_count": 6,
   "id": "054a0307",
   "metadata": {},
   "outputs": [],
   "source": [
    "# df['report_company'] = df.apply(lambda x:split_reporter(x['reporter'])[0], axis=1)\n",
    "# df['report_name'] = df.apply(lambda x:split_reporter(x['reporter'])[1], axis=1)\n",
    "# df = df.drop(columns=['titles', 'reporter'])"
   ]
  },
  {
   "cell_type": "code",
   "execution_count": 47,
   "id": "9639213a",
   "metadata": {},
   "outputs": [],
   "source": [
    "df = df.drop(columns=['titles'])"
   ]
  },
  {
   "cell_type": "code",
   "execution_count": 48,
   "id": "ce2a836e",
   "metadata": {},
   "outputs": [],
   "source": [
    "df = df[~df['codes'].isin(NO_KOS_CODES)]"
   ]
  },
  {
   "cell_type": "code",
   "execution_count": 8,
   "id": "2efff0b1",
   "metadata": {},
   "outputs": [],
   "source": [
    "# df = df.drop_duplicates(subset=['price_goal', 'reporter'], keep='first').reset_index(drop=True)"
   ]
  },
  {
   "cell_type": "code",
   "execution_count": 49,
   "id": "6b5c8706",
   "metadata": {},
   "outputs": [],
   "source": [
    "df = df.drop_duplicates(keep='first').reset_index(drop=True)"
   ]
  },
  {
   "cell_type": "code",
   "execution_count": 145,
   "id": "1c6cf4ca",
   "metadata": {},
   "outputs": [],
   "source": [
    "df['price_goal'] = df['price_goal'].str.replace(',', '').astype(float)"
   ]
  },
  {
   "cell_type": "markdown",
   "id": "f769ee5b",
   "metadata": {},
   "source": [
    "### EDA"
   ]
  },
  {
   "cell_type": "code",
   "execution_count": 146,
   "id": "bb183c20",
   "metadata": {},
   "outputs": [
    {
     "name": "stderr",
     "output_type": "stream",
     "text": [
      "100%|██████████| 10825/10825 [00:15<00:00, 676.67it/s]\n"
     ]
    }
   ],
   "source": [
    "data_list = []\n",
    "for row in tqdm(range(len(df))):\n",
    "    code, date = df.loc[row, 'codes'], df.loc[row, 'dates']\n",
    "    date = date.replace('/', '-')\n",
    "    df_stock = pd.read_csv(f'data_stock/{code}.csv')\n",
    "    df_stock_target = df_stock[df_stock['Date'] >=date].reset_index(drop=True)\n",
    "    max_n = len(df_stock_target)\n",
    "    data = {}\n",
    "    for n in [0, 1, 5, 10, 20]:\n",
    "        if n == 1:\n",
    "            data[f'{n}_Open'] = df_stock_target.loc[n]['Open']\n",
    "        if n < max_n:\n",
    "            data[f'{n}_Close'] = df_stock_target.loc[n]['Close']\n",
    "        else:\n",
    "            data[f'{n}_Close'] = -1\n",
    "    data_list.append(data)"
   ]
  },
  {
   "cell_type": "code",
   "execution_count": 147,
   "id": "b1f8b7bc",
   "metadata": {},
   "outputs": [],
   "source": [
    "df_ = pd.DataFrame(data_list)"
   ]
  },
  {
   "cell_type": "code",
   "execution_count": 149,
   "id": "e9e4b0c8",
   "metadata": {},
   "outputs": [],
   "source": [
    "df_concat = pd.concat([df, df_], axis=1)"
   ]
  },
  {
   "cell_type": "code",
   "execution_count": 153,
   "id": "602a9a8e",
   "metadata": {},
   "outputs": [],
   "source": [
    "df_concat['price_goal_ratio'] = df_concat['price_goal'] / df_concat['0_Close'] - 1"
   ]
  },
  {
   "cell_type": "code",
   "execution_count": 197,
   "id": "94f99234",
   "metadata": {},
   "outputs": [],
   "source": [
    "n = 10"
   ]
  },
  {
   "cell_type": "code",
   "execution_count": 198,
   "id": "9e40681a",
   "metadata": {},
   "outputs": [],
   "source": [
    "df_target = df_concat[df_concat[f'1_Open'] != 0].reset_index(drop=True)\n",
    "df_target = df_target[df_target[f'{n}_Close'] != -1].reset_index(drop=True)"
   ]
  },
  {
   "cell_type": "code",
   "execution_count": 199,
   "id": "df6960bd",
   "metadata": {},
   "outputs": [],
   "source": [
    "df_target['ratio'] = df_target[f'{n}_Close'] / df_target['1_Open'] - 1"
   ]
  },
  {
   "cell_type": "code",
   "execution_count": 200,
   "id": "3cbbb5ea",
   "metadata": {},
   "outputs": [
    {
     "data": {
      "text/plain": [
       "0.006798407872241865"
      ]
     },
     "execution_count": 200,
     "metadata": {},
     "output_type": "execute_result"
    }
   ],
   "source": [
    "df_target['ratio'].mean()"
   ]
  },
  {
   "cell_type": "code",
   "execution_count": 201,
   "id": "78c49c06",
   "metadata": {},
   "outputs": [
    {
     "data": {
      "text/plain": [
       "0.014793360064230534"
      ]
     },
     "execution_count": 201,
     "metadata": {},
     "output_type": "execute_result"
    }
   ],
   "source": [
    "df_target[df_target['price_goal_ratio'] > 0.5]['ratio'].mean()"
   ]
  },
  {
   "cell_type": "code",
   "execution_count": 202,
   "id": "ccc3cf42",
   "metadata": {},
   "outputs": [
    {
     "data": {
      "text/plain": [
       "10239"
      ]
     },
     "execution_count": 202,
     "metadata": {},
     "output_type": "execute_result"
    }
   ],
   "source": [
    "len(df_target)"
   ]
  },
  {
   "cell_type": "code",
   "execution_count": 203,
   "id": "10c58ee0",
   "metadata": {},
   "outputs": [
    {
     "data": {
      "text/plain": [
       "1233"
      ]
     },
     "execution_count": 203,
     "metadata": {},
     "output_type": "execute_result"
    }
   ],
   "source": [
    "sum(df_target['price_goal_ratio'] > 0.5)"
   ]
  },
  {
   "cell_type": "code",
   "execution_count": 168,
   "id": "9db99a81",
   "metadata": {},
   "outputs": [],
   "source": [
    "df_mean = df_target.groupby('reporter').mean()['ratio']\n",
    "df_count = df_target.groupby('reporter').count()['ratio']"
   ]
  },
  {
   "cell_type": "code",
   "execution_count": 169,
   "id": "06e98451",
   "metadata": {},
   "outputs": [],
   "source": [
    "df_result = pd.concat([df_count, df_mean], axis=1)"
   ]
  },
  {
   "cell_type": "code",
   "execution_count": 170,
   "id": "b0a21c23",
   "metadata": {},
   "outputs": [],
   "source": [
    "df_result.columns = ['count', 'mean']"
   ]
  },
  {
   "cell_type": "code",
   "execution_count": 131,
   "id": "1a010cb3",
   "metadata": {},
   "outputs": [
    {
     "data": {
      "text/html": [
       "<div>\n",
       "<style scoped>\n",
       "    .dataframe tbody tr th:only-of-type {\n",
       "        vertical-align: middle;\n",
       "    }\n",
       "\n",
       "    .dataframe tbody tr th {\n",
       "        vertical-align: top;\n",
       "    }\n",
       "\n",
       "    .dataframe thead th {\n",
       "        text-align: right;\n",
       "    }\n",
       "</style>\n",
       "<table border=\"1\" class=\"dataframe\">\n",
       "  <thead>\n",
       "    <tr style=\"text-align: right;\">\n",
       "      <th></th>\n",
       "      <th>count</th>\n",
       "      <th>mean</th>\n",
       "    </tr>\n",
       "    <tr>\n",
       "      <th>reporter</th>\n",
       "      <th></th>\n",
       "      <th></th>\n",
       "    </tr>\n",
       "  </thead>\n",
       "  <tbody>\n",
       "    <tr>\n",
       "      <th>NH투자증권 심의섭</th>\n",
       "      <td>12</td>\n",
       "      <td>0.102649</td>\n",
       "    </tr>\n",
       "    <tr>\n",
       "      <th>키움증권 권준수</th>\n",
       "      <td>18</td>\n",
       "      <td>0.105135</td>\n",
       "    </tr>\n",
       "    <tr>\n",
       "      <th>이베스트투자증권 조은애</th>\n",
       "      <td>19</td>\n",
       "      <td>0.105798</td>\n",
       "    </tr>\n",
       "    <tr>\n",
       "      <th>현대차증권 곽민정</th>\n",
       "      <td>34</td>\n",
       "      <td>0.106594</td>\n",
       "    </tr>\n",
       "    <tr>\n",
       "      <th>삼성증권 정동희</th>\n",
       "      <td>8</td>\n",
       "      <td>0.107374</td>\n",
       "    </tr>\n",
       "    <tr>\n",
       "      <th>SK증권 윤혁진</th>\n",
       "      <td>3</td>\n",
       "      <td>0.114275</td>\n",
       "    </tr>\n",
       "    <tr>\n",
       "      <th>부국증권 김성환</th>\n",
       "      <td>5</td>\n",
       "      <td>0.122805</td>\n",
       "    </tr>\n",
       "    <tr>\n",
       "      <th>삼성증권 장정훈</th>\n",
       "      <td>46</td>\n",
       "      <td>0.127844</td>\n",
       "    </tr>\n",
       "    <tr>\n",
       "      <th>IBK투자증권 이건재</th>\n",
       "      <td>10</td>\n",
       "      <td>0.129200</td>\n",
       "    </tr>\n",
       "    <tr>\n",
       "      <th>IBK투자증권 이현욱</th>\n",
       "      <td>19</td>\n",
       "      <td>0.130256</td>\n",
       "    </tr>\n",
       "    <tr>\n",
       "      <th>부국증권 엄태웅</th>\n",
       "      <td>6</td>\n",
       "      <td>0.138445</td>\n",
       "    </tr>\n",
       "    <tr>\n",
       "      <th>SK증권 한동희</th>\n",
       "      <td>8</td>\n",
       "      <td>0.140300</td>\n",
       "    </tr>\n",
       "    <tr>\n",
       "      <th>DB금융투자 유경하</th>\n",
       "      <td>6</td>\n",
       "      <td>0.156554</td>\n",
       "    </tr>\n",
       "    <tr>\n",
       "      <th>흥국증권 이의진</th>\n",
       "      <td>17</td>\n",
       "      <td>0.158260</td>\n",
       "    </tr>\n",
       "    <tr>\n",
       "      <th>유화증권 유승준</th>\n",
       "      <td>4</td>\n",
       "      <td>0.159207</td>\n",
       "    </tr>\n",
       "    <tr>\n",
       "      <th>이베스트투자증권 차용호</th>\n",
       "      <td>7</td>\n",
       "      <td>0.163143</td>\n",
       "    </tr>\n",
       "    <tr>\n",
       "      <th>IR큐더스 유예지</th>\n",
       "      <td>1</td>\n",
       "      <td>0.164786</td>\n",
       "    </tr>\n",
       "    <tr>\n",
       "      <th>대신증권 박세라</th>\n",
       "      <td>2</td>\n",
       "      <td>0.287762</td>\n",
       "    </tr>\n",
       "    <tr>\n",
       "      <th>신한투자증권 황성환</th>\n",
       "      <td>4</td>\n",
       "      <td>0.422709</td>\n",
       "    </tr>\n",
       "    <tr>\n",
       "      <th>IR큐더스 최윤영</th>\n",
       "      <td>1</td>\n",
       "      <td>0.697531</td>\n",
       "    </tr>\n",
       "  </tbody>\n",
       "</table>\n",
       "</div>"
      ],
      "text/plain": [
       "              count      mean\n",
       "reporter                     \n",
       "NH투자증권 심의섭       12  0.102649\n",
       "키움증권 권준수         18  0.105135\n",
       "이베스트투자증권 조은애     19  0.105798\n",
       "현대차증권 곽민정        34  0.106594\n",
       "삼성증권 정동희          8  0.107374\n",
       "SK증권 윤혁진          3  0.114275\n",
       "부국증권 김성환          5  0.122805\n",
       "삼성증권 장정훈         46  0.127844\n",
       "IBK투자증권 이건재      10  0.129200\n",
       "IBK투자증권 이현욱      19  0.130256\n",
       "부국증권 엄태웅          6  0.138445\n",
       "SK증권 한동희          8  0.140300\n",
       "DB금융투자 유경하        6  0.156554\n",
       "흥국증권 이의진         17  0.158260\n",
       "유화증권 유승준          4  0.159207\n",
       "이베스트투자증권 차용호      7  0.163143\n",
       "IR큐더스 유예지         1  0.164786\n",
       "대신증권 박세라          2  0.287762\n",
       "신한투자증권 황성환        4  0.422709\n",
       "IR큐더스 최윤영         1  0.697531"
      ]
     },
     "execution_count": 131,
     "metadata": {},
     "output_type": "execute_result"
    }
   ],
   "source": [
    "df_result.sort_values('mean').tail(20)"
   ]
  },
  {
   "cell_type": "code",
   "execution_count": 114,
   "id": "7413a367",
   "metadata": {},
   "outputs": [
    {
     "data": {
      "text/plain": [
       "0.0123737337425227"
      ]
     },
     "execution_count": 114,
     "metadata": {},
     "output_type": "execute_result"
    }
   ],
   "source": [
    "df_target['ratio'].mean()"
   ]
  },
  {
   "cell_type": "code",
   "execution_count": 204,
   "id": "baaf9f58",
   "metadata": {},
   "outputs": [
    {
     "data": {
      "text/html": [
       "<div>\n",
       "<style scoped>\n",
       "    .dataframe tbody tr th:only-of-type {\n",
       "        vertical-align: middle;\n",
       "    }\n",
       "\n",
       "    .dataframe tbody tr th {\n",
       "        vertical-align: top;\n",
       "    }\n",
       "\n",
       "    .dataframe thead th {\n",
       "        text-align: right;\n",
       "    }\n",
       "</style>\n",
       "<table border=\"1\" class=\"dataframe\">\n",
       "  <thead>\n",
       "    <tr style=\"text-align: right;\">\n",
       "      <th></th>\n",
       "      <th>invest_opinion</th>\n",
       "      <th>price_goal</th>\n",
       "      <th>reporter</th>\n",
       "      <th>contents</th>\n",
       "      <th>dates</th>\n",
       "      <th>codes</th>\n",
       "    </tr>\n",
       "  </thead>\n",
       "  <tbody>\n",
       "    <tr>\n",
       "      <th>0</th>\n",
       "      <td>BUY</td>\n",
       "      <td>90000.0</td>\n",
       "      <td>DB금융투자 김평모</td>\n",
       "      <td>4Q22, 컨센서스 하회 전망\\n- 23년 글로벌 자동차 수요 부진</td>\n",
       "      <td>2023/01/02</td>\n",
       "      <td>000270</td>\n",
       "    </tr>\n",
       "    <tr>\n",
       "      <th>1</th>\n",
       "      <td>매수</td>\n",
       "      <td>100000.0</td>\n",
       "      <td>한국투자증권 김진우</td>\n",
       "      <td>4분기 영업이익 컨센서스 10% 상회 전망\\n- 실적 고점보다 저점이 궁금한 시기</td>\n",
       "      <td>2023/01/02</td>\n",
       "      <td>000270</td>\n",
       "    </tr>\n",
       "    <tr>\n",
       "      <th>2</th>\n",
       "      <td>BUY</td>\n",
       "      <td>85000.0</td>\n",
       "      <td>교보증권 남주신</td>\n",
       "      <td>전기차 SUV 시리즈에 주목\\n- EV9으로 커진 밸류에이션 매력</td>\n",
       "      <td>2023/01/02</td>\n",
       "      <td>000270</td>\n",
       "    </tr>\n",
       "    <tr>\n",
       "      <th>3</th>\n",
       "      <td>BUY</td>\n",
       "      <td>47000.0</td>\n",
       "      <td>유안타증권 이현수</td>\n",
       "      <td>4Q22 OP estimated at W58bn (-92% YoY, -84% QoQ...</td>\n",
       "      <td>2023/01/02</td>\n",
       "      <td>004020</td>\n",
       "    </tr>\n",
       "    <tr>\n",
       "      <th>4</th>\n",
       "      <td>BUY</td>\n",
       "      <td>47000.0</td>\n",
       "      <td>유안타증권 이현수</td>\n",
       "      <td>4Q22(E): 영업이익 580억원 추정 (yoy -92%, qoq -84%)\\n-...</td>\n",
       "      <td>2023/01/02</td>\n",
       "      <td>004020</td>\n",
       "    </tr>\n",
       "    <tr>\n",
       "      <th>...</th>\n",
       "      <td>...</td>\n",
       "      <td>...</td>\n",
       "      <td>...</td>\n",
       "      <td>...</td>\n",
       "      <td>...</td>\n",
       "      <td>...</td>\n",
       "    </tr>\n",
       "    <tr>\n",
       "      <th>10820</th>\n",
       "      <td>매수</td>\n",
       "      <td>9000.0</td>\n",
       "      <td>한국투자증권 강경태</td>\n",
       "      <td>리파이낸싱 첫 해, 12기부터 경상 배당금 감소할 것\\n- 자산 매각 차익으로 지급...</td>\n",
       "      <td>2023/05/31</td>\n",
       "      <td>293940</td>\n",
       "    </tr>\n",
       "    <tr>\n",
       "      <th>10821</th>\n",
       "      <td>매수</td>\n",
       "      <td>5500.0</td>\n",
       "      <td>한국투자증권 강경태</td>\n",
       "      <td>리파이낸싱 첫 해, DPS 감소할 것\\n- 자산 편입 활동 지속, 이천7물류센터 신...</td>\n",
       "      <td>2023/05/31</td>\n",
       "      <td>365550</td>\n",
       "    </tr>\n",
       "    <tr>\n",
       "      <th>10822</th>\n",
       "      <td>매수</td>\n",
       "      <td>100000.0</td>\n",
       "      <td>IBK투자증권 김태현</td>\n",
       "      <td>2분기 실적, 낮아진 시장 기대치에 부합할 전망\\n- 건기식 부문이 담배 및 부동산...</td>\n",
       "      <td>2023/05/31</td>\n",
       "      <td>033780</td>\n",
       "    </tr>\n",
       "    <tr>\n",
       "      <th>10823</th>\n",
       "      <td>매수</td>\n",
       "      <td>2600.0</td>\n",
       "      <td>한국투자증권 최고운</td>\n",
       "      <td>2분기 벌크해운 운임은 경기부진 우려로 약세가 지속\\n- 단기 불확실성 확대를 감안...</td>\n",
       "      <td>2023/05/31</td>\n",
       "      <td>005880</td>\n",
       "    </tr>\n",
       "    <tr>\n",
       "      <th>10824</th>\n",
       "      <td>BUY</td>\n",
       "      <td>31000.0</td>\n",
       "      <td>흥국증권 이의진</td>\n",
       "      <td>2Q23 Preview: 매출액 +44%, 영업이익 +277% QoQ\\n- 명확한 ...</td>\n",
       "      <td>2023/05/31</td>\n",
       "      <td>042700</td>\n",
       "    </tr>\n",
       "  </tbody>\n",
       "</table>\n",
       "<p>10825 rows × 6 columns</p>\n",
       "</div>"
      ],
      "text/plain": [
       "      invest_opinion  price_goal     reporter  \\\n",
       "0                BUY     90000.0   DB금융투자 김평모   \n",
       "1                 매수    100000.0   한국투자증권 김진우   \n",
       "2                BUY     85000.0     교보증권 남주신   \n",
       "3                BUY     47000.0    유안타증권 이현수   \n",
       "4                BUY     47000.0    유안타증권 이현수   \n",
       "...              ...         ...          ...   \n",
       "10820             매수      9000.0   한국투자증권 강경태   \n",
       "10821             매수      5500.0   한국투자증권 강경태   \n",
       "10822             매수    100000.0  IBK투자증권 김태현   \n",
       "10823             매수      2600.0   한국투자증권 최고운   \n",
       "10824            BUY     31000.0     흥국증권 이의진   \n",
       "\n",
       "                                                contents       dates   codes  \n",
       "0                  4Q22, 컨센서스 하회 전망\\n- 23년 글로벌 자동차 수요 부진  2023/01/02  000270  \n",
       "1          4분기 영업이익 컨센서스 10% 상회 전망\\n- 실적 고점보다 저점이 궁금한 시기  2023/01/02  000270  \n",
       "2                   전기차 SUV 시리즈에 주목\\n- EV9으로 커진 밸류에이션 매력  2023/01/02  000270  \n",
       "3      4Q22 OP estimated at W58bn (-92% YoY, -84% QoQ...  2023/01/02  004020  \n",
       "4      4Q22(E): 영업이익 580억원 추정 (yoy -92%, qoq -84%)\\n-...  2023/01/02  004020  \n",
       "...                                                  ...         ...     ...  \n",
       "10820  리파이낸싱 첫 해, 12기부터 경상 배당금 감소할 것\\n- 자산 매각 차익으로 지급...  2023/05/31  293940  \n",
       "10821  리파이낸싱 첫 해, DPS 감소할 것\\n- 자산 편입 활동 지속, 이천7물류센터 신...  2023/05/31  365550  \n",
       "10822  2분기 실적, 낮아진 시장 기대치에 부합할 전망\\n- 건기식 부문이 담배 및 부동산...  2023/05/31  033780  \n",
       "10823  2분기 벌크해운 운임은 경기부진 우려로 약세가 지속\\n- 단기 불확실성 확대를 감안...  2023/05/31  005880  \n",
       "10824  2Q23 Preview: 매출액 +44%, 영업이익 +277% QoQ\\n- 명확한 ...  2023/05/31  042700  \n",
       "\n",
       "[10825 rows x 6 columns]"
      ]
     },
     "execution_count": 204,
     "metadata": {},
     "output_type": "execute_result"
    }
   ],
   "source": [
    "df"
   ]
  },
  {
   "cell_type": "code",
   "execution_count": 24,
   "id": "a4b5962f",
   "metadata": {},
   "outputs": [],
   "source": []
  },
  {
   "cell_type": "markdown",
   "id": "93c39ba8",
   "metadata": {},
   "source": [
    "### workspace"
   ]
  },
  {
   "cell_type": "code",
   "execution_count": null,
   "id": "5a5bbdcd",
   "metadata": {},
   "outputs": [],
   "source": [
    "codes = df['codes'].unique()"
   ]
  },
  {
   "cell_type": "code",
   "execution_count": null,
   "id": "b50c9413",
   "metadata": {},
   "outputs": [],
   "source": [
    "## fdr에서 데이터 local로 다운로드\n",
    "# for code in tqdm(codes):\n",
    "#     df_stock = fdr.DataReader(code, '2023')\n",
    "#     df_stock.to_csv(f'data_stock/{code}.csv')"
   ]
  }
 ],
 "metadata": {
  "kernelspec": {
   "display_name": "ds",
   "language": "python",
   "name": ".venv_ds"
  },
  "language_info": {
   "codemirror_mode": {
    "name": "ipython",
    "version": 3
   },
   "file_extension": ".py",
   "mimetype": "text/x-python",
   "name": "python",
   "nbconvert_exporter": "python",
   "pygments_lexer": "ipython3",
   "version": "3.9.13"
  }
 },
 "nbformat": 4,
 "nbformat_minor": 5
}
