{
 "cells": [
  {
   "cell_type": "code",
   "execution_count": 264,
   "metadata": {},
   "outputs": [],
   "source": [
    "import pandas as pd\n",
    "import FinanceDataReader as fdr\n",
    "from tqdm import tqdm\n",
    "import numpy as np\n",
    "import matplotlib.pyplot as plt"
   ]
  },
  {
   "cell_type": "markdown",
   "metadata": {},
   "source": [
    "## Import Data/Preprocess"
   ]
  },
  {
   "cell_type": "code",
   "execution_count": 10,
   "metadata": {},
   "outputs": [],
   "source": [
    "NO_KOS_CODES = ['003340']  # 코스피, 코스닥 종목이 아닌 것"
   ]
  },
  {
   "cell_type": "code",
   "execution_count": 3,
   "metadata": {},
   "outputs": [],
   "source": [
    "def split_reporter(s):\n",
    "    s_splited = s.split()\n",
    "    if len(s_splited) == 1:\n",
    "        return s_splited[0], 'None'\n",
    "    elif len(s_splited) == 2:\n",
    "        return s_splited[0], s_splited[1]\n",
    "    else:\n",
    "        return s_splited[0], ' '.join(s_splited[1:])"
   ]
  },
  {
   "cell_type": "code",
   "execution_count": 435,
   "metadata": {},
   "outputs": [],
   "source": [
    "def preprocess(df):\n",
    "    df['company'] = df.apply(lambda x:x['titles'].split(' A')[0].strip(), axis=1)\n",
    "    df['codes'] = df.apply(lambda x:x['titles'].split(' A')[1].split('-')[0].strip(), axis=1)\n",
    "    df['report_company'] = df.apply(lambda x:split_reporter(x['reporter'])[0], axis=1)\n",
    "    df['report_name'] = df.apply(lambda x:split_reporter(x['reporter'])[1], axis=1)\n",
    "    df = df.drop(columns=['titles'])\n",
    "    df = df[~df['codes'].isin(NO_KOS_CODES)]\n",
    "    df = df.drop_duplicates(subset=['price_goal', 'reporter', 'dates', 'codes'], keep='first').reset_index(drop=True)\n",
    "    df['price_goal'] = df['price_goal'].str.replace(',', '').astype(float)\n",
    "    df['dates'] = pd.to_datetime(df['dates'])\n",
    "    df['year_month'] = df['dates'].dt.year.astype(str) + df['dates'].dt.month.astype(str).str.zfill(2)\n",
    "    return df"
   ]
  },
  {
   "cell_type": "code",
   "execution_count": 436,
   "metadata": {},
   "outputs": [],
   "source": [
    "df = pd.read_csv('data/report_220101_221231.csv')\n",
    "df = pd.concat([df, pd.read_csv('data/report_230101_230531.csv')])"
   ]
  },
  {
   "cell_type": "code",
   "execution_count": 437,
   "metadata": {},
   "outputs": [],
   "source": [
    "df = preprocess(df)"
   ]
  },
  {
   "cell_type": "markdown",
   "metadata": {},
   "source": [
    "### EDA"
   ]
  },
  {
   "cell_type": "code",
   "execution_count": 591,
   "metadata": {},
   "outputs": [
    {
     "name": "stderr",
     "output_type": "stream",
     "text": [
      "100%|██████████| 1504/1504 [00:03<00:00, 438.24it/s]\n"
     ]
    }
   ],
   "source": [
    "dfs = []\n",
    "dfs_dict = {}\n",
    "for code in tqdm(codes):\n",
    "    df_stock = pd.read_csv(f'data_stock/{code}.csv')\n",
    "    df_stock['Date'] = pd.to_datetime(df_stock['Date'])\n",
    "    dfs.append(df_stock)\n",
    "    dfs_dict[code] = df_stock"
   ]
  },
  {
   "cell_type": "markdown",
   "metadata": {},
   "source": [
    "#### Selected"
   ]
  },
  {
   "cell_type": "code",
   "execution_count": 592,
   "metadata": {},
   "outputs": [],
   "source": [
    "N_LATER = [0, 1, 5, 10, 20, 50]"
   ]
  },
  {
   "cell_type": "code",
   "execution_count": 593,
   "metadata": {},
   "outputs": [
    {
     "name": "stderr",
     "output_type": "stream",
     "text": [
      "100%|██████████| 30137/30137 [00:52<00:00, 569.09it/s]\n"
     ]
    }
   ],
   "source": [
    "data_list = []\n",
    "for row in tqdm(range(len(df))):\n",
    "    code, date = df.loc[row, 'codes'], df.loc[row, 'dates']\n",
    "    df_stock = dfs_dict[code]\n",
    "    df_stock_target = df_stock[df_stock['Date'] >=date].reset_index(drop=True)\n",
    "    max_n = len(df_stock_target)\n",
    "    data = {}\n",
    "    for n in N_LATER:\n",
    "        if n == 1:\n",
    "            if n < max_n:\n",
    "                data[f'{n}_Open'] = df_stock_target.loc[n]['Open']\n",
    "            else:\n",
    "                data[f'{n}_Open'] = 0\n",
    "        if n < max_n:\n",
    "            data[f'{n}_Close'] = df_stock_target.loc[n]['Close']\n",
    "        else:\n",
    "            data[f'{n}_Close'] = -1\n",
    "    data_list.append(data)"
   ]
  },
  {
   "cell_type": "code",
   "execution_count": 594,
   "metadata": {},
   "outputs": [],
   "source": [
    "df_ = pd.DataFrame(data_list)\n",
    "df_concat = pd.concat([df, df_], axis=1)\n",
    "df_concat['price_goal_ratio'] = df_concat['price_goal'] / df_concat['0_Close'] - 1"
   ]
  },
  {
   "cell_type": "code",
   "execution_count": 659,
   "metadata": {},
   "outputs": [],
   "source": [
    "n = 20\n",
    "th = 0.8"
   ]
  },
  {
   "cell_type": "code",
   "execution_count": 660,
   "metadata": {},
   "outputs": [],
   "source": [
    "df_target = df_concat[df_concat[f'1_Open'] != 0].reset_index(drop=True)\n",
    "df_target = df_target[df_target[f'{n}_Close'] != -1].reset_index(drop=True)"
   ]
  },
  {
   "cell_type": "code",
   "execution_count": 661,
   "metadata": {},
   "outputs": [],
   "source": [
    "df_target['ratio'] = df_target[f'{n}_Close'] / df_target['1_Open'] - 1"
   ]
  },
  {
   "cell_type": "code",
   "execution_count": 662,
   "metadata": {},
   "outputs": [],
   "source": [
    "df_go = df_target[df_target['price_goal_ratio'] > th]"
   ]
  },
  {
   "cell_type": "code",
   "execution_count": 663,
   "metadata": {},
   "outputs": [
    {
     "name": "stdout",
     "output_type": "stream",
     "text": [
      "-0.0009520029216811403 0.014959631873467931\n"
     ]
    }
   ],
   "source": [
    "print(df_target['ratio'].mean(), df_go['ratio'].mean())"
   ]
  },
  {
   "cell_type": "code",
   "execution_count": 664,
   "metadata": {},
   "outputs": [
    {
     "name": "stdout",
     "output_type": "stream",
     "text": [
      "28461 1005\n"
     ]
    }
   ],
   "source": [
    "print(len(df_target), len(df_go))"
   ]
  },
  {
   "cell_type": "markdown",
   "metadata": {},
   "source": [
    "#### random"
   ]
  },
  {
   "cell_type": "code",
   "execution_count": 655,
   "metadata": {},
   "outputs": [
    {
     "name": "stderr",
     "output_type": "stream",
     "text": [
      "100%|██████████| 300/300 [00:10<00:00, 29.24it/s]\n"
     ]
    }
   ],
   "source": [
    "n = 50\n",
    "count = 46\n",
    "btst = []\n",
    "for i in tqdm(range(300)):\n",
    "    ratio_list = []\n",
    "    for j in range(count+500):\n",
    "        code_idx = np.random.choice(len(codes))\n",
    "        df_stock = dfs[code_idx]\n",
    "        start_max = len(df_stock)-n\n",
    "        if start_max > 0:  # 최근 상장된 것들은 리포트는 있지만, later를 구할수가없음\n",
    "            start_date = np.random.choice(range(start_max))\n",
    "            if df_stock.loc[start_date, 'Open'] > 0:  # 거래정지의 경우 Open이 0임..\n",
    "                end_date = start_date+n\n",
    "                ratio = df_stock.loc[end_date, 'Close'] / df_stock.loc[start_date, 'Open'] - 1\n",
    "                ratio_list.append(ratio)\n",
    "    btst.append(np.mean(ratio_list[:count]))\n",
    "    "
   ]
  },
  {
   "cell_type": "code",
   "execution_count": 656,
   "metadata": {},
   "outputs": [
    {
     "data": {
      "text/plain": [
       "20"
      ]
     },
     "execution_count": 656,
     "metadata": {},
     "output_type": "execute_result"
    }
   ],
   "source": [
    "sum(np.array(btst) > 0.054)"
   ]
  },
  {
   "cell_type": "code",
   "execution_count": 657,
   "metadata": {},
   "outputs": [
    {
     "data": {
      "text/plain": [
       "-0.0008859651021176194"
      ]
     },
     "execution_count": 657,
     "metadata": {},
     "output_type": "execute_result"
    }
   ],
   "source": [
    "np.mean(np.array(btst))"
   ]
  },
  {
   "cell_type": "code",
   "execution_count": 634,
   "metadata": {},
   "outputs": [
    {
     "data": {
      "image/png": "[encoded data removed]",
      "text/plain": [
       "<Figure size 432x288 with 1 Axes>"
      ]
     },
     "metadata": {
      "needs_background": "light"
     },
     "output_type": "display_data"
    }
   ],
   "source": [
    "plt.hist(ratio_list, bins=100);"
   ]
  },
  {
   "cell_type": "code",
   "execution_count": 635,
   "metadata": {},
   "outputs": [
    {
     "data": {
      "text/plain": [
       "year_month\n",
       "202201    477\n",
       "202202    445\n",
       "202203    259\n",
       "202204    321\n",
       "202205    499\n",
       "202206    221\n",
       "202207    497\n",
       "202208    393\n",
       "202209    234\n",
       "202210    612\n",
       "202211    597\n",
       "202212     67\n",
       "202301    244\n",
       "202302    223\n",
       "202303    127\n",
       "202304    257\n",
       "202305    232\n",
       "Name: ratio, dtype: int64"
      ]
     },
     "execution_count": 635,
     "metadata": {},
     "output_type": "execute_result"
    }
   ],
   "source": [
    "df_go.groupby('year_month').count()['ratio']"
   ]
  },
  {
   "cell_type": "code",
   "execution_count": 636,
   "metadata": {},
   "outputs": [
    {
     "data": {
      "text/plain": [
       "year_month\n",
       "202201   -0.022231\n",
       "202202    0.011584\n",
       "202203    0.023445\n",
       "202204   -0.018212\n",
       "202205   -0.007490\n",
       "202206   -0.046728\n",
       "202207    0.034620\n",
       "202208   -0.009976\n",
       "202209   -0.050224\n",
       "202210    0.026888\n",
       "202211    0.026625\n",
       "202212   -0.011090\n",
       "202301    0.039252\n",
       "202302   -0.007368\n",
       "202303    0.045206\n",
       "202304    0.006512\n",
       "202305    0.002022\n",
       "Name: ratio, dtype: float64"
      ]
     },
     "execution_count": 636,
     "metadata": {},
     "output_type": "execute_result"
    }
   ],
   "source": [
    "df_go.groupby('year_month').mean()['ratio']"
   ]
  },
  {
   "cell_type": "code",
   "execution_count": 637,
   "metadata": {},
   "outputs": [],
   "source": [
    "def get_info(df, gb_col='reporter'):\n",
    "    df_mean = df.groupby(gb_col).mean()['ratio']\n",
    "    df_count = df.groupby(gb_col).count()['ratio']\n",
    "    df_result = pd.concat([df_count, df_mean], axis=1)\n",
    "    df_result.columns = ['count', 'mean']\n",
    "    return df_result.sort_values('mean', ascending=False)"
   ]
  },
  {
   "cell_type": "code",
   "execution_count": 638,
   "metadata": {},
   "outputs": [
    {
     "data": {
      "text/plain": [
       "<matplotlib.axes._subplots.AxesSubplot at 0x7f7a402967d0>"
      ]
     },
     "execution_count": 638,
     "metadata": {},
     "output_type": "execute_result"
    },
    {
     "data": {
      "image/png": "[encoded data removed]",
      "text/plain": [
       "<Figure size 432x288 with 1 Axes>"
      ]
     },
     "metadata": {
      "needs_background": "light"
     },
     "output_type": "display_data"
    }
   ],
   "source": [
    "(pd.to_datetime(df['dates']).astype(int)/100000000000).plot(kind='hist', bins=30)"
   ]
  },
  {
   "cell_type": "code",
   "execution_count": 639,
   "metadata": {},
   "outputs": [
    {
     "data": {
      "text/plain": [
       "<matplotlib.axes._subplots.AxesSubplot at 0x7f7a2852cc10>"
      ]
     },
     "execution_count": 639,
     "metadata": {},
     "output_type": "execute_result"
    },
    {
     "data": {
      "image/png": "[encoded data removed]",
      "text/plain": [
       "<Figure size 432x288 with 1 Axes>"
      ]
     },
     "metadata": {
      "needs_background": "light"
     },
     "output_type": "display_data"
    }
   ],
   "source": [
    "(pd.to_datetime(df_go['dates']).astype(int)/100000000000).plot(kind='hist', bins=30)"
   ]
  },
  {
   "cell_type": "code",
   "execution_count": 665,
   "metadata": {},
   "outputs": [],
   "source": [
    "df_result = get_info(df_go, 'report_company')"
   ]
  },
  {
   "cell_type": "code",
   "execution_count": 666,
   "metadata": {},
   "outputs": [
    {
     "data": {
      "text/html": [
       "<div>\n",
       "<style scoped>\n",
       "    .dataframe tbody tr th:only-of-type {\n",
       "        vertical-align: middle;\n",
       "    }\n",
       "\n",
       "    .dataframe tbody tr th {\n",
       "        vertical-align: top;\n",
       "    }\n",
       "\n",
       "    .dataframe thead th {\n",
       "        text-align: right;\n",
       "    }\n",
       "</style>\n",
       "<table border=\"1\" class=\"dataframe\">\n",
       "  <thead>\n",
       "    <tr style=\"text-align: right;\">\n",
       "      <th></th>\n",
       "      <th>count</th>\n",
       "      <th>mean</th>\n",
       "    </tr>\n",
       "    <tr>\n",
       "      <th>report_company</th>\n",
       "      <th></th>\n",
       "      <th></th>\n",
       "    </tr>\n",
       "  </thead>\n",
       "  <tbody>\n",
       "    <tr>\n",
       "      <th>DS투자증권</th>\n",
       "      <td>2</td>\n",
       "      <td>0.274151</td>\n",
       "    </tr>\n",
       "    <tr>\n",
       "      <th>현대차증권</th>\n",
       "      <td>52</td>\n",
       "      <td>0.052569</td>\n",
       "    </tr>\n",
       "    <tr>\n",
       "      <th>BNK투자증권</th>\n",
       "      <td>8</td>\n",
       "      <td>0.052075</td>\n",
       "    </tr>\n",
       "    <tr>\n",
       "      <th>메리츠증권</th>\n",
       "      <td>40</td>\n",
       "      <td>0.038932</td>\n",
       "    </tr>\n",
       "    <tr>\n",
       "      <th>한국투자증권</th>\n",
       "      <td>32</td>\n",
       "      <td>0.036529</td>\n",
       "    </tr>\n",
       "    <tr>\n",
       "      <th>NH투자증권</th>\n",
       "      <td>41</td>\n",
       "      <td>0.035833</td>\n",
       "    </tr>\n",
       "    <tr>\n",
       "      <th>유진투자증권</th>\n",
       "      <td>60</td>\n",
       "      <td>0.034682</td>\n",
       "    </tr>\n",
       "    <tr>\n",
       "      <th>삼성증권</th>\n",
       "      <td>24</td>\n",
       "      <td>0.033868</td>\n",
       "    </tr>\n",
       "    <tr>\n",
       "      <th>대신증권</th>\n",
       "      <td>60</td>\n",
       "      <td>0.028449</td>\n",
       "    </tr>\n",
       "    <tr>\n",
       "      <th>DB금융투자</th>\n",
       "      <td>20</td>\n",
       "      <td>0.027386</td>\n",
       "    </tr>\n",
       "    <tr>\n",
       "      <th>미래에셋증권</th>\n",
       "      <td>37</td>\n",
       "      <td>0.027285</td>\n",
       "    </tr>\n",
       "    <tr>\n",
       "      <th>IBK투자증권</th>\n",
       "      <td>51</td>\n",
       "      <td>0.020060</td>\n",
       "    </tr>\n",
       "    <tr>\n",
       "      <th>케이프투자증권</th>\n",
       "      <td>28</td>\n",
       "      <td>0.018556</td>\n",
       "    </tr>\n",
       "    <tr>\n",
       "      <th>교보증권</th>\n",
       "      <td>13</td>\n",
       "      <td>0.016478</td>\n",
       "    </tr>\n",
       "    <tr>\n",
       "      <th>SK증권</th>\n",
       "      <td>26</td>\n",
       "      <td>0.010816</td>\n",
       "    </tr>\n",
       "    <tr>\n",
       "      <th>하나증권</th>\n",
       "      <td>141</td>\n",
       "      <td>0.009393</td>\n",
       "    </tr>\n",
       "    <tr>\n",
       "      <th>KB증권</th>\n",
       "      <td>21</td>\n",
       "      <td>0.007662</td>\n",
       "    </tr>\n",
       "    <tr>\n",
       "      <th>신한투자증권</th>\n",
       "      <td>48</td>\n",
       "      <td>0.005635</td>\n",
       "    </tr>\n",
       "    <tr>\n",
       "      <th>다올투자증권</th>\n",
       "      <td>18</td>\n",
       "      <td>0.004261</td>\n",
       "    </tr>\n",
       "    <tr>\n",
       "      <th>키움증권</th>\n",
       "      <td>47</td>\n",
       "      <td>0.001683</td>\n",
       "    </tr>\n",
       "    <tr>\n",
       "      <th>신영증권</th>\n",
       "      <td>51</td>\n",
       "      <td>-0.001601</td>\n",
       "    </tr>\n",
       "    <tr>\n",
       "      <th>한화투자증권</th>\n",
       "      <td>41</td>\n",
       "      <td>-0.002764</td>\n",
       "    </tr>\n",
       "    <tr>\n",
       "      <th>유안타증권</th>\n",
       "      <td>59</td>\n",
       "      <td>-0.008814</td>\n",
       "    </tr>\n",
       "    <tr>\n",
       "      <th>흥국증권</th>\n",
       "      <td>29</td>\n",
       "      <td>-0.010633</td>\n",
       "    </tr>\n",
       "    <tr>\n",
       "      <th>이베스트투자증권</th>\n",
       "      <td>20</td>\n",
       "      <td>-0.011205</td>\n",
       "    </tr>\n",
       "    <tr>\n",
       "      <th>하이투자증권</th>\n",
       "      <td>23</td>\n",
       "      <td>-0.024332</td>\n",
       "    </tr>\n",
       "    <tr>\n",
       "      <th>상상인증권</th>\n",
       "      <td>11</td>\n",
       "      <td>-0.031256</td>\n",
       "    </tr>\n",
       "    <tr>\n",
       "      <th>CTT리서치</th>\n",
       "      <td>1</td>\n",
       "      <td>-0.294382</td>\n",
       "    </tr>\n",
       "    <tr>\n",
       "      <th>한양증권</th>\n",
       "      <td>1</td>\n",
       "      <td>-0.521795</td>\n",
       "    </tr>\n",
       "  </tbody>\n",
       "</table>\n",
       "</div>"
      ],
      "text/plain": [
       "                count      mean\n",
       "report_company                 \n",
       "DS투자증권              2  0.274151\n",
       "현대차증권              52  0.052569\n",
       "BNK투자증권             8  0.052075\n",
       "메리츠증권              40  0.038932\n",
       "한국투자증권             32  0.036529\n",
       "NH투자증권             41  0.035833\n",
       "유진투자증권             60  0.034682\n",
       "삼성증권               24  0.033868\n",
       "대신증권               60  0.028449\n",
       "DB금융투자             20  0.027386\n",
       "미래에셋증권             37  0.027285\n",
       "IBK투자증권            51  0.020060\n",
       "케이프투자증권            28  0.018556\n",
       "교보증권               13  0.016478\n",
       "SK증권               26  0.010816\n",
       "하나증권              141  0.009393\n",
       "KB증권               21  0.007662\n",
       "신한투자증권             48  0.005635\n",
       "다올투자증권             18  0.004261\n",
       "키움증권               47  0.001683\n",
       "신영증권               51 -0.001601\n",
       "한화투자증권             41 -0.002764\n",
       "유안타증권              59 -0.008814\n",
       "흥국증권               29 -0.010633\n",
       "이베스트투자증권           20 -0.011205\n",
       "하이투자증권             23 -0.024332\n",
       "상상인증권              11 -0.031256\n",
       "CTT리서치              1 -0.294382\n",
       "한양증권                1 -0.521795"
      ]
     },
     "execution_count": 666,
     "metadata": {},
     "output_type": "execute_result"
    }
   ],
   "source": [
    "df_result"
   ]
  },
  {
   "cell_type": "code",
   "execution_count": 254,
   "metadata": {
    "scrolled": true
   },
   "outputs": [
    {
     "data": {
      "text/plain": [
       "array(['유진투자증권', 'KB증권', '유안타증권', 'DB금융투자', '신영증권', '하이투자증권', '상상인증권',\n",
       "       '한화투자증권', '한국투자증권', '하나증권', '이베스트투자증권', '케이프투자증권', '대신증권',\n",
       "       'NH투자증권', '미래에셋증권', '삼성증권', '신한투자증권', '밸류파인더', '키움증권', 'BNK투자증권',\n",
       "       'IBK투자증권', '현대차증권', '흥국증권', '다올투자증권', '메리츠증권', '부국증권', '카카오페이증권',\n",
       "       '교보증권', '한국금융분석원', 'DS투자증권', 'SK증권', '리딩투자증권', '한양증권', 'CTT리서치',\n",
       "       '유화증권'], dtype=object)"
      ]
     },
     "execution_count": 254,
     "metadata": {},
     "output_type": "execute_result"
    }
   ],
   "source": [
    "df_go['report_company'].unique()"
   ]
  },
  {
   "cell_type": "code",
   "execution_count": 274,
   "metadata": {},
   "outputs": [
    {
     "data": {
      "text/plain": [
       "array(['BUY', '매수', 'HOLD', '중장기주가상승', 'MARKETPERFORM', 'NEUTRAL', nan,\n",
       "       'TRADING BUY', 'STRONG BUY', '중립', 'OUTPERFORM', '단기주가보합', '보유',\n",
       "       '단기주가상승', '적극매수'], dtype=object)"
      ]
     },
     "execution_count": 274,
     "metadata": {},
     "output_type": "execute_result"
    }
   ],
   "source": [
    "df_go['invest_opinion'].unique()"
   ]
  },
  {
   "cell_type": "code",
   "execution_count": 273,
   "metadata": {},
   "outputs": [
    {
     "data": {
      "text/html": [
       "<div>\n",
       "<style scoped>\n",
       "    .dataframe tbody tr th:only-of-type {\n",
       "        vertical-align: middle;\n",
       "    }\n",
       "\n",
       "    .dataframe tbody tr th {\n",
       "        vertical-align: top;\n",
       "    }\n",
       "\n",
       "    .dataframe thead th {\n",
       "        text-align: right;\n",
       "    }\n",
       "</style>\n",
       "<table border=\"1\" class=\"dataframe\">\n",
       "  <thead>\n",
       "    <tr style=\"text-align: right;\">\n",
       "      <th></th>\n",
       "      <th>invest_opinion</th>\n",
       "      <th>price_goal</th>\n",
       "      <th>reporter</th>\n",
       "      <th>contents</th>\n",
       "      <th>dates</th>\n",
       "      <th>company</th>\n",
       "      <th>codes</th>\n",
       "      <th>report_company</th>\n",
       "      <th>report_name</th>\n",
       "      <th>0_Close</th>\n",
       "      <th>1_Open</th>\n",
       "      <th>1_Close</th>\n",
       "      <th>5_Close</th>\n",
       "      <th>10_Close</th>\n",
       "      <th>20_Close</th>\n",
       "      <th>50_Close</th>\n",
       "      <th>price_goal_ratio</th>\n",
       "      <th>ratio</th>\n",
       "    </tr>\n",
       "  </thead>\n",
       "  <tbody>\n",
       "    <tr>\n",
       "      <th>0</th>\n",
       "      <td>BUY</td>\n",
       "      <td>160000.0</td>\n",
       "      <td>유진투자증권 이승우</td>\n",
       "      <td>4분기 영업이익 4.2조원 예상\\n- 시안 봉쇄로 메모리 업황에 변수 발생</td>\n",
       "      <td>2022/01/03</td>\n",
       "      <td>SK하이닉스</td>\n",
       "      <td>000660</td>\n",
       "      <td>유진투자증권</td>\n",
       "      <td>이승우</td>\n",
       "      <td>75700</td>\n",
       "      <td>75600</td>\n",
       "      <td>75600</td>\n",
       "      <td>86000</td>\n",
       "      <td>85800</td>\n",
       "      <td>91400</td>\n",
       "      <td>79000</td>\n",
       "      <td>1.113606</td>\n",
       "      <td>0.208995</td>\n",
       "    </tr>\n",
       "    <tr>\n",
       "      <th>1</th>\n",
       "      <td>BUY</td>\n",
       "      <td>300000.0</td>\n",
       "      <td>KB증권 강승건</td>\n",
       "      <td>투자의견 Buy, 목표주가 300,000원으로 직전대비 4.8% 하향\\n- 4Q21...</td>\n",
       "      <td>2022/01/03</td>\n",
       "      <td>삼성화재</td>\n",
       "      <td>000810</td>\n",
       "      <td>KB증권</td>\n",
       "      <td>강승건</td>\n",
       "      <td>194500</td>\n",
       "      <td>196500</td>\n",
       "      <td>194000</td>\n",
       "      <td>201500</td>\n",
       "      <td>200500</td>\n",
       "      <td>208000</td>\n",
       "      <td>212500</td>\n",
       "      <td>0.542416</td>\n",
       "      <td>0.058524</td>\n",
       "    </tr>\n",
       "    <tr>\n",
       "      <th>2</th>\n",
       "      <td>BUY</td>\n",
       "      <td>106000.0</td>\n",
       "      <td>유안타증권 이재윤</td>\n",
       "      <td>4Q21 영업이익 1,366억원으로 컨센서스 대폭 상회할 전망\\n- 22년 연간 영...</td>\n",
       "      <td>2022/01/03</td>\n",
       "      <td>DB하이텍</td>\n",
       "      <td>000990</td>\n",
       "      <td>유안타증권</td>\n",
       "      <td>이재윤</td>\n",
       "      <td>36600</td>\n",
       "      <td>36300</td>\n",
       "      <td>37500</td>\n",
       "      <td>43100</td>\n",
       "      <td>43450</td>\n",
       "      <td>44950</td>\n",
       "      <td>47150</td>\n",
       "      <td>1.896175</td>\n",
       "      <td>0.238292</td>\n",
       "    </tr>\n",
       "    <tr>\n",
       "      <th>5</th>\n",
       "      <td>BUY</td>\n",
       "      <td>300000.0</td>\n",
       "      <td>DB금융투자 김평모</td>\n",
       "      <td>22년 물량 회복 전망\\n- 22년까지 지속될 신차 효과</td>\n",
       "      <td>2022/01/03</td>\n",
       "      <td>현대차</td>\n",
       "      <td>005380</td>\n",
       "      <td>DB금융투자</td>\n",
       "      <td>김평모</td>\n",
       "      <td>157000</td>\n",
       "      <td>158500</td>\n",
       "      <td>159000</td>\n",
       "      <td>164000</td>\n",
       "      <td>166500</td>\n",
       "      <td>170000</td>\n",
       "      <td>174000</td>\n",
       "      <td>0.910828</td>\n",
       "      <td>0.072555</td>\n",
       "    </tr>\n",
       "    <tr>\n",
       "      <th>9</th>\n",
       "      <td>매수</td>\n",
       "      <td>13500.0</td>\n",
       "      <td>신영증권 서정연</td>\n",
       "      <td>GKL 카지노 입점 확정\\n- 카지노 효과 기대</td>\n",
       "      <td>2022/01/03</td>\n",
       "      <td>서부T&amp;D</td>\n",
       "      <td>006730</td>\n",
       "      <td>신영증권</td>\n",
       "      <td>서정연</td>\n",
       "      <td>7380</td>\n",
       "      <td>7480</td>\n",
       "      <td>7420</td>\n",
       "      <td>7800</td>\n",
       "      <td>7920</td>\n",
       "      <td>7970</td>\n",
       "      <td>7050</td>\n",
       "      <td>0.829268</td>\n",
       "      <td>0.065508</td>\n",
       "    </tr>\n",
       "    <tr>\n",
       "      <th>...</th>\n",
       "      <td>...</td>\n",
       "      <td>...</td>\n",
       "      <td>...</td>\n",
       "      <td>...</td>\n",
       "      <td>...</td>\n",
       "      <td>...</td>\n",
       "      <td>...</td>\n",
       "      <td>...</td>\n",
       "      <td>...</td>\n",
       "      <td>...</td>\n",
       "      <td>...</td>\n",
       "      <td>...</td>\n",
       "      <td>...</td>\n",
       "      <td>...</td>\n",
       "      <td>...</td>\n",
       "      <td>...</td>\n",
       "      <td>...</td>\n",
       "      <td>...</td>\n",
       "    </tr>\n",
       "    <tr>\n",
       "      <th>28411</th>\n",
       "      <td>BUY</td>\n",
       "      <td>110000.0</td>\n",
       "      <td>유진투자증권 정의훈</td>\n",
       "      <td>1분기 매출액 644억원, 영업이익 8억원. 당사 매출 추정치(574억원)과 영업이...</td>\n",
       "      <td>2023/05/10</td>\n",
       "      <td>인텔리안테크</td>\n",
       "      <td>189300</td>\n",
       "      <td>유진투자증권</td>\n",
       "      <td>정의훈</td>\n",
       "      <td>72606</td>\n",
       "      <td>73477</td>\n",
       "      <td>72800</td>\n",
       "      <td>73865</td>\n",
       "      <td>72800</td>\n",
       "      <td>68500</td>\n",
       "      <td>-1</td>\n",
       "      <td>0.515026</td>\n",
       "      <td>-0.067735</td>\n",
       "    </tr>\n",
       "    <tr>\n",
       "      <th>28412</th>\n",
       "      <td>BUY</td>\n",
       "      <td>44000.0</td>\n",
       "      <td>흥국증권 최종경</td>\n",
       "      <td>1Q23 Review: 영업수익 +11%, 영업이익 +21% YoY\\n- 시장의 기...</td>\n",
       "      <td>2023/05/10</td>\n",
       "      <td>롯데렌탈</td>\n",
       "      <td>089860</td>\n",
       "      <td>흥국증권</td>\n",
       "      <td>최종경</td>\n",
       "      <td>27500</td>\n",
       "      <td>27700</td>\n",
       "      <td>27550</td>\n",
       "      <td>27200</td>\n",
       "      <td>27700</td>\n",
       "      <td>29000</td>\n",
       "      <td>-1</td>\n",
       "      <td>0.600000</td>\n",
       "      <td>0.046931</td>\n",
       "    </tr>\n",
       "    <tr>\n",
       "      <th>28426</th>\n",
       "      <td>BUY</td>\n",
       "      <td>86000.0</td>\n",
       "      <td>대신증권 유정현</td>\n",
       "      <td>백화점부문 대전점 영업중단 영향 제거 시 1분기 영업이익 약 2% 증가\\n- 면세점...</td>\n",
       "      <td>2023/05/10</td>\n",
       "      <td>현대백화점</td>\n",
       "      <td>069960</td>\n",
       "      <td>대신증권</td>\n",
       "      <td>유정현</td>\n",
       "      <td>52400</td>\n",
       "      <td>52600</td>\n",
       "      <td>52200</td>\n",
       "      <td>52200</td>\n",
       "      <td>52500</td>\n",
       "      <td>51900</td>\n",
       "      <td>-1</td>\n",
       "      <td>0.641221</td>\n",
       "      <td>-0.013308</td>\n",
       "    </tr>\n",
       "    <tr>\n",
       "      <th>28435</th>\n",
       "      <td>BUY</td>\n",
       "      <td>140000.0</td>\n",
       "      <td>대신증권 박혜진</td>\n",
       "      <td>컨센서스 +50% 이상 상회하는 어닝서프라이즈 달성\\n- 거래대금 반등 효과 가장 ...</td>\n",
       "      <td>2023/05/10</td>\n",
       "      <td>키움증권</td>\n",
       "      <td>039490</td>\n",
       "      <td>대신증권</td>\n",
       "      <td>박혜진</td>\n",
       "      <td>91000</td>\n",
       "      <td>91600</td>\n",
       "      <td>93300</td>\n",
       "      <td>94500</td>\n",
       "      <td>96000</td>\n",
       "      <td>96000</td>\n",
       "      <td>-1</td>\n",
       "      <td>0.538462</td>\n",
       "      <td>0.048035</td>\n",
       "    </tr>\n",
       "    <tr>\n",
       "      <th>28442</th>\n",
       "      <td>BUY</td>\n",
       "      <td>260000.0</td>\n",
       "      <td>삼성증권 양일우</td>\n",
       "      <td>배당 증가를 가능케 하는 다양한 재원들\\n- DPS 5,000원은 충분히 가능</td>\n",
       "      <td>2023/05/10</td>\n",
       "      <td>SK</td>\n",
       "      <td>034730</td>\n",
       "      <td>삼성증권</td>\n",
       "      <td>양일우</td>\n",
       "      <td>167000</td>\n",
       "      <td>167000</td>\n",
       "      <td>166300</td>\n",
       "      <td>164100</td>\n",
       "      <td>172000</td>\n",
       "      <td>173100</td>\n",
       "      <td>-1</td>\n",
       "      <td>0.556886</td>\n",
       "      <td>0.036527</td>\n",
       "    </tr>\n",
       "  </tbody>\n",
       "</table>\n",
       "<p>10367 rows × 18 columns</p>\n",
       "</div>"
      ],
      "text/plain": [
       "      invest_opinion  price_goal    reporter  \\\n",
       "0                BUY    160000.0  유진투자증권 이승우   \n",
       "1                BUY    300000.0    KB증권 강승건   \n",
       "2                BUY    106000.0   유안타증권 이재윤   \n",
       "5                BUY    300000.0  DB금융투자 김평모   \n",
       "9                 매수     13500.0    신영증권 서정연   \n",
       "...              ...         ...         ...   \n",
       "28411            BUY    110000.0  유진투자증권 정의훈   \n",
       "28412            BUY     44000.0    흥국증권 최종경   \n",
       "28426            BUY     86000.0    대신증권 유정현   \n",
       "28435            BUY    140000.0    대신증권 박혜진   \n",
       "28442            BUY    260000.0    삼성증권 양일우   \n",
       "\n",
       "                                                contents       dates company  \\\n",
       "0              4분기 영업이익 4.2조원 예상\\n- 시안 봉쇄로 메모리 업황에 변수 발생  2022/01/03  SK하이닉스   \n",
       "1      투자의견 Buy, 목표주가 300,000원으로 직전대비 4.8% 하향\\n- 4Q21...  2022/01/03    삼성화재   \n",
       "2      4Q21 영업이익 1,366억원으로 컨센서스 대폭 상회할 전망\\n- 22년 연간 영...  2022/01/03   DB하이텍   \n",
       "5                        22년 물량 회복 전망\\n- 22년까지 지속될 신차 효과  2022/01/03     현대차   \n",
       "9                             GKL 카지노 입점 확정\\n- 카지노 효과 기대  2022/01/03   서부T&D   \n",
       "...                                                  ...         ...     ...   \n",
       "28411  1분기 매출액 644억원, 영업이익 8억원. 당사 매출 추정치(574억원)과 영업이...  2023/05/10  인텔리안테크   \n",
       "28412  1Q23 Review: 영업수익 +11%, 영업이익 +21% YoY\\n- 시장의 기...  2023/05/10    롯데렌탈   \n",
       "28426  백화점부문 대전점 영업중단 영향 제거 시 1분기 영업이익 약 2% 증가\\n- 면세점...  2023/05/10   현대백화점   \n",
       "28435  컨센서스 +50% 이상 상회하는 어닝서프라이즈 달성\\n- 거래대금 반등 효과 가장 ...  2023/05/10    키움증권   \n",
       "28442        배당 증가를 가능케 하는 다양한 재원들\\n- DPS 5,000원은 충분히 가능  2023/05/10      SK   \n",
       "\n",
       "        codes report_company report_name  0_Close  1_Open  1_Close  5_Close  \\\n",
       "0      000660         유진투자증권         이승우    75700   75600    75600    86000   \n",
       "1      000810           KB증권         강승건   194500  196500   194000   201500   \n",
       "2      000990          유안타증권         이재윤    36600   36300    37500    43100   \n",
       "5      005380         DB금융투자         김평모   157000  158500   159000   164000   \n",
       "9      006730           신영증권         서정연     7380    7480     7420     7800   \n",
       "...       ...            ...         ...      ...     ...      ...      ...   \n",
       "28411  189300         유진투자증권         정의훈    72606   73477    72800    73865   \n",
       "28412  089860           흥국증권         최종경    27500   27700    27550    27200   \n",
       "28426  069960           대신증권         유정현    52400   52600    52200    52200   \n",
       "28435  039490           대신증권         박혜진    91000   91600    93300    94500   \n",
       "28442  034730           삼성증권         양일우   167000  167000   166300   164100   \n",
       "\n",
       "       10_Close  20_Close  50_Close  price_goal_ratio     ratio  \n",
       "0         85800     91400     79000          1.113606  0.208995  \n",
       "1        200500    208000    212500          0.542416  0.058524  \n",
       "2         43450     44950     47150          1.896175  0.238292  \n",
       "5        166500    170000    174000          0.910828  0.072555  \n",
       "9          7920      7970      7050          0.829268  0.065508  \n",
       "...         ...       ...       ...               ...       ...  \n",
       "28411     72800     68500        -1          0.515026 -0.067735  \n",
       "28412     27700     29000        -1          0.600000  0.046931  \n",
       "28426     52500     51900        -1          0.641221 -0.013308  \n",
       "28435     96000     96000        -1          0.538462  0.048035  \n",
       "28442    172000    173100        -1          0.556886  0.036527  \n",
       "\n",
       "[10367 rows x 18 columns]"
      ]
     },
     "execution_count": 273,
     "metadata": {},
     "output_type": "execute_result"
    }
   ],
   "source": [
    "df_go['invest_opinion'].unique()"
   ]
  },
  {
   "cell_type": "code",
   "execution_count": 272,
   "metadata": {},
   "outputs": [
    {
     "data": {
      "text/plain": [
       "<matplotlib.axes._subplots.AxesSubplot at 0x7f7a2955cb50>"
      ]
     },
     "execution_count": 272,
     "metadata": {},
     "output_type": "execute_result"
    },
    {
     "data": {
      "image/png": "[encoded data removed]",
      "text/plain": [
       "<Figure size 432x288 with 1 Axes>"
      ]
     },
     "metadata": {
      "needs_background": "light"
     },
     "output_type": "display_data"
    }
   ],
   "source": [
    "df_go['ratio'].plot(kind='hist', bins=100)"
   ]
  },
  {
   "cell_type": "markdown",
   "metadata": {},
   "source": [
    "### workspace"
   ]
  },
  {
   "cell_type": "code",
   "execution_count": 580,
   "metadata": {},
   "outputs": [],
   "source": [
    "codes = df['codes'].unique()"
   ]
  },
  {
   "cell_type": "code",
   "execution_count": 581,
   "metadata": {},
   "outputs": [
    {
     "name": "stderr",
     "output_type": "stream",
     "text": [
      "100%|██████████| 1504/1504 [03:27<00:00,  7.26it/s]\n"
     ]
    }
   ],
   "source": [
    "# fdr에서 데이터 local로 다운로드\n",
    "for code in tqdm(codes):\n",
    "    df_stock = fdr.DataReader(code, '2022', '2024')\n",
    "    df_stock.to_csv(f'data_stock/{code}.csv')"
   ]
  },
  {
   "cell_type": "code",
   "execution_count": null,
   "metadata": {},
   "outputs": [],
   "source": []
  }
 ],
 "metadata": {
  "kernelspec": {
   "display_name": "py37",
   "language": "python",
   "name": "py37"
  },
  "language_info": {
   "codemirror_mode": {
    "name": "ipython",
    "version": 3
   },
   "file_extension": ".py",
   "mimetype": "text/x-python",
   "name": "python",
   "nbconvert_exporter": "python",
   "pygments_lexer": "ipython3",
   "version": "3.7.6"
  }
 },
 "nbformat": 4,
 "nbformat_minor": 5
}
