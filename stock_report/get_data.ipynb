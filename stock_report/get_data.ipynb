{
 "cells": [
  {
   "cell_type": "code",
   "execution_count": 1,
   "id": "53fb5018",
   "metadata": {},
   "outputs": [],
   "source": [
    "import requests\n",
    "import time\n",
    "from bs4 import BeautifulSoup as bs\n",
    "import datetime\n",
    "import pandas as pd\n",
    "import time"
   ]
  },
  {
   "cell_type": "code",
   "execution_count": 2,
   "id": "9a554712",
   "metadata": {},
   "outputs": [],
   "source": [
    "class Connect:\n",
    "    def __init__(self):\n",
    "        self.headers = {\n",
    "            \"User-Agent\": \"Mozilla/5.0 (Windows NT 10.0; Win64; x64) AppleWebKit/537.36 (KHTML, like Gecko) Chrome/91.0.4472.124 Safari/537.36\"\n",
    "        }\n",
    "        \n",
    "    def req(self, url, timeout=20):\n",
    "        try:\n",
    "            res = requests.get(url, timeout=timeout, headers=self.headers)\n",
    "            return res\n",
    "        except:\n",
    "            print('Request Error,', datetime.datetime.now())\n",
    "            return -1"
   ]
  },
  {
   "cell_type": "code",
   "execution_count": 3,
   "id": "0335f707",
   "metadata": {},
   "outputs": [],
   "source": [
    "class Preprocessor:\n",
    "    def __init__(self, res):\n",
    "        self.res = res\n",
    "        \n",
    "    def get_new_reports(self):\n",
    "        soup = bs(self.res.text, features='html.parser')\n",
    "        um_tdinsm = soup.find_all('dl', attrs={'class':'um_tdinsm'})\n",
    "        gbox = soup.find_all('span', attrs={'class':'gpbox'})\n",
    "        rs = soup.find_all('td', attrs={'class':'r'})\n",
    "        clfs = soup.find_all('td', attrs={'class':'clf'})\n",
    "\n",
    "        invest_opinion = [x.text.strip() for x in gbox[::3]]\n",
    "        price_goal = [x.text.strip() for x in gbox[1::3]]\n",
    "        dates = [x.text.strip() for x in clfs]\n",
    "        reporter = []\n",
    "        for i in gbox[2::3]:\n",
    "            reporter.append(''.join([str(x) for x in i.contents[1:]]).replace('<br/>', ' ').strip())\n",
    "        price_before = [x.text.strip() for x in rs[1::2]]\n",
    "        titles = []\n",
    "        contents = []\n",
    "        for ele in um_tdinsm:\n",
    "            title = ele.find('dt').text\n",
    "            content = '\\n- '.join([x.text.strip() for x in ele.findAll('dd')])\n",
    "            titles.append(title)\n",
    "            contents.append(content)\n",
    "        df = pd.DataFrame({\n",
    "            'invest_opinion': invest_opinion,\n",
    "            'price_goal': price_goal,\n",
    "            'reporter': reporter,\n",
    "            'titles': titles,\n",
    "            'contents': contents,\n",
    "            'dates': dates\n",
    "        })\n",
    "        return df"
   ]
  },
  {
   "cell_type": "code",
   "execution_count": 4,
   "id": "496e32ba",
   "metadata": {},
   "outputs": [],
   "source": [
    "start_date_str = '20220101'\n",
    "end_date_str = '20221231'\n",
    "start_date = datetime.datetime.strptime(start_date_str, \"%Y%m%d\")\n",
    "end_date = datetime.datetime.strptime(end_date_str, \"%Y%m%d\")"
   ]
  },
  {
   "cell_type": "code",
   "execution_count": 5,
   "id": "10bd15e9",
   "metadata": {
    "scrolled": true
   },
   "outputs": [
    {
     "name": "stdout",
     "output_type": "stream",
     "text": [
      "20220101 20220111\n",
      "20220111 20220121\n",
      "20220121 20220131\n",
      "20220131 20220210\n",
      "20220210 20220220\n",
      "20220220 20220302\n",
      "20220302 20220312\n",
      "20220312 20220322\n",
      "20220322 20220401\n",
      "20220401 20220411\n",
      "20220411 20220421\n",
      "20220421 20220501\n",
      "20220501 20220511\n",
      "20220511 20220521\n",
      "20220521 20220531\n",
      "20220531 20220610\n",
      "20220610 20220620\n",
      "20220620 20220630\n",
      "20220630 20220710\n",
      "20220710 20220720\n",
      "20220720 20220730\n",
      "20220730 20220809\n",
      "20220809 20220819\n",
      "20220819 20220829\n",
      "20220829 20220908\n",
      "20220908 20220918\n",
      "20220918 20220928\n",
      "20220928 20221008\n",
      "20221008 20221018\n",
      "20221018 20221028\n",
      "20221028 20221107\n",
      "20221107 20221117\n",
      "20221117 20221127\n",
      "20221127 20221207\n",
      "20221207 20221217\n",
      "20221217 20221227\n",
      "20221227 20230106\n"
     ]
    }
   ],
   "source": [
    "df = pd.DataFrame()\n",
    "while True:\n",
    "    fr_dt = start_date.strftime('%Y%m%d')\n",
    "    start_date += datetime.timedelta(days=10)\n",
    "    to_dt = start_date.strftime('%Y%m%d')\n",
    "    if to_dt > end_date_str:\n",
    "        to_dt = end_date_str\n",
    "    print(fr_dt, to_dt)\n",
    "    url = f'https://comp.fnguide.com/svo2/asp/SVD_Report_Summary_Data.asp?fr_dt={fr_dt}&to_dt={to_dt}&stext=&check=all&_={int(time.time()*1000)}'\n",
    "    connector = Connect()\n",
    "    res = connector.req(url)\n",
    "    ps = Preprocessor(res)\n",
    "    df_part = ps.get_new_reports()\n",
    "    df = pd.concat([df, df_part])\n",
    "    if to_dt == end_date_str:\n",
    "        break\n",
    "    time.sleep(5)"
   ]
  },
  {
   "cell_type": "code",
   "execution_count": 8,
   "id": "284f9e27",
   "metadata": {},
   "outputs": [],
   "source": [
    "df.to_csv('data/report_220101_221231.csv', index=False)"
   ]
  },
  {
   "cell_type": "markdown",
   "id": "2474ad23",
   "metadata": {},
   "source": [
    "### workspace"
   ]
  },
  {
   "cell_type": "code",
   "execution_count": 24,
   "id": "da06d8ec",
   "metadata": {},
   "outputs": [],
   "source": [
    "soup = bs(res.text, features='html.parser')\n",
    "um_tdinsm = soup.find_all('dl', attrs={'class':'um_tdinsm'})\n",
    "gbox = soup.find_all('span', attrs={'class':'gpbox'})\n",
    "rs = soup.find_all('td', attrs={'class':'r'})\n",
    "clfs = soup.find_all('td', attrs={'class':'clf'})"
   ]
  },
  {
   "cell_type": "code",
   "execution_count": 47,
   "id": "4fe96b7f",
   "metadata": {},
   "outputs": [
    {
     "data": {
      "text/plain": [
       "86"
      ]
     },
     "execution_count": 47,
     "metadata": {},
     "output_type": "execute_result"
    }
   ],
   "source": [
    "len()"
   ]
  },
  {
   "cell_type": "code",
   "execution_count": 45,
   "id": "b2ef61d3",
   "metadata": {},
   "outputs": [
    {
     "data": {
      "text/plain": [
       "'2023/06/01'"
      ]
     },
     "execution_count": 45,
     "metadata": {},
     "output_type": "execute_result"
    }
   ],
   "source": [
    "soup.find_all('td', attrs={'class':'clf'})[0].text"
   ]
  },
  {
   "cell_type": "code",
   "execution_count": 37,
   "id": "b64ec2cc",
   "metadata": {},
   "outputs": [
    {
     "data": {
      "text/plain": [
       "<span class=\"gpbox\"> <img alt=\"유지\" class=\"gp_img hold\" src=\"../img/shbg.png\"/>BUY</span>"
      ]
     },
     "execution_count": 37,
     "metadata": {},
     "output_type": "execute_result"
    }
   ],
   "source": [
    "gbox[3]"
   ]
  },
  {
   "cell_type": "code",
   "execution_count": 25,
   "id": "8f97f594",
   "metadata": {},
   "outputs": [],
   "source": [
    "invest_opinion = [x.text.strip() for x in gbox[::3]]\n",
    "price_goal = [x.text.strip() for x in gbox[1::3]]\n",
    "reporter = []\n",
    "for i in gbox[2::3]:\n",
    "    reporter.append(''.join([str(x) for x in i.contents[1:]]).replace('<br/>', ' ').strip())\n",
    "price_before = [x.text.strip() for x in rs[1::2]]\n",
    "titles = []\n",
    "contents = []\n",
    "for ele in um_tdinsm:\n",
    "    title = ele.find('dt').text\n",
    "    content = '\\n- '.join([x.text.strip() for x in ele.findAll('dd')])\n",
    "    titles.append(title)\n",
    "    contents.append(content)"
   ]
  },
  {
   "cell_type": "code",
   "execution_count": 26,
   "id": "2e1ff9bb",
   "metadata": {},
   "outputs": [],
   "source": [
    "df = pd.DataFrame({\n",
    "            'invest_opinion': invest_opinion,\n",
    "            'price_goal': price_goal,\n",
    "            'reporter': reporter,\n",
    "            'titles': titles,\n",
    "            'contents': contents\n",
    "        })"
   ]
  },
  {
   "cell_type": "code",
   "execution_count": null,
   "id": "34cf5546",
   "metadata": {},
   "outputs": [],
   "source": []
  },
  {
   "cell_type": "code",
   "execution_count": null,
   "id": "0c986a21",
   "metadata": {},
   "outputs": [],
   "source": [
    "result = {}\n",
    "for i in range(len(titles)):\n",
    "    if title not in visited:\n",
    "        text = f\"{titles[i]}\\n\\n- {contents[i]}\\n\\n투자의견: {invest_opinion[i]}\\n목표주가: {price_goal[i]}\\n전일종가: {price_before[i]}\\n제공처/작성자: {reporter[i]}\"\n",
    "        result[titles[i]] = text\n",
    "return result"
   ]
  },
  {
   "cell_type": "code",
   "execution_count": null,
   "id": "5c35e2ab",
   "metadata": {},
   "outputs": [],
   "source": []
  },
  {
   "cell_type": "code",
   "execution_count": null,
   "id": "ed5d8027",
   "metadata": {},
   "outputs": [],
   "source": []
  },
  {
   "cell_type": "code",
   "execution_count": 16,
   "id": "c616d13a",
   "metadata": {},
   "outputs": [],
   "source": [
    "ps = Preprocessor(res)"
   ]
  },
  {
   "cell_type": "code",
   "execution_count": 17,
   "id": "9d0960c5",
   "metadata": {},
   "outputs": [
    {
     "data": {
      "text/plain": [
       "'https://comp.fnguide.com/svo2/asp/SVD_Report_Summary_Data.asp?fr_dt=20230101&to_dt=20230531&stext=&check=all&_=1686329091734'"
      ]
     },
     "execution_count": 17,
     "metadata": {},
     "output_type": "execute_result"
    }
   ],
   "source": [
    "url"
   ]
  },
  {
   "cell_type": "code",
   "execution_count": 18,
   "id": "ade98c32",
   "metadata": {},
   "outputs": [
    {
     "data": {
      "text/plain": [
       "{}"
      ]
     },
     "execution_count": 18,
     "metadata": {},
     "output_type": "execute_result"
    }
   ],
   "source": [
    "ps.get_new_reports({})"
   ]
  },
  {
   "cell_type": "code",
   "execution_count": null,
   "id": "69191c8b",
   "metadata": {},
   "outputs": [],
   "source": []
  },
  {
   "cell_type": "code",
   "execution_count": null,
   "id": "f2488f59",
   "metadata": {},
   "outputs": [],
   "source": []
  }
 ],
 "metadata": {
  "kernelspec": {
   "display_name": "crawl",
   "language": "python",
   "name": ".venv_cr"
  },
  "language_info": {
   "codemirror_mode": {
    "name": "ipython",
    "version": 3
   },
   "file_extension": ".py",
   "mimetype": "text/x-python",
   "name": "python",
   "nbconvert_exporter": "python",
   "pygments_lexer": "ipython3",
   "version": "3.9.13"
  }
 },
 "nbformat": 4,
 "nbformat_minor": 5
}
